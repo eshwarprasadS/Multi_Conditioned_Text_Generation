{
  "cells": [
    {
      "cell_type": "code",
      "execution_count": null,
      "metadata": {
        "colab": {
          "base_uri": "https://localhost:8080/"
        },
        "id": "sfF-8br92ScV",
        "outputId": "0040f384-5030-41ad-f01f-426ad1db7770"
      },
      "outputs": [
        {
          "output_type": "stream",
          "name": "stdout",
          "text": [
            "Mounted at /content/drive\n"
          ]
        }
      ],
      "source": [
        "from google.colab import drive\n",
        "drive.mount('/content/drive')"
      ]
    },
    {
      "cell_type": "code",
      "execution_count": null,
      "metadata": {
        "colab": {
          "base_uri": "https://localhost:8080/"
        },
        "id": "seVs4sbN2WEr",
        "outputId": "f4dd6d2a-5a70-4c20-fede-4e474bbab3ef"
      },
      "outputs": [
        {
          "name": "stdout",
          "output_type": "stream",
          "text": [
            "Collecting transformers\n",
            "  Downloading transformers-4.18.0-py3-none-any.whl (4.0 MB)\n",
            "\u001b[K     |████████████████████████████████| 4.0 MB 26.5 MB/s \n",
            "\u001b[?25hCollecting huggingface-hub<1.0,>=0.1.0\n",
            "  Downloading huggingface_hub-0.5.1-py3-none-any.whl (77 kB)\n",
            "\u001b[K     |████████████████████████████████| 77 kB 7.4 MB/s \n",
            "\u001b[?25hCollecting sacremoses\n",
            "  Downloading sacremoses-0.0.49-py3-none-any.whl (895 kB)\n",
            "\u001b[K     |████████████████████████████████| 895 kB 60.4 MB/s \n",
            "\u001b[?25hRequirement already satisfied: numpy>=1.17 in /usr/local/lib/python3.7/dist-packages (from transformers) (1.21.5)\n",
            "Requirement already satisfied: tqdm>=4.27 in /usr/local/lib/python3.7/dist-packages (from transformers) (4.64.0)\n",
            "Requirement already satisfied: requests in /usr/local/lib/python3.7/dist-packages (from transformers) (2.23.0)\n",
            "Requirement already satisfied: importlib-metadata in /usr/local/lib/python3.7/dist-packages (from transformers) (4.11.3)\n",
            "Requirement already satisfied: filelock in /usr/local/lib/python3.7/dist-packages (from transformers) (3.6.0)\n",
            "Collecting tokenizers!=0.11.3,<0.13,>=0.11.1\n",
            "  Downloading tokenizers-0.12.1-cp37-cp37m-manylinux_2_12_x86_64.manylinux2010_x86_64.whl (6.6 MB)\n",
            "\u001b[K     |████████████████████████████████| 6.6 MB 63.2 MB/s \n",
            "\u001b[?25hRequirement already satisfied: packaging>=20.0 in /usr/local/lib/python3.7/dist-packages (from transformers) (21.3)\n",
            "Collecting pyyaml>=5.1\n",
            "  Downloading PyYAML-6.0-cp37-cp37m-manylinux_2_5_x86_64.manylinux1_x86_64.manylinux_2_12_x86_64.manylinux2010_x86_64.whl (596 kB)\n",
            "\u001b[K     |████████████████████████████████| 596 kB 56.5 MB/s \n",
            "\u001b[?25hRequirement already satisfied: regex!=2019.12.17 in /usr/local/lib/python3.7/dist-packages (from transformers) (2019.12.20)\n",
            "Requirement already satisfied: typing-extensions>=3.7.4.3 in /usr/local/lib/python3.7/dist-packages (from huggingface-hub<1.0,>=0.1.0->transformers) (4.1.1)\n",
            "Requirement already satisfied: pyparsing!=3.0.5,>=2.0.2 in /usr/local/lib/python3.7/dist-packages (from packaging>=20.0->transformers) (3.0.8)\n",
            "Requirement already satisfied: zipp>=0.5 in /usr/local/lib/python3.7/dist-packages (from importlib-metadata->transformers) (3.8.0)\n",
            "Requirement already satisfied: urllib3!=1.25.0,!=1.25.1,<1.26,>=1.21.1 in /usr/local/lib/python3.7/dist-packages (from requests->transformers) (1.24.3)\n",
            "Requirement already satisfied: idna<3,>=2.5 in /usr/local/lib/python3.7/dist-packages (from requests->transformers) (2.10)\n",
            "Requirement already satisfied: certifi>=2017.4.17 in /usr/local/lib/python3.7/dist-packages (from requests->transformers) (2021.10.8)\n",
            "Requirement already satisfied: chardet<4,>=3.0.2 in /usr/local/lib/python3.7/dist-packages (from requests->transformers) (3.0.4)\n",
            "Requirement already satisfied: six in /usr/local/lib/python3.7/dist-packages (from sacremoses->transformers) (1.15.0)\n",
            "Requirement already satisfied: click in /usr/local/lib/python3.7/dist-packages (from sacremoses->transformers) (7.1.2)\n",
            "Requirement already satisfied: joblib in /usr/local/lib/python3.7/dist-packages (from sacremoses->transformers) (1.1.0)\n",
            "Installing collected packages: pyyaml, tokenizers, sacremoses, huggingface-hub, transformers\n",
            "  Attempting uninstall: pyyaml\n",
            "    Found existing installation: PyYAML 3.13\n",
            "    Uninstalling PyYAML-3.13:\n",
            "      Successfully uninstalled PyYAML-3.13\n",
            "Successfully installed huggingface-hub-0.5.1 pyyaml-6.0 sacremoses-0.0.49 tokenizers-0.12.1 transformers-4.18.0\n",
            "Collecting datasets\n",
            "  Downloading datasets-2.1.0-py3-none-any.whl (325 kB)\n",
            "\u001b[K     |████████████████████████████████| 325 kB 29.3 MB/s \n",
            "\u001b[?25hCollecting responses<0.19\n",
            "  Downloading responses-0.18.0-py3-none-any.whl (38 kB)\n",
            "Requirement already satisfied: pyarrow>=5.0.0 in /usr/local/lib/python3.7/dist-packages (from datasets) (6.0.1)\n",
            "Requirement already satisfied: tqdm>=4.62.1 in /usr/local/lib/python3.7/dist-packages (from datasets) (4.64.0)\n",
            "Collecting aiohttp\n",
            "  Downloading aiohttp-3.8.1-cp37-cp37m-manylinux_2_5_x86_64.manylinux1_x86_64.manylinux_2_12_x86_64.manylinux2010_x86_64.whl (1.1 MB)\n",
            "\u001b[K     |████████████████████████████████| 1.1 MB 58.5 MB/s \n",
            "\u001b[?25hRequirement already satisfied: packaging in /usr/local/lib/python3.7/dist-packages (from datasets) (21.3)\n",
            "Requirement already satisfied: numpy>=1.17 in /usr/local/lib/python3.7/dist-packages (from datasets) (1.21.5)\n",
            "Collecting fsspec[http]>=2021.05.0\n",
            "  Downloading fsspec-2022.3.0-py3-none-any.whl (136 kB)\n",
            "\u001b[K     |████████████████████████████████| 136 kB 74.9 MB/s \n",
            "\u001b[?25hCollecting xxhash\n",
            "  Downloading xxhash-3.0.0-cp37-cp37m-manylinux_2_17_x86_64.manylinux2014_x86_64.whl (212 kB)\n",
            "\u001b[K     |████████████████████████████████| 212 kB 71.6 MB/s \n",
            "\u001b[?25hRequirement already satisfied: multiprocess in /usr/local/lib/python3.7/dist-packages (from datasets) (0.70.12.2)\n",
            "Requirement already satisfied: importlib-metadata in /usr/local/lib/python3.7/dist-packages (from datasets) (4.11.3)\n",
            "Requirement already satisfied: dill in /usr/local/lib/python3.7/dist-packages (from datasets) (0.3.4)\n",
            "Requirement already satisfied: huggingface-hub<1.0.0,>=0.1.0 in /usr/local/lib/python3.7/dist-packages (from datasets) (0.5.1)\n",
            "Requirement already satisfied: pandas in /usr/local/lib/python3.7/dist-packages (from datasets) (1.3.5)\n",
            "Requirement already satisfied: requests>=2.19.0 in /usr/local/lib/python3.7/dist-packages (from datasets) (2.23.0)\n",
            "Requirement already satisfied: pyyaml in /usr/local/lib/python3.7/dist-packages (from huggingface-hub<1.0.0,>=0.1.0->datasets) (6.0)\n",
            "Requirement already satisfied: typing-extensions>=3.7.4.3 in /usr/local/lib/python3.7/dist-packages (from huggingface-hub<1.0.0,>=0.1.0->datasets) (4.1.1)\n",
            "Requirement already satisfied: filelock in /usr/local/lib/python3.7/dist-packages (from huggingface-hub<1.0.0,>=0.1.0->datasets) (3.6.0)\n",
            "Requirement already satisfied: pyparsing!=3.0.5,>=2.0.2 in /usr/local/lib/python3.7/dist-packages (from packaging->datasets) (3.0.8)\n",
            "Requirement already satisfied: chardet<4,>=3.0.2 in /usr/local/lib/python3.7/dist-packages (from requests>=2.19.0->datasets) (3.0.4)\n",
            "Requirement already satisfied: urllib3!=1.25.0,!=1.25.1,<1.26,>=1.21.1 in /usr/local/lib/python3.7/dist-packages (from requests>=2.19.0->datasets) (1.24.3)\n",
            "Requirement already satisfied: certifi>=2017.4.17 in /usr/local/lib/python3.7/dist-packages (from requests>=2.19.0->datasets) (2021.10.8)\n",
            "Requirement already satisfied: idna<3,>=2.5 in /usr/local/lib/python3.7/dist-packages (from requests>=2.19.0->datasets) (2.10)\n",
            "Collecting urllib3!=1.25.0,!=1.25.1,<1.26,>=1.21.1\n",
            "  Downloading urllib3-1.25.11-py2.py3-none-any.whl (127 kB)\n",
            "\u001b[K     |████████████████████████████████| 127 kB 75.3 MB/s \n",
            "\u001b[?25hCollecting async-timeout<5.0,>=4.0.0a3\n",
            "  Downloading async_timeout-4.0.2-py3-none-any.whl (5.8 kB)\n",
            "Collecting yarl<2.0,>=1.0\n",
            "  Downloading yarl-1.7.2-cp37-cp37m-manylinux_2_5_x86_64.manylinux1_x86_64.manylinux_2_12_x86_64.manylinux2010_x86_64.whl (271 kB)\n",
            "\u001b[K     |████████████████████████████████| 271 kB 73.7 MB/s \n",
            "\u001b[?25hCollecting multidict<7.0,>=4.5\n",
            "  Downloading multidict-6.0.2-cp37-cp37m-manylinux_2_17_x86_64.manylinux2014_x86_64.whl (94 kB)\n",
            "\u001b[K     |████████████████████████████████| 94 kB 4.6 MB/s \n",
            "\u001b[?25hCollecting asynctest==0.13.0\n",
            "  Downloading asynctest-0.13.0-py3-none-any.whl (26 kB)\n",
            "Collecting aiosignal>=1.1.2\n",
            "  Downloading aiosignal-1.2.0-py3-none-any.whl (8.2 kB)\n",
            "Requirement already satisfied: attrs>=17.3.0 in /usr/local/lib/python3.7/dist-packages (from aiohttp->datasets) (21.4.0)\n",
            "Requirement already satisfied: charset-normalizer<3.0,>=2.0 in /usr/local/lib/python3.7/dist-packages (from aiohttp->datasets) (2.0.12)\n",
            "Collecting frozenlist>=1.1.1\n",
            "  Downloading frozenlist-1.3.0-cp37-cp37m-manylinux_2_5_x86_64.manylinux1_x86_64.manylinux_2_17_x86_64.manylinux2014_x86_64.whl (144 kB)\n",
            "\u001b[K     |████████████████████████████████| 144 kB 72.5 MB/s \n",
            "\u001b[?25hRequirement already satisfied: zipp>=0.5 in /usr/local/lib/python3.7/dist-packages (from importlib-metadata->datasets) (3.8.0)\n",
            "Requirement already satisfied: python-dateutil>=2.7.3 in /usr/local/lib/python3.7/dist-packages (from pandas->datasets) (2.8.2)\n",
            "Requirement already satisfied: pytz>=2017.3 in /usr/local/lib/python3.7/dist-packages (from pandas->datasets) (2018.9)\n",
            "Requirement already satisfied: six>=1.5 in /usr/local/lib/python3.7/dist-packages (from python-dateutil>=2.7.3->pandas->datasets) (1.15.0)\n",
            "Installing collected packages: multidict, frozenlist, yarl, urllib3, asynctest, async-timeout, aiosignal, fsspec, aiohttp, xxhash, responses, datasets\n",
            "  Attempting uninstall: urllib3\n",
            "    Found existing installation: urllib3 1.24.3\n",
            "    Uninstalling urllib3-1.24.3:\n",
            "      Successfully uninstalled urllib3-1.24.3\n",
            "\u001b[31mERROR: pip's dependency resolver does not currently take into account all the packages that are installed. This behaviour is the source of the following dependency conflicts.\n",
            "datascience 0.10.6 requires folium==0.2.1, but you have folium 0.8.3 which is incompatible.\u001b[0m\n",
            "Successfully installed aiohttp-3.8.1 aiosignal-1.2.0 async-timeout-4.0.2 asynctest-0.13.0 datasets-2.1.0 frozenlist-1.3.0 fsspec-2022.3.0 multidict-6.0.2 responses-0.18.0 urllib3-1.25.11 xxhash-3.0.0 yarl-1.7.2\n"
          ]
        }
      ],
      "source": [
        "!pip install transformers\n",
        "!pip install datasets"
      ]
    },
    {
      "cell_type": "code",
      "execution_count": null,
      "metadata": {
        "id": "DkMJzJJo2wOL"
      },
      "outputs": [],
      "source": [
        "import pandas as pd\n",
        "import numpy as np\n",
        "from transformers import GPT2LMHeadModel, GPT2Tokenizer\n",
        "import random\n",
        "import torch\n",
        "from torch.utils.data import Dataset, DataLoader\n",
        "from transformers import GPT2Tokenizer, GPT2LMHeadModel, AdamW, get_linear_schedule_with_warmup\n",
        "from tqdm import tqdm, trange\n",
        "import torch.nn.functional as F\n",
        "import csv\n",
        "import ast"
      ]
    },
    {
      "cell_type": "code",
      "execution_count": null,
      "metadata": {
        "colab": {
          "base_uri": "https://localhost:8080/",
          "height": 1000
        },
        "id": "nlcKbNLyIKYY",
        "outputId": "d3998845-8ed3-43dc-d12d-ae8322f36ff8"
      },
      "outputs": [
        {
          "data": {
            "text/html": [
              "\n",
              "  <div id=\"df-41d6f088-6686-48fa-8d40-3c77409021ad\">\n",
              "    <div class=\"colab-df-container\">\n",
              "      <div>\n",
              "<style scoped>\n",
              "    .dataframe tbody tr th:only-of-type {\n",
              "        vertical-align: middle;\n",
              "    }\n",
              "\n",
              "    .dataframe tbody tr th {\n",
              "        vertical-align: top;\n",
              "    }\n",
              "\n",
              "    .dataframe thead th {\n",
              "        text-align: right;\n",
              "    }\n",
              "</style>\n",
              "<table border=\"1\" class=\"dataframe\">\n",
              "  <thead>\n",
              "    <tr style=\"text-align: right;\">\n",
              "      <th></th>\n",
              "      <th>Unnamed: 0</th>\n",
              "      <th>Unnamed: 0.1</th>\n",
              "      <th>title</th>\n",
              "      <th>body</th>\n",
              "      <th>num_comments</th>\n",
              "      <th>verdict</th>\n",
              "      <th>word_count</th>\n",
              "      <th>has_tldr</th>\n",
              "      <th>has_background</th>\n",
              "      <th>has_update</th>\n",
              "      <th>has_edit</th>\n",
              "      <th>keywords</th>\n",
              "      <th>title_key_word</th>\n",
              "    </tr>\n",
              "  </thead>\n",
              "  <tbody>\n",
              "    <tr>\n",
              "      <th>0</th>\n",
              "      <td>1881</td>\n",
              "      <td>1881</td>\n",
              "      <td>aita for asking my boyfriend to drive me to th...</td>\n",
              "      <td>i am very, very sick right now with the flu. i...</td>\n",
              "      <td>43.0</td>\n",
              "      <td>not the asshole</td>\n",
              "      <td>573</td>\n",
              "      <td>False</td>\n",
              "      <td>False</td>\n",
              "      <td>False</td>\n",
              "      <td>True</td>\n",
              "      <td>['hospital', 'drive', 'boyfriend', 'asking', '...</td>\n",
              "      <td>['aita asking', 'boyfriend drive', 'hospital',...</td>\n",
              "    </tr>\n",
              "    <tr>\n",
              "      <th>1</th>\n",
              "      <td>33358</td>\n",
              "      <td>33358</td>\n",
              "      <td>aita for buying a phone off of my close friend...</td>\n",
              "      <td>my friend let’s call her zoe &amp; her ex let’s ca...</td>\n",
              "      <td>24.0</td>\n",
              "      <td>not the asshole</td>\n",
              "      <td>267</td>\n",
              "      <td>False</td>\n",
              "      <td>False</td>\n",
              "      <td>False</td>\n",
              "      <td>False</td>\n",
              "      <td>['close friend ’', 'ex boyfriend', 'phone', 'b...</td>\n",
              "      <td>['buying phone', 'aita', 'friend', 'ex boyfrie...</td>\n",
              "    </tr>\n",
              "    <tr>\n",
              "      <th>2</th>\n",
              "      <td>36512</td>\n",
              "      <td>36512</td>\n",
              "      <td>aita for not answering my phone to my mom duri...</td>\n",
              "      <td>3 months ago i was going to a sleepover with m...</td>\n",
              "      <td>20.0</td>\n",
              "      <td>asshole</td>\n",
              "      <td>232</td>\n",
              "      <td>False</td>\n",
              "      <td>False</td>\n",
              "      <td>False</td>\n",
              "      <td>False</td>\n",
              "      <td>['sleepover', 'phone', 'mom', 'answering', 'ai...</td>\n",
              "      <td>['mom sleepover', 'aita answering', 'phone', '...</td>\n",
              "    </tr>\n",
              "    <tr>\n",
              "      <th>3</th>\n",
              "      <td>28733</td>\n",
              "      <td>28733</td>\n",
              "      <td>aita for asking my girlfriend to straighten he...</td>\n",
              "      <td>so some backstory. my girlfriend has really be...</td>\n",
              "      <td>58.0</td>\n",
              "      <td>asshole</td>\n",
              "      <td>418</td>\n",
              "      <td>False</td>\n",
              "      <td>False</td>\n",
              "      <td>False</td>\n",
              "      <td>False</td>\n",
              "      <td>['straighten', 'hair', 'girlfriend', 'asking',...</td>\n",
              "      <td>['girlfriend straighten', 'aita asking', 'hair...</td>\n",
              "    </tr>\n",
              "    <tr>\n",
              "      <th>4</th>\n",
              "      <td>23625</td>\n",
              "      <td>23625</td>\n",
              "      <td>aita for telling my girlfriend to stop eating ...</td>\n",
              "      <td>weird title, and this’ll sound fake, but it’s ...</td>\n",
              "      <td>1164.0</td>\n",
              "      <td>asshole</td>\n",
              "      <td>280</td>\n",
              "      <td>False</td>\n",
              "      <td>False</td>\n",
              "      <td>False</td>\n",
              "      <td>False</td>\n",
              "      <td>['stop eating “ baby snacks ”?', 'telling', 'g...</td>\n",
              "      <td>['baby snacks', 'aita telling', 'girlfriend st...</td>\n",
              "    </tr>\n",
              "    <tr>\n",
              "      <th>...</th>\n",
              "      <td>...</td>\n",
              "      <td>...</td>\n",
              "      <td>...</td>\n",
              "      <td>...</td>\n",
              "      <td>...</td>\n",
              "      <td>...</td>\n",
              "      <td>...</td>\n",
              "      <td>...</td>\n",
              "      <td>...</td>\n",
              "      <td>...</td>\n",
              "      <td>...</td>\n",
              "      <td>...</td>\n",
              "      <td>...</td>\n",
              "    </tr>\n",
              "    <tr>\n",
              "      <th>37507</th>\n",
              "      <td>19883</td>\n",
              "      <td>19883</td>\n",
              "      <td>aita for letting someone sit in my seat at the...</td>\n",
              "      <td>i went to watch a play with my girlfriend last...</td>\n",
              "      <td>86.0</td>\n",
              "      <td>asshole</td>\n",
              "      <td>507</td>\n",
              "      <td>False</td>\n",
              "      <td>False</td>\n",
              "      <td>False</td>\n",
              "      <td>False</td>\n",
              "      <td>['letting someone sit', 'theatre', 'seat', 'ai...</td>\n",
              "      <td>['seat theatre', 'letting', 'aita', 'sit', 'se...</td>\n",
              "    </tr>\n",
              "    <tr>\n",
              "      <th>37508</th>\n",
              "      <td>14730</td>\n",
              "      <td>14730</td>\n",
              "      <td>aita for venting in a kind of nasty way about ...</td>\n",
              "      <td>so i was hanging out with my friend and i star...</td>\n",
              "      <td>7.0</td>\n",
              "      <td>asshole</td>\n",
              "      <td>229</td>\n",
              "      <td>False</td>\n",
              "      <td>False</td>\n",
              "      <td>False</td>\n",
              "      <td>False</td>\n",
              "      <td>['nasty way', 'venting', 'kind', 'classmates',...</td>\n",
              "      <td>['aita venting', 'way classmates', 'kind nasty...</td>\n",
              "    </tr>\n",
              "    <tr>\n",
              "      <th>37509</th>\n",
              "      <td>4116</td>\n",
              "      <td>4116</td>\n",
              "      <td>wibta if i asked my neighbor to help with the ...</td>\n",
              "      <td>tl;dr at the bottom.\\n\\n\\n**i will also likely...</td>\n",
              "      <td>56.0</td>\n",
              "      <td>asshole</td>\n",
              "      <td>463</td>\n",
              "      <td>False</td>\n",
              "      <td>False</td>\n",
              "      <td>False</td>\n",
              "      <td>True</td>\n",
              "      <td>['wibta', 'tree', 'removing', 'neighbor', 'hom...</td>\n",
              "      <td>['neighbor help', 'wibta asked', 'cost removin...</td>\n",
              "    </tr>\n",
              "    <tr>\n",
              "      <th>37510</th>\n",
              "      <td>14580</td>\n",
              "      <td>14580</td>\n",
              "      <td>aita for not wanting my fiancée to invite her ...</td>\n",
              "      <td>my fiancée and i have been dating 3 years, eng...</td>\n",
              "      <td>115.0</td>\n",
              "      <td>asshole</td>\n",
              "      <td>222</td>\n",
              "      <td>False</td>\n",
              "      <td>False</td>\n",
              "      <td>False</td>\n",
              "      <td>False</td>\n",
              "      <td>['wedding', 'wanting', 'stepdaughter', 'invite...</td>\n",
              "      <td>['stepdaughter wedding', 'invite', 'aita', 'wa...</td>\n",
              "    </tr>\n",
              "    <tr>\n",
              "      <th>37511</th>\n",
              "      <td>34636</td>\n",
              "      <td>34636</td>\n",
              "      <td>aita for being disrespectful with my mum over ...</td>\n",
              "      <td>so a little backstory: i am 15 yrs old and i w...</td>\n",
              "      <td>158.0</td>\n",
              "      <td>not the asshole</td>\n",
              "      <td>224</td>\n",
              "      <td>False</td>\n",
              "      <td>False</td>\n",
              "      <td>False</td>\n",
              "      <td>False</td>\n",
              "      <td>['hating anime', 'mum', 'disrespectful', 'aita']</td>\n",
              "      <td>['aita disrespectful', 'mum', 'anime', 'hating...</td>\n",
              "    </tr>\n",
              "  </tbody>\n",
              "</table>\n",
              "<p>37512 rows × 13 columns</p>\n",
              "</div>\n",
              "      <button class=\"colab-df-convert\" onclick=\"convertToInteractive('df-41d6f088-6686-48fa-8d40-3c77409021ad')\"\n",
              "              title=\"Convert this dataframe to an interactive table.\"\n",
              "              style=\"display:none;\">\n",
              "        \n",
              "  <svg xmlns=\"http://www.w3.org/2000/svg\" height=\"24px\"viewBox=\"0 0 24 24\"\n",
              "       width=\"24px\">\n",
              "    <path d=\"M0 0h24v24H0V0z\" fill=\"none\"/>\n",
              "    <path d=\"M18.56 5.44l.94 2.06.94-2.06 2.06-.94-2.06-.94-.94-2.06-.94 2.06-2.06.94zm-11 1L8.5 8.5l.94-2.06 2.06-.94-2.06-.94L8.5 2.5l-.94 2.06-2.06.94zm10 10l.94 2.06.94-2.06 2.06-.94-2.06-.94-.94-2.06-.94 2.06-2.06.94z\"/><path d=\"M17.41 7.96l-1.37-1.37c-.4-.4-.92-.59-1.43-.59-.52 0-1.04.2-1.43.59L10.3 9.45l-7.72 7.72c-.78.78-.78 2.05 0 2.83L4 21.41c.39.39.9.59 1.41.59.51 0 1.02-.2 1.41-.59l7.78-7.78 2.81-2.81c.8-.78.8-2.07 0-2.86zM5.41 20L4 18.59l7.72-7.72 1.47 1.35L5.41 20z\"/>\n",
              "  </svg>\n",
              "      </button>\n",
              "      \n",
              "  <style>\n",
              "    .colab-df-container {\n",
              "      display:flex;\n",
              "      flex-wrap:wrap;\n",
              "      gap: 12px;\n",
              "    }\n",
              "\n",
              "    .colab-df-convert {\n",
              "      background-color: #E8F0FE;\n",
              "      border: none;\n",
              "      border-radius: 50%;\n",
              "      cursor: pointer;\n",
              "      display: none;\n",
              "      fill: #1967D2;\n",
              "      height: 32px;\n",
              "      padding: 0 0 0 0;\n",
              "      width: 32px;\n",
              "    }\n",
              "\n",
              "    .colab-df-convert:hover {\n",
              "      background-color: #E2EBFA;\n",
              "      box-shadow: 0px 1px 2px rgba(60, 64, 67, 0.3), 0px 1px 3px 1px rgba(60, 64, 67, 0.15);\n",
              "      fill: #174EA6;\n",
              "    }\n",
              "\n",
              "    [theme=dark] .colab-df-convert {\n",
              "      background-color: #3B4455;\n",
              "      fill: #D2E3FC;\n",
              "    }\n",
              "\n",
              "    [theme=dark] .colab-df-convert:hover {\n",
              "      background-color: #434B5C;\n",
              "      box-shadow: 0px 1px 3px 1px rgba(0, 0, 0, 0.15);\n",
              "      filter: drop-shadow(0px 1px 2px rgba(0, 0, 0, 0.3));\n",
              "      fill: #FFFFFF;\n",
              "    }\n",
              "  </style>\n",
              "\n",
              "      <script>\n",
              "        const buttonEl =\n",
              "          document.querySelector('#df-41d6f088-6686-48fa-8d40-3c77409021ad button.colab-df-convert');\n",
              "        buttonEl.style.display =\n",
              "          google.colab.kernel.accessAllowed ? 'block' : 'none';\n",
              "\n",
              "        async function convertToInteractive(key) {\n",
              "          const element = document.querySelector('#df-41d6f088-6686-48fa-8d40-3c77409021ad');\n",
              "          const dataTable =\n",
              "            await google.colab.kernel.invokeFunction('convertToInteractive',\n",
              "                                                     [key], {});\n",
              "          if (!dataTable) return;\n",
              "\n",
              "          const docLinkHtml = 'Like what you see? Visit the ' +\n",
              "            '<a target=\"_blank\" href=https://colab.research.google.com/notebooks/data_table.ipynb>data table notebook</a>'\n",
              "            + ' to learn more about interactive tables.';\n",
              "          element.innerHTML = '';\n",
              "          dataTable['output_type'] = 'display_data';\n",
              "          await google.colab.output.renderOutput(dataTable, element);\n",
              "          const docLink = document.createElement('div');\n",
              "          docLink.innerHTML = docLinkHtml;\n",
              "          element.appendChild(docLink);\n",
              "        }\n",
              "      </script>\n",
              "    </div>\n",
              "  </div>\n",
              "  "
            ],
            "text/plain": [
              "       Unnamed: 0  Unnamed: 0.1  \\\n",
              "0            1881          1881   \n",
              "1           33358         33358   \n",
              "2           36512         36512   \n",
              "3           28733         28733   \n",
              "4           23625         23625   \n",
              "...           ...           ...   \n",
              "37507       19883         19883   \n",
              "37508       14730         14730   \n",
              "37509        4116          4116   \n",
              "37510       14580         14580   \n",
              "37511       34636         34636   \n",
              "\n",
              "                                                   title  \\\n",
              "0      aita for asking my boyfriend to drive me to th...   \n",
              "1      aita for buying a phone off of my close friend...   \n",
              "2      aita for not answering my phone to my mom duri...   \n",
              "3      aita for asking my girlfriend to straighten he...   \n",
              "4      aita for telling my girlfriend to stop eating ...   \n",
              "...                                                  ...   \n",
              "37507  aita for letting someone sit in my seat at the...   \n",
              "37508  aita for venting in a kind of nasty way about ...   \n",
              "37509  wibta if i asked my neighbor to help with the ...   \n",
              "37510  aita for not wanting my fiancée to invite her ...   \n",
              "37511  aita for being disrespectful with my mum over ...   \n",
              "\n",
              "                                                    body  num_comments  \\\n",
              "0      i am very, very sick right now with the flu. i...          43.0   \n",
              "1      my friend let’s call her zoe & her ex let’s ca...          24.0   \n",
              "2      3 months ago i was going to a sleepover with m...          20.0   \n",
              "3      so some backstory. my girlfriend has really be...          58.0   \n",
              "4      weird title, and this’ll sound fake, but it’s ...        1164.0   \n",
              "...                                                  ...           ...   \n",
              "37507  i went to watch a play with my girlfriend last...          86.0   \n",
              "37508  so i was hanging out with my friend and i star...           7.0   \n",
              "37509  tl;dr at the bottom.\\n\\n\\n**i will also likely...          56.0   \n",
              "37510  my fiancée and i have been dating 3 years, eng...         115.0   \n",
              "37511  so a little backstory: i am 15 yrs old and i w...         158.0   \n",
              "\n",
              "               verdict  word_count  has_tldr  has_background  has_update  \\\n",
              "0      not the asshole         573     False           False       False   \n",
              "1      not the asshole         267     False           False       False   \n",
              "2              asshole         232     False           False       False   \n",
              "3              asshole         418     False           False       False   \n",
              "4              asshole         280     False           False       False   \n",
              "...                ...         ...       ...             ...         ...   \n",
              "37507          asshole         507     False           False       False   \n",
              "37508          asshole         229     False           False       False   \n",
              "37509          asshole         463     False           False       False   \n",
              "37510          asshole         222     False           False       False   \n",
              "37511  not the asshole         224     False           False       False   \n",
              "\n",
              "       has_edit                                           keywords  \\\n",
              "0          True  ['hospital', 'drive', 'boyfriend', 'asking', '...   \n",
              "1         False  ['close friend ’', 'ex boyfriend', 'phone', 'b...   \n",
              "2         False  ['sleepover', 'phone', 'mom', 'answering', 'ai...   \n",
              "3         False  ['straighten', 'hair', 'girlfriend', 'asking',...   \n",
              "4         False  ['stop eating “ baby snacks ”?', 'telling', 'g...   \n",
              "...         ...                                                ...   \n",
              "37507     False  ['letting someone sit', 'theatre', 'seat', 'ai...   \n",
              "37508     False  ['nasty way', 'venting', 'kind', 'classmates',...   \n",
              "37509      True  ['wibta', 'tree', 'removing', 'neighbor', 'hom...   \n",
              "37510     False  ['wedding', 'wanting', 'stepdaughter', 'invite...   \n",
              "37511     False   ['hating anime', 'mum', 'disrespectful', 'aita']   \n",
              "\n",
              "                                          title_key_word  \n",
              "0      ['aita asking', 'boyfriend drive', 'hospital',...  \n",
              "1      ['buying phone', 'aita', 'friend', 'ex boyfrie...  \n",
              "2      ['mom sleepover', 'aita answering', 'phone', '...  \n",
              "3      ['girlfriend straighten', 'aita asking', 'hair...  \n",
              "4      ['baby snacks', 'aita telling', 'girlfriend st...  \n",
              "...                                                  ...  \n",
              "37507  ['seat theatre', 'letting', 'aita', 'sit', 'se...  \n",
              "37508  ['aita venting', 'way classmates', 'kind nasty...  \n",
              "37509  ['neighbor help', 'wibta asked', 'cost removin...  \n",
              "37510  ['stepdaughter wedding', 'invite', 'aita', 'wa...  \n",
              "37511  ['aita disrespectful', 'mum', 'anime', 'hating...  \n",
              "\n",
              "[37512 rows x 13 columns]"
            ]
          },
          "execution_count": 9,
          "metadata": {},
          "output_type": "execute_result"
        }
      ],
      "source": [
        "data = pd.read_csv('/content/drive/MyDrive/NLP_Project/data_with_keywords_train.csv')\n",
        "data"
      ]
    },
    {
      "cell_type": "code",
      "execution_count": null,
      "metadata": {
        "colab": {
          "base_uri": "https://localhost:8080/"
        },
        "id": "dLTU8gbVAPZs",
        "outputId": "96ea1602-e06e-41fe-f9d2-74e26101a539"
      },
      "outputs": [
        {
          "data": {
            "text/plain": [
              "str"
            ]
          },
          "execution_count": 33,
          "metadata": {},
          "output_type": "execute_result"
        }
      ],
      "source": [
        "type(data.iloc[0].keywords)"
      ]
    },
    {
      "cell_type": "code",
      "execution_count": null,
      "metadata": {
        "colab": {
          "base_uri": "https://localhost:8080/"
        },
        "id": "LSHXTrkmIUqp",
        "outputId": "355941b5-d0ed-4792-caf2-79d232ddc534"
      },
      "outputs": [
        {
          "data": {
            "text/plain": [
              "37512"
            ]
          },
          "execution_count": 10,
          "metadata": {},
          "output_type": "execute_result"
        }
      ],
      "source": [
        "data_truncated = data[data['verdict'].isin(['asshole', 'not the asshole'])]\n",
        "len(data_truncated)"
      ]
    },
    {
      "cell_type": "code",
      "execution_count": null,
      "metadata": {
        "colab": {
          "base_uri": "https://localhost:8080/",
          "height": 722
        },
        "id": "2ez2CSHh6oig",
        "outputId": "4c743d02-5669-45c2-9612-ea71361d0af9"
      },
      "outputs": [
        {
          "data": {
            "text/html": [
              "\n",
              "  <div id=\"df-67c79eef-7072-478a-b26a-b4cda7cb82eb\">\n",
              "    <div class=\"colab-df-container\">\n",
              "      <div>\n",
              "<style scoped>\n",
              "    .dataframe tbody tr th:only-of-type {\n",
              "        vertical-align: middle;\n",
              "    }\n",
              "\n",
              "    .dataframe tbody tr th {\n",
              "        vertical-align: top;\n",
              "    }\n",
              "\n",
              "    .dataframe thead th {\n",
              "        text-align: right;\n",
              "    }\n",
              "</style>\n",
              "<table border=\"1\" class=\"dataframe\">\n",
              "  <thead>\n",
              "    <tr style=\"text-align: right;\">\n",
              "      <th></th>\n",
              "      <th>Unnamed: 0</th>\n",
              "      <th>Unnamed: 0.1</th>\n",
              "      <th>title</th>\n",
              "      <th>body</th>\n",
              "      <th>num_comments</th>\n",
              "      <th>verdict</th>\n",
              "      <th>word_count</th>\n",
              "      <th>has_tldr</th>\n",
              "      <th>has_background</th>\n",
              "      <th>has_update</th>\n",
              "      <th>has_edit</th>\n",
              "      <th>keywords</th>\n",
              "      <th>title_key_word</th>\n",
              "    </tr>\n",
              "  </thead>\n",
              "  <tbody>\n",
              "    <tr>\n",
              "      <th>0</th>\n",
              "      <td>1881</td>\n",
              "      <td>1881</td>\n",
              "      <td>aita for asking my boyfriend to drive me to th...</td>\n",
              "      <td>i am very, very sick right now with the flu. i...</td>\n",
              "      <td>43.0</td>\n",
              "      <td>not the asshole</td>\n",
              "      <td>573</td>\n",
              "      <td>False</td>\n",
              "      <td>False</td>\n",
              "      <td>False</td>\n",
              "      <td>True</td>\n",
              "      <td>['hospital', 'drive', 'boyfriend', 'asking', '...</td>\n",
              "      <td>['aita asking', 'boyfriend drive', 'hospital',...</td>\n",
              "    </tr>\n",
              "    <tr>\n",
              "      <th>1</th>\n",
              "      <td>33358</td>\n",
              "      <td>33358</td>\n",
              "      <td>aita for buying a phone off of my close friend...</td>\n",
              "      <td>my friend let’s call her zoe &amp; her ex let’s ca...</td>\n",
              "      <td>24.0</td>\n",
              "      <td>not the asshole</td>\n",
              "      <td>267</td>\n",
              "      <td>False</td>\n",
              "      <td>False</td>\n",
              "      <td>False</td>\n",
              "      <td>False</td>\n",
              "      <td>['close friend ’', 'ex boyfriend', 'phone', 'b...</td>\n",
              "      <td>['buying phone', 'aita', 'friend', 'ex boyfrie...</td>\n",
              "    </tr>\n",
              "    <tr>\n",
              "      <th>2</th>\n",
              "      <td>36512</td>\n",
              "      <td>36512</td>\n",
              "      <td>aita for not answering my phone to my mom duri...</td>\n",
              "      <td>3 months ago i was going to a sleepover with m...</td>\n",
              "      <td>20.0</td>\n",
              "      <td>asshole</td>\n",
              "      <td>232</td>\n",
              "      <td>False</td>\n",
              "      <td>False</td>\n",
              "      <td>False</td>\n",
              "      <td>False</td>\n",
              "      <td>['sleepover', 'phone', 'mom', 'answering', 'ai...</td>\n",
              "      <td>['mom sleepover', 'aita answering', 'phone', '...</td>\n",
              "    </tr>\n",
              "    <tr>\n",
              "      <th>3</th>\n",
              "      <td>28733</td>\n",
              "      <td>28733</td>\n",
              "      <td>aita for asking my girlfriend to straighten he...</td>\n",
              "      <td>so some backstory. my girlfriend has really be...</td>\n",
              "      <td>58.0</td>\n",
              "      <td>asshole</td>\n",
              "      <td>418</td>\n",
              "      <td>False</td>\n",
              "      <td>False</td>\n",
              "      <td>False</td>\n",
              "      <td>False</td>\n",
              "      <td>['straighten', 'hair', 'girlfriend', 'asking',...</td>\n",
              "      <td>['girlfriend straighten', 'aita asking', 'hair...</td>\n",
              "    </tr>\n",
              "    <tr>\n",
              "      <th>4</th>\n",
              "      <td>23625</td>\n",
              "      <td>23625</td>\n",
              "      <td>aita for telling my girlfriend to stop eating ...</td>\n",
              "      <td>weird title, and this’ll sound fake, but it’s ...</td>\n",
              "      <td>1164.0</td>\n",
              "      <td>asshole</td>\n",
              "      <td>280</td>\n",
              "      <td>False</td>\n",
              "      <td>False</td>\n",
              "      <td>False</td>\n",
              "      <td>False</td>\n",
              "      <td>['stop eating “ baby snacks ”?', 'telling', 'g...</td>\n",
              "      <td>['baby snacks', 'aita telling', 'girlfriend st...</td>\n",
              "    </tr>\n",
              "  </tbody>\n",
              "</table>\n",
              "</div>\n",
              "      <button class=\"colab-df-convert\" onclick=\"convertToInteractive('df-67c79eef-7072-478a-b26a-b4cda7cb82eb')\"\n",
              "              title=\"Convert this dataframe to an interactive table.\"\n",
              "              style=\"display:none;\">\n",
              "        \n",
              "  <svg xmlns=\"http://www.w3.org/2000/svg\" height=\"24px\"viewBox=\"0 0 24 24\"\n",
              "       width=\"24px\">\n",
              "    <path d=\"M0 0h24v24H0V0z\" fill=\"none\"/>\n",
              "    <path d=\"M18.56 5.44l.94 2.06.94-2.06 2.06-.94-2.06-.94-.94-2.06-.94 2.06-2.06.94zm-11 1L8.5 8.5l.94-2.06 2.06-.94-2.06-.94L8.5 2.5l-.94 2.06-2.06.94zm10 10l.94 2.06.94-2.06 2.06-.94-2.06-.94-.94-2.06-.94 2.06-2.06.94z\"/><path d=\"M17.41 7.96l-1.37-1.37c-.4-.4-.92-.59-1.43-.59-.52 0-1.04.2-1.43.59L10.3 9.45l-7.72 7.72c-.78.78-.78 2.05 0 2.83L4 21.41c.39.39.9.59 1.41.59.51 0 1.02-.2 1.41-.59l7.78-7.78 2.81-2.81c.8-.78.8-2.07 0-2.86zM5.41 20L4 18.59l7.72-7.72 1.47 1.35L5.41 20z\"/>\n",
              "  </svg>\n",
              "      </button>\n",
              "      \n",
              "  <style>\n",
              "    .colab-df-container {\n",
              "      display:flex;\n",
              "      flex-wrap:wrap;\n",
              "      gap: 12px;\n",
              "    }\n",
              "\n",
              "    .colab-df-convert {\n",
              "      background-color: #E8F0FE;\n",
              "      border: none;\n",
              "      border-radius: 50%;\n",
              "      cursor: pointer;\n",
              "      display: none;\n",
              "      fill: #1967D2;\n",
              "      height: 32px;\n",
              "      padding: 0 0 0 0;\n",
              "      width: 32px;\n",
              "    }\n",
              "\n",
              "    .colab-df-convert:hover {\n",
              "      background-color: #E2EBFA;\n",
              "      box-shadow: 0px 1px 2px rgba(60, 64, 67, 0.3), 0px 1px 3px 1px rgba(60, 64, 67, 0.15);\n",
              "      fill: #174EA6;\n",
              "    }\n",
              "\n",
              "    [theme=dark] .colab-df-convert {\n",
              "      background-color: #3B4455;\n",
              "      fill: #D2E3FC;\n",
              "    }\n",
              "\n",
              "    [theme=dark] .colab-df-convert:hover {\n",
              "      background-color: #434B5C;\n",
              "      box-shadow: 0px 1px 3px 1px rgba(0, 0, 0, 0.15);\n",
              "      filter: drop-shadow(0px 1px 2px rgba(0, 0, 0, 0.3));\n",
              "      fill: #FFFFFF;\n",
              "    }\n",
              "  </style>\n",
              "\n",
              "      <script>\n",
              "        const buttonEl =\n",
              "          document.querySelector('#df-67c79eef-7072-478a-b26a-b4cda7cb82eb button.colab-df-convert');\n",
              "        buttonEl.style.display =\n",
              "          google.colab.kernel.accessAllowed ? 'block' : 'none';\n",
              "\n",
              "        async function convertToInteractive(key) {\n",
              "          const element = document.querySelector('#df-67c79eef-7072-478a-b26a-b4cda7cb82eb');\n",
              "          const dataTable =\n",
              "            await google.colab.kernel.invokeFunction('convertToInteractive',\n",
              "                                                     [key], {});\n",
              "          if (!dataTable) return;\n",
              "\n",
              "          const docLinkHtml = 'Like what you see? Visit the ' +\n",
              "            '<a target=\"_blank\" href=https://colab.research.google.com/notebooks/data_table.ipynb>data table notebook</a>'\n",
              "            + ' to learn more about interactive tables.';\n",
              "          element.innerHTML = '';\n",
              "          dataTable['output_type'] = 'display_data';\n",
              "          await google.colab.output.renderOutput(dataTable, element);\n",
              "          const docLink = document.createElement('div');\n",
              "          docLink.innerHTML = docLinkHtml;\n",
              "          element.appendChild(docLink);\n",
              "        }\n",
              "      </script>\n",
              "    </div>\n",
              "  </div>\n",
              "  "
            ],
            "text/plain": [
              "   Unnamed: 0  Unnamed: 0.1  \\\n",
              "0        1881          1881   \n",
              "1       33358         33358   \n",
              "2       36512         36512   \n",
              "3       28733         28733   \n",
              "4       23625         23625   \n",
              "\n",
              "                                               title  \\\n",
              "0  aita for asking my boyfriend to drive me to th...   \n",
              "1  aita for buying a phone off of my close friend...   \n",
              "2  aita for not answering my phone to my mom duri...   \n",
              "3  aita for asking my girlfriend to straighten he...   \n",
              "4  aita for telling my girlfriend to stop eating ...   \n",
              "\n",
              "                                                body  num_comments  \\\n",
              "0  i am very, very sick right now with the flu. i...          43.0   \n",
              "1  my friend let’s call her zoe & her ex let’s ca...          24.0   \n",
              "2  3 months ago i was going to a sleepover with m...          20.0   \n",
              "3  so some backstory. my girlfriend has really be...          58.0   \n",
              "4  weird title, and this’ll sound fake, but it’s ...        1164.0   \n",
              "\n",
              "           verdict  word_count  has_tldr  has_background  has_update  \\\n",
              "0  not the asshole         573     False           False       False   \n",
              "1  not the asshole         267     False           False       False   \n",
              "2          asshole         232     False           False       False   \n",
              "3          asshole         418     False           False       False   \n",
              "4          asshole         280     False           False       False   \n",
              "\n",
              "   has_edit                                           keywords  \\\n",
              "0      True  ['hospital', 'drive', 'boyfriend', 'asking', '...   \n",
              "1     False  ['close friend ’', 'ex boyfriend', 'phone', 'b...   \n",
              "2     False  ['sleepover', 'phone', 'mom', 'answering', 'ai...   \n",
              "3     False  ['straighten', 'hair', 'girlfriend', 'asking',...   \n",
              "4     False  ['stop eating “ baby snacks ”?', 'telling', 'g...   \n",
              "\n",
              "                                      title_key_word  \n",
              "0  ['aita asking', 'boyfriend drive', 'hospital',...  \n",
              "1  ['buying phone', 'aita', 'friend', 'ex boyfrie...  \n",
              "2  ['mom sleepover', 'aita answering', 'phone', '...  \n",
              "3  ['girlfriend straighten', 'aita asking', 'hair...  \n",
              "4  ['baby snacks', 'aita telling', 'girlfriend st...  "
            ]
          },
          "execution_count": 11,
          "metadata": {},
          "output_type": "execute_result"
        }
      ],
      "source": [
        "data_truncated.head()"
      ]
    },
    {
      "cell_type": "code",
      "execution_count": null,
      "metadata": {
        "id": "iZt5mnJXIXO0"
      },
      "outputs": [],
      "source": [
        "data_truncated = data_truncated[['title', 'body', 'verdict', 'keywords']]"
      ]
    },
    {
      "cell_type": "code",
      "execution_count": null,
      "metadata": {
        "colab": {
          "base_uri": "https://localhost:8080/",
          "height": 641
        },
        "id": "kPtDZQeJIZn5",
        "outputId": "c533e633-75fe-4019-d8ea-4c189991675f"
      },
      "outputs": [
        {
          "data": {
            "text/html": [
              "\n",
              "  <div id=\"df-0de717c2-8055-49d9-a548-dbec3cd0e6d8\">\n",
              "    <div class=\"colab-df-container\">\n",
              "      <div>\n",
              "<style scoped>\n",
              "    .dataframe tbody tr th:only-of-type {\n",
              "        vertical-align: middle;\n",
              "    }\n",
              "\n",
              "    .dataframe tbody tr th {\n",
              "        vertical-align: top;\n",
              "    }\n",
              "\n",
              "    .dataframe thead th {\n",
              "        text-align: right;\n",
              "    }\n",
              "</style>\n",
              "<table border=\"1\" class=\"dataframe\">\n",
              "  <thead>\n",
              "    <tr style=\"text-align: right;\">\n",
              "      <th></th>\n",
              "      <th>title</th>\n",
              "      <th>body</th>\n",
              "      <th>verdict</th>\n",
              "      <th>keywords</th>\n",
              "    </tr>\n",
              "  </thead>\n",
              "  <tbody>\n",
              "    <tr>\n",
              "      <th>0</th>\n",
              "      <td>aita for asking my boyfriend to drive me to th...</td>\n",
              "      <td>i am very, very sick right now with the flu. i...</td>\n",
              "      <td>not the asshole</td>\n",
              "      <td>['hospital', 'drive', 'boyfriend', 'asking', '...</td>\n",
              "    </tr>\n",
              "    <tr>\n",
              "      <th>1</th>\n",
              "      <td>aita for buying a phone off of my close friend...</td>\n",
              "      <td>my friend let’s call her zoe &amp; her ex let’s ca...</td>\n",
              "      <td>not the asshole</td>\n",
              "      <td>['close friend ’', 'ex boyfriend', 'phone', 'b...</td>\n",
              "    </tr>\n",
              "    <tr>\n",
              "      <th>2</th>\n",
              "      <td>aita for not answering my phone to my mom duri...</td>\n",
              "      <td>3 months ago i was going to a sleepover with m...</td>\n",
              "      <td>asshole</td>\n",
              "      <td>['sleepover', 'phone', 'mom', 'answering', 'ai...</td>\n",
              "    </tr>\n",
              "    <tr>\n",
              "      <th>3</th>\n",
              "      <td>aita for asking my girlfriend to straighten he...</td>\n",
              "      <td>so some backstory. my girlfriend has really be...</td>\n",
              "      <td>asshole</td>\n",
              "      <td>['straighten', 'hair', 'girlfriend', 'asking',...</td>\n",
              "    </tr>\n",
              "    <tr>\n",
              "      <th>4</th>\n",
              "      <td>aita for telling my girlfriend to stop eating ...</td>\n",
              "      <td>weird title, and this’ll sound fake, but it’s ...</td>\n",
              "      <td>asshole</td>\n",
              "      <td>['stop eating “ baby snacks ”?', 'telling', 'g...</td>\n",
              "    </tr>\n",
              "    <tr>\n",
              "      <th>...</th>\n",
              "      <td>...</td>\n",
              "      <td>...</td>\n",
              "      <td>...</td>\n",
              "      <td>...</td>\n",
              "    </tr>\n",
              "    <tr>\n",
              "      <th>37507</th>\n",
              "      <td>aita for letting someone sit in my seat at the...</td>\n",
              "      <td>i went to watch a play with my girlfriend last...</td>\n",
              "      <td>asshole</td>\n",
              "      <td>['letting someone sit', 'theatre', 'seat', 'ai...</td>\n",
              "    </tr>\n",
              "    <tr>\n",
              "      <th>37508</th>\n",
              "      <td>aita for venting in a kind of nasty way about ...</td>\n",
              "      <td>so i was hanging out with my friend and i star...</td>\n",
              "      <td>asshole</td>\n",
              "      <td>['nasty way', 'venting', 'kind', 'classmates',...</td>\n",
              "    </tr>\n",
              "    <tr>\n",
              "      <th>37509</th>\n",
              "      <td>wibta if i asked my neighbor to help with the ...</td>\n",
              "      <td>tl;dr at the bottom.\\n\\n\\n**i will also likely...</td>\n",
              "      <td>asshole</td>\n",
              "      <td>['wibta', 'tree', 'removing', 'neighbor', 'hom...</td>\n",
              "    </tr>\n",
              "    <tr>\n",
              "      <th>37510</th>\n",
              "      <td>aita for not wanting my fiancée to invite her ...</td>\n",
              "      <td>my fiancée and i have been dating 3 years, eng...</td>\n",
              "      <td>asshole</td>\n",
              "      <td>['wedding', 'wanting', 'stepdaughter', 'invite...</td>\n",
              "    </tr>\n",
              "    <tr>\n",
              "      <th>37511</th>\n",
              "      <td>aita for being disrespectful with my mum over ...</td>\n",
              "      <td>so a little backstory: i am 15 yrs old and i w...</td>\n",
              "      <td>not the asshole</td>\n",
              "      <td>['hating anime', 'mum', 'disrespectful', 'aita']</td>\n",
              "    </tr>\n",
              "  </tbody>\n",
              "</table>\n",
              "<p>37512 rows × 4 columns</p>\n",
              "</div>\n",
              "      <button class=\"colab-df-convert\" onclick=\"convertToInteractive('df-0de717c2-8055-49d9-a548-dbec3cd0e6d8')\"\n",
              "              title=\"Convert this dataframe to an interactive table.\"\n",
              "              style=\"display:none;\">\n",
              "        \n",
              "  <svg xmlns=\"http://www.w3.org/2000/svg\" height=\"24px\"viewBox=\"0 0 24 24\"\n",
              "       width=\"24px\">\n",
              "    <path d=\"M0 0h24v24H0V0z\" fill=\"none\"/>\n",
              "    <path d=\"M18.56 5.44l.94 2.06.94-2.06 2.06-.94-2.06-.94-.94-2.06-.94 2.06-2.06.94zm-11 1L8.5 8.5l.94-2.06 2.06-.94-2.06-.94L8.5 2.5l-.94 2.06-2.06.94zm10 10l.94 2.06.94-2.06 2.06-.94-2.06-.94-.94-2.06-.94 2.06-2.06.94z\"/><path d=\"M17.41 7.96l-1.37-1.37c-.4-.4-.92-.59-1.43-.59-.52 0-1.04.2-1.43.59L10.3 9.45l-7.72 7.72c-.78.78-.78 2.05 0 2.83L4 21.41c.39.39.9.59 1.41.59.51 0 1.02-.2 1.41-.59l7.78-7.78 2.81-2.81c.8-.78.8-2.07 0-2.86zM5.41 20L4 18.59l7.72-7.72 1.47 1.35L5.41 20z\"/>\n",
              "  </svg>\n",
              "      </button>\n",
              "      \n",
              "  <style>\n",
              "    .colab-df-container {\n",
              "      display:flex;\n",
              "      flex-wrap:wrap;\n",
              "      gap: 12px;\n",
              "    }\n",
              "\n",
              "    .colab-df-convert {\n",
              "      background-color: #E8F0FE;\n",
              "      border: none;\n",
              "      border-radius: 50%;\n",
              "      cursor: pointer;\n",
              "      display: none;\n",
              "      fill: #1967D2;\n",
              "      height: 32px;\n",
              "      padding: 0 0 0 0;\n",
              "      width: 32px;\n",
              "    }\n",
              "\n",
              "    .colab-df-convert:hover {\n",
              "      background-color: #E2EBFA;\n",
              "      box-shadow: 0px 1px 2px rgba(60, 64, 67, 0.3), 0px 1px 3px 1px rgba(60, 64, 67, 0.15);\n",
              "      fill: #174EA6;\n",
              "    }\n",
              "\n",
              "    [theme=dark] .colab-df-convert {\n",
              "      background-color: #3B4455;\n",
              "      fill: #D2E3FC;\n",
              "    }\n",
              "\n",
              "    [theme=dark] .colab-df-convert:hover {\n",
              "      background-color: #434B5C;\n",
              "      box-shadow: 0px 1px 3px 1px rgba(0, 0, 0, 0.15);\n",
              "      filter: drop-shadow(0px 1px 2px rgba(0, 0, 0, 0.3));\n",
              "      fill: #FFFFFF;\n",
              "    }\n",
              "  </style>\n",
              "\n",
              "      <script>\n",
              "        const buttonEl =\n",
              "          document.querySelector('#df-0de717c2-8055-49d9-a548-dbec3cd0e6d8 button.colab-df-convert');\n",
              "        buttonEl.style.display =\n",
              "          google.colab.kernel.accessAllowed ? 'block' : 'none';\n",
              "\n",
              "        async function convertToInteractive(key) {\n",
              "          const element = document.querySelector('#df-0de717c2-8055-49d9-a548-dbec3cd0e6d8');\n",
              "          const dataTable =\n",
              "            await google.colab.kernel.invokeFunction('convertToInteractive',\n",
              "                                                     [key], {});\n",
              "          if (!dataTable) return;\n",
              "\n",
              "          const docLinkHtml = 'Like what you see? Visit the ' +\n",
              "            '<a target=\"_blank\" href=https://colab.research.google.com/notebooks/data_table.ipynb>data table notebook</a>'\n",
              "            + ' to learn more about interactive tables.';\n",
              "          element.innerHTML = '';\n",
              "          dataTable['output_type'] = 'display_data';\n",
              "          await google.colab.output.renderOutput(dataTable, element);\n",
              "          const docLink = document.createElement('div');\n",
              "          docLink.innerHTML = docLinkHtml;\n",
              "          element.appendChild(docLink);\n",
              "        }\n",
              "      </script>\n",
              "    </div>\n",
              "  </div>\n",
              "  "
            ],
            "text/plain": [
              "                                                   title  \\\n",
              "0      aita for asking my boyfriend to drive me to th...   \n",
              "1      aita for buying a phone off of my close friend...   \n",
              "2      aita for not answering my phone to my mom duri...   \n",
              "3      aita for asking my girlfriend to straighten he...   \n",
              "4      aita for telling my girlfriend to stop eating ...   \n",
              "...                                                  ...   \n",
              "37507  aita for letting someone sit in my seat at the...   \n",
              "37508  aita for venting in a kind of nasty way about ...   \n",
              "37509  wibta if i asked my neighbor to help with the ...   \n",
              "37510  aita for not wanting my fiancée to invite her ...   \n",
              "37511  aita for being disrespectful with my mum over ...   \n",
              "\n",
              "                                                    body          verdict  \\\n",
              "0      i am very, very sick right now with the flu. i...  not the asshole   \n",
              "1      my friend let’s call her zoe & her ex let’s ca...  not the asshole   \n",
              "2      3 months ago i was going to a sleepover with m...          asshole   \n",
              "3      so some backstory. my girlfriend has really be...          asshole   \n",
              "4      weird title, and this’ll sound fake, but it’s ...          asshole   \n",
              "...                                                  ...              ...   \n",
              "37507  i went to watch a play with my girlfriend last...          asshole   \n",
              "37508  so i was hanging out with my friend and i star...          asshole   \n",
              "37509  tl;dr at the bottom.\\n\\n\\n**i will also likely...          asshole   \n",
              "37510  my fiancée and i have been dating 3 years, eng...          asshole   \n",
              "37511  so a little backstory: i am 15 yrs old and i w...  not the asshole   \n",
              "\n",
              "                                                keywords  \n",
              "0      ['hospital', 'drive', 'boyfriend', 'asking', '...  \n",
              "1      ['close friend ’', 'ex boyfriend', 'phone', 'b...  \n",
              "2      ['sleepover', 'phone', 'mom', 'answering', 'ai...  \n",
              "3      ['straighten', 'hair', 'girlfriend', 'asking',...  \n",
              "4      ['stop eating “ baby snacks ”?', 'telling', 'g...  \n",
              "...                                                  ...  \n",
              "37507  ['letting someone sit', 'theatre', 'seat', 'ai...  \n",
              "37508  ['nasty way', 'venting', 'kind', 'classmates',...  \n",
              "37509  ['wibta', 'tree', 'removing', 'neighbor', 'hom...  \n",
              "37510  ['wedding', 'wanting', 'stepdaughter', 'invite...  \n",
              "37511   ['hating anime', 'mum', 'disrespectful', 'aita']  \n",
              "\n",
              "[37512 rows x 4 columns]"
            ]
          },
          "execution_count": 13,
          "metadata": {},
          "output_type": "execute_result"
        }
      ],
      "source": [
        "data_truncated = data_truncated.fillna('')\n",
        "data_truncated"
      ]
    },
    {
      "cell_type": "code",
      "execution_count": null,
      "metadata": {
        "colab": {
          "base_uri": "https://localhost:8080/"
        },
        "id": "tTsZqXCQ84cF",
        "outputId": "1395472b-0d58-485d-e6e8-b8a40bb85df7"
      },
      "outputs": [
        {
          "name": "stdout",
          "output_type": "stream",
          "text": [
            "aita for being disrespectful with my mum over her hating anime?\n",
            "['hating anime', 'mum', 'disrespectful', 'aita']\n"
          ]
        }
      ],
      "source": [
        "print(data_truncated.iloc[37511].title)\n",
        "print(data_truncated.iloc[37511].keywords)"
      ]
    },
    {
      "cell_type": "code",
      "execution_count": null,
      "metadata": {
        "colab": {
          "base_uri": "https://localhost:8080/",
          "height": 641
        },
        "id": "ik3ODgVxIdea",
        "outputId": "5242a563-0169-4ac3-db74-b3b9e5dcf2d4"
      },
      "outputs": [
        {
          "data": {
            "text/html": [
              "\n",
              "  <div id=\"df-36cedd77-61c8-4563-8a55-ba6b82348532\">\n",
              "    <div class=\"colab-df-container\">\n",
              "      <div>\n",
              "<style scoped>\n",
              "    .dataframe tbody tr th:only-of-type {\n",
              "        vertical-align: middle;\n",
              "    }\n",
              "\n",
              "    .dataframe tbody tr th {\n",
              "        vertical-align: top;\n",
              "    }\n",
              "\n",
              "    .dataframe thead th {\n",
              "        text-align: right;\n",
              "    }\n",
              "</style>\n",
              "<table border=\"1\" class=\"dataframe\">\n",
              "  <thead>\n",
              "    <tr style=\"text-align: right;\">\n",
              "      <th></th>\n",
              "      <th>index</th>\n",
              "      <th>title</th>\n",
              "      <th>body</th>\n",
              "      <th>verdict</th>\n",
              "      <th>keywords</th>\n",
              "    </tr>\n",
              "  </thead>\n",
              "  <tbody>\n",
              "    <tr>\n",
              "      <th>0</th>\n",
              "      <td>0</td>\n",
              "      <td>aita for asking my boyfriend to drive me to th...</td>\n",
              "      <td>i am very, very sick right now with the flu. i...</td>\n",
              "      <td>not the asshole</td>\n",
              "      <td>['hospital', 'drive', 'boyfriend', 'asking', '...</td>\n",
              "    </tr>\n",
              "    <tr>\n",
              "      <th>1</th>\n",
              "      <td>1</td>\n",
              "      <td>aita for buying a phone off of my close friend...</td>\n",
              "      <td>my friend let’s call her zoe &amp; her ex let’s ca...</td>\n",
              "      <td>not the asshole</td>\n",
              "      <td>['close friend ’', 'ex boyfriend', 'phone', 'b...</td>\n",
              "    </tr>\n",
              "    <tr>\n",
              "      <th>2</th>\n",
              "      <td>2</td>\n",
              "      <td>aita for not answering my phone to my mom duri...</td>\n",
              "      <td>3 months ago i was going to a sleepover with m...</td>\n",
              "      <td>asshole</td>\n",
              "      <td>['sleepover', 'phone', 'mom', 'answering', 'ai...</td>\n",
              "    </tr>\n",
              "    <tr>\n",
              "      <th>3</th>\n",
              "      <td>3</td>\n",
              "      <td>aita for asking my girlfriend to straighten he...</td>\n",
              "      <td>so some backstory. my girlfriend has really be...</td>\n",
              "      <td>asshole</td>\n",
              "      <td>['straighten', 'hair', 'girlfriend', 'asking',...</td>\n",
              "    </tr>\n",
              "    <tr>\n",
              "      <th>4</th>\n",
              "      <td>4</td>\n",
              "      <td>aita for telling my girlfriend to stop eating ...</td>\n",
              "      <td>weird title, and this’ll sound fake, but it’s ...</td>\n",
              "      <td>asshole</td>\n",
              "      <td>['stop eating “ baby snacks ”?', 'telling', 'g...</td>\n",
              "    </tr>\n",
              "    <tr>\n",
              "      <th>...</th>\n",
              "      <td>...</td>\n",
              "      <td>...</td>\n",
              "      <td>...</td>\n",
              "      <td>...</td>\n",
              "      <td>...</td>\n",
              "    </tr>\n",
              "    <tr>\n",
              "      <th>29328</th>\n",
              "      <td>37507</td>\n",
              "      <td>aita for letting someone sit in my seat at the...</td>\n",
              "      <td>i went to watch a play with my girlfriend last...</td>\n",
              "      <td>asshole</td>\n",
              "      <td>['letting someone sit', 'theatre', 'seat', 'ai...</td>\n",
              "    </tr>\n",
              "    <tr>\n",
              "      <th>29329</th>\n",
              "      <td>37508</td>\n",
              "      <td>aita for venting in a kind of nasty way about ...</td>\n",
              "      <td>so i was hanging out with my friend and i star...</td>\n",
              "      <td>asshole</td>\n",
              "      <td>['nasty way', 'venting', 'kind', 'classmates',...</td>\n",
              "    </tr>\n",
              "    <tr>\n",
              "      <th>29330</th>\n",
              "      <td>37509</td>\n",
              "      <td>wibta if i asked my neighbor to help with the ...</td>\n",
              "      <td>tl;dr at the bottom.\\n\\n\\n**i will also likely...</td>\n",
              "      <td>asshole</td>\n",
              "      <td>['wibta', 'tree', 'removing', 'neighbor', 'hom...</td>\n",
              "    </tr>\n",
              "    <tr>\n",
              "      <th>29331</th>\n",
              "      <td>37510</td>\n",
              "      <td>aita for not wanting my fiancée to invite her ...</td>\n",
              "      <td>my fiancée and i have been dating 3 years, eng...</td>\n",
              "      <td>asshole</td>\n",
              "      <td>['wedding', 'wanting', 'stepdaughter', 'invite...</td>\n",
              "    </tr>\n",
              "    <tr>\n",
              "      <th>29332</th>\n",
              "      <td>37511</td>\n",
              "      <td>aita for being disrespectful with my mum over ...</td>\n",
              "      <td>so a little backstory: i am 15 yrs old and i w...</td>\n",
              "      <td>not the asshole</td>\n",
              "      <td>['hating anime', 'mum', 'disrespectful', 'aita']</td>\n",
              "    </tr>\n",
              "  </tbody>\n",
              "</table>\n",
              "<p>29333 rows × 5 columns</p>\n",
              "</div>\n",
              "      <button class=\"colab-df-convert\" onclick=\"convertToInteractive('df-36cedd77-61c8-4563-8a55-ba6b82348532')\"\n",
              "              title=\"Convert this dataframe to an interactive table.\"\n",
              "              style=\"display:none;\">\n",
              "        \n",
              "  <svg xmlns=\"http://www.w3.org/2000/svg\" height=\"24px\"viewBox=\"0 0 24 24\"\n",
              "       width=\"24px\">\n",
              "    <path d=\"M0 0h24v24H0V0z\" fill=\"none\"/>\n",
              "    <path d=\"M18.56 5.44l.94 2.06.94-2.06 2.06-.94-2.06-.94-.94-2.06-.94 2.06-2.06.94zm-11 1L8.5 8.5l.94-2.06 2.06-.94-2.06-.94L8.5 2.5l-.94 2.06-2.06.94zm10 10l.94 2.06.94-2.06 2.06-.94-2.06-.94-.94-2.06-.94 2.06-2.06.94z\"/><path d=\"M17.41 7.96l-1.37-1.37c-.4-.4-.92-.59-1.43-.59-.52 0-1.04.2-1.43.59L10.3 9.45l-7.72 7.72c-.78.78-.78 2.05 0 2.83L4 21.41c.39.39.9.59 1.41.59.51 0 1.02-.2 1.41-.59l7.78-7.78 2.81-2.81c.8-.78.8-2.07 0-2.86zM5.41 20L4 18.59l7.72-7.72 1.47 1.35L5.41 20z\"/>\n",
              "  </svg>\n",
              "      </button>\n",
              "      \n",
              "  <style>\n",
              "    .colab-df-container {\n",
              "      display:flex;\n",
              "      flex-wrap:wrap;\n",
              "      gap: 12px;\n",
              "    }\n",
              "\n",
              "    .colab-df-convert {\n",
              "      background-color: #E8F0FE;\n",
              "      border: none;\n",
              "      border-radius: 50%;\n",
              "      cursor: pointer;\n",
              "      display: none;\n",
              "      fill: #1967D2;\n",
              "      height: 32px;\n",
              "      padding: 0 0 0 0;\n",
              "      width: 32px;\n",
              "    }\n",
              "\n",
              "    .colab-df-convert:hover {\n",
              "      background-color: #E2EBFA;\n",
              "      box-shadow: 0px 1px 2px rgba(60, 64, 67, 0.3), 0px 1px 3px 1px rgba(60, 64, 67, 0.15);\n",
              "      fill: #174EA6;\n",
              "    }\n",
              "\n",
              "    [theme=dark] .colab-df-convert {\n",
              "      background-color: #3B4455;\n",
              "      fill: #D2E3FC;\n",
              "    }\n",
              "\n",
              "    [theme=dark] .colab-df-convert:hover {\n",
              "      background-color: #434B5C;\n",
              "      box-shadow: 0px 1px 3px 1px rgba(0, 0, 0, 0.15);\n",
              "      filter: drop-shadow(0px 1px 2px rgba(0, 0, 0, 0.3));\n",
              "      fill: #FFFFFF;\n",
              "    }\n",
              "  </style>\n",
              "\n",
              "      <script>\n",
              "        const buttonEl =\n",
              "          document.querySelector('#df-36cedd77-61c8-4563-8a55-ba6b82348532 button.colab-df-convert');\n",
              "        buttonEl.style.display =\n",
              "          google.colab.kernel.accessAllowed ? 'block' : 'none';\n",
              "\n",
              "        async function convertToInteractive(key) {\n",
              "          const element = document.querySelector('#df-36cedd77-61c8-4563-8a55-ba6b82348532');\n",
              "          const dataTable =\n",
              "            await google.colab.kernel.invokeFunction('convertToInteractive',\n",
              "                                                     [key], {});\n",
              "          if (!dataTable) return;\n",
              "\n",
              "          const docLinkHtml = 'Like what you see? Visit the ' +\n",
              "            '<a target=\"_blank\" href=https://colab.research.google.com/notebooks/data_table.ipynb>data table notebook</a>'\n",
              "            + ' to learn more about interactive tables.';\n",
              "          element.innerHTML = '';\n",
              "          dataTable['output_type'] = 'display_data';\n",
              "          await google.colab.output.renderOutput(dataTable, element);\n",
              "          const docLink = document.createElement('div');\n",
              "          docLink.innerHTML = docLinkHtml;\n",
              "          element.appendChild(docLink);\n",
              "        }\n",
              "      </script>\n",
              "    </div>\n",
              "  </div>\n",
              "  "
            ],
            "text/plain": [
              "       index                                              title  \\\n",
              "0          0  aita for asking my boyfriend to drive me to th...   \n",
              "1          1  aita for buying a phone off of my close friend...   \n",
              "2          2  aita for not answering my phone to my mom duri...   \n",
              "3          3  aita for asking my girlfriend to straighten he...   \n",
              "4          4  aita for telling my girlfriend to stop eating ...   \n",
              "...      ...                                                ...   \n",
              "29328  37507  aita for letting someone sit in my seat at the...   \n",
              "29329  37508  aita for venting in a kind of nasty way about ...   \n",
              "29330  37509  wibta if i asked my neighbor to help with the ...   \n",
              "29331  37510  aita for not wanting my fiancée to invite her ...   \n",
              "29332  37511  aita for being disrespectful with my mum over ...   \n",
              "\n",
              "                                                    body          verdict  \\\n",
              "0      i am very, very sick right now with the flu. i...  not the asshole   \n",
              "1      my friend let’s call her zoe & her ex let’s ca...  not the asshole   \n",
              "2      3 months ago i was going to a sleepover with m...          asshole   \n",
              "3      so some backstory. my girlfriend has really be...          asshole   \n",
              "4      weird title, and this’ll sound fake, but it’s ...          asshole   \n",
              "...                                                  ...              ...   \n",
              "29328  i went to watch a play with my girlfriend last...          asshole   \n",
              "29329  so i was hanging out with my friend and i star...          asshole   \n",
              "29330  tl;dr at the bottom.\\n\\n\\n**i will also likely...          asshole   \n",
              "29331  my fiancée and i have been dating 3 years, eng...          asshole   \n",
              "29332  so a little backstory: i am 15 yrs old and i w...  not the asshole   \n",
              "\n",
              "                                                keywords  \n",
              "0      ['hospital', 'drive', 'boyfriend', 'asking', '...  \n",
              "1      ['close friend ’', 'ex boyfriend', 'phone', 'b...  \n",
              "2      ['sleepover', 'phone', 'mom', 'answering', 'ai...  \n",
              "3      ['straighten', 'hair', 'girlfriend', 'asking',...  \n",
              "4      ['stop eating “ baby snacks ”?', 'telling', 'g...  \n",
              "...                                                  ...  \n",
              "29328  ['letting someone sit', 'theatre', 'seat', 'ai...  \n",
              "29329  ['nasty way', 'venting', 'kind', 'classmates',...  \n",
              "29330  ['wibta', 'tree', 'removing', 'neighbor', 'hom...  \n",
              "29331  ['wedding', 'wanting', 'stepdaughter', 'invite...  \n",
              "29332   ['hating anime', 'mum', 'disrespectful', 'aita']  \n",
              "\n",
              "[29333 rows x 5 columns]"
            ]
          },
          "execution_count": 18,
          "metadata": {},
          "output_type": "execute_result"
        }
      ],
      "source": [
        "TOKENS_THRESHOLD = 200\n",
        "def filter_fn(row):\n",
        "    if len(row['body'].split()) > TOKENS_THRESHOLD:\n",
        "        return True\n",
        "    else:\n",
        "        return False\n",
        "\n",
        "data_truncated = data_truncated[data_truncated.apply(filter_fn, axis=1)]\n",
        "data_truncated = data_truncated.reset_index()\n",
        "data_truncated"
      ]
    },
    {
      "cell_type": "code",
      "execution_count": null,
      "metadata": {
        "colab": {
          "base_uri": "https://localhost:8080/",
          "height": 641
        },
        "id": "uRKTwJRvIjCQ",
        "outputId": "8868dfbd-f7e1-402d-8a21-6a729544b270"
      },
      "outputs": [
        {
          "data": {
            "text/html": [
              "\n",
              "  <div id=\"df-afad6255-e44d-45ff-afef-1fdb49744117\">\n",
              "    <div class=\"colab-df-container\">\n",
              "      <div>\n",
              "<style scoped>\n",
              "    .dataframe tbody tr th:only-of-type {\n",
              "        vertical-align: middle;\n",
              "    }\n",
              "\n",
              "    .dataframe tbody tr th {\n",
              "        vertical-align: top;\n",
              "    }\n",
              "\n",
              "    .dataframe thead th {\n",
              "        text-align: right;\n",
              "    }\n",
              "</style>\n",
              "<table border=\"1\" class=\"dataframe\">\n",
              "  <thead>\n",
              "    <tr style=\"text-align: right;\">\n",
              "      <th></th>\n",
              "      <th>index</th>\n",
              "      <th>title</th>\n",
              "      <th>body</th>\n",
              "      <th>verdict</th>\n",
              "      <th>keywords</th>\n",
              "    </tr>\n",
              "  </thead>\n",
              "  <tbody>\n",
              "    <tr>\n",
              "      <th>23242</th>\n",
              "      <td>29722</td>\n",
              "      <td>aita for trying to bring christmas equality</td>\n",
              "      <td>throw away because i do feel a bit guilty - \\n...</td>\n",
              "      <td>asshole</td>\n",
              "      <td>['bring christmas equality', 'trying', 'aita']</td>\n",
              "    </tr>\n",
              "    <tr>\n",
              "      <th>1987</th>\n",
              "      <td>2561</td>\n",
              "      <td>aita the asshole for not wanting to apologise ...</td>\n",
              "      <td>for context, this is in the military. every bu...</td>\n",
              "      <td>asshole</td>\n",
              "      <td>['wanting', 'bunkmate', 'asshole', 'apologise'...</td>\n",
              "    </tr>\n",
              "    <tr>\n",
              "      <th>11477</th>\n",
              "      <td>14718</td>\n",
              "      <td>aita for leaving my brothers birthday dinner b...</td>\n",
              "      <td>gonna try to keep it short without missing any...</td>\n",
              "      <td>not the asshole</td>\n",
              "      <td>['brothers birthday dinner', 'didnt want', 'pa...</td>\n",
              "    </tr>\n",
              "    <tr>\n",
              "      <th>12843</th>\n",
              "      <td>16458</td>\n",
              "      <td>aita for getting mad at my mum for not listening.</td>\n",
              "      <td>so a few months ago my mum and dad found out t...</td>\n",
              "      <td>asshole</td>\n",
              "      <td>['getting mad', 'mum', 'listening', 'aita']</td>\n",
              "    </tr>\n",
              "    <tr>\n",
              "      <th>7422</th>\n",
              "      <td>9556</td>\n",
              "      <td>aita for confronting a role-player about tryin...</td>\n",
              "      <td>so we have a dnd large role-playing group on d...</td>\n",
              "      <td>not the asshole</td>\n",
              "      <td>['make everything', 'trying', 'role', 'player'...</td>\n",
              "    </tr>\n",
              "    <tr>\n",
              "      <th>...</th>\n",
              "      <td>...</td>\n",
              "      <td>...</td>\n",
              "      <td>...</td>\n",
              "      <td>...</td>\n",
              "      <td>...</td>\n",
              "    </tr>\n",
              "    <tr>\n",
              "      <th>3422</th>\n",
              "      <td>4385</td>\n",
              "      <td>aita for delaying breaking up with my gf?</td>\n",
              "      <td>hello there r/aita, long time lurker, first ti...</td>\n",
              "      <td>asshole</td>\n",
              "      <td>['delaying breaking', 'gf', 'aita']</td>\n",
              "    </tr>\n",
              "    <tr>\n",
              "      <th>15836</th>\n",
              "      <td>20257</td>\n",
              "      <td>aita for getting frustrated with a friend who ...</td>\n",
              "      <td>for clarification, these mobility issues are n...</td>\n",
              "      <td>not the asshole</td>\n",
              "      <td>['mobility issues', 'getting frustrated', 'fri...</td>\n",
              "    </tr>\n",
              "    <tr>\n",
              "      <th>26850</th>\n",
              "      <td>34332</td>\n",
              "      <td>aita for not slowing down baseball with my son...</td>\n",
              "      <td>i (40s/m) have one son (14/m) and a step daugh...</td>\n",
              "      <td>asshole</td>\n",
              "      <td>['stepdaughter', 'son', 'slowing', 'baseball',...</td>\n",
              "    </tr>\n",
              "    <tr>\n",
              "      <th>22003</th>\n",
              "      <td>28135</td>\n",
              "      <td>aita for getting pissed at a newly made friend...</td>\n",
              "      <td>i take pictures and videos for other people fo...</td>\n",
              "      <td>asshole</td>\n",
              "      <td>['newly made friend', 'getting pissed', 'uploa...</td>\n",
              "    </tr>\n",
              "    <tr>\n",
              "      <th>25242</th>\n",
              "      <td>32267</td>\n",
              "      <td>aita for being mad at hubby's best friend?</td>\n",
              "      <td>me (25 f) and my husband (23 m) are expecting ...</td>\n",
              "      <td>asshole</td>\n",
              "      <td>['best friend', 'mad', 'hubby', 'aita']</td>\n",
              "    </tr>\n",
              "  </tbody>\n",
              "</table>\n",
              "<p>25000 rows × 5 columns</p>\n",
              "</div>\n",
              "      <button class=\"colab-df-convert\" onclick=\"convertToInteractive('df-afad6255-e44d-45ff-afef-1fdb49744117')\"\n",
              "              title=\"Convert this dataframe to an interactive table.\"\n",
              "              style=\"display:none;\">\n",
              "        \n",
              "  <svg xmlns=\"http://www.w3.org/2000/svg\" height=\"24px\"viewBox=\"0 0 24 24\"\n",
              "       width=\"24px\">\n",
              "    <path d=\"M0 0h24v24H0V0z\" fill=\"none\"/>\n",
              "    <path d=\"M18.56 5.44l.94 2.06.94-2.06 2.06-.94-2.06-.94-.94-2.06-.94 2.06-2.06.94zm-11 1L8.5 8.5l.94-2.06 2.06-.94-2.06-.94L8.5 2.5l-.94 2.06-2.06.94zm10 10l.94 2.06.94-2.06 2.06-.94-2.06-.94-.94-2.06-.94 2.06-2.06.94z\"/><path d=\"M17.41 7.96l-1.37-1.37c-.4-.4-.92-.59-1.43-.59-.52 0-1.04.2-1.43.59L10.3 9.45l-7.72 7.72c-.78.78-.78 2.05 0 2.83L4 21.41c.39.39.9.59 1.41.59.51 0 1.02-.2 1.41-.59l7.78-7.78 2.81-2.81c.8-.78.8-2.07 0-2.86zM5.41 20L4 18.59l7.72-7.72 1.47 1.35L5.41 20z\"/>\n",
              "  </svg>\n",
              "      </button>\n",
              "      \n",
              "  <style>\n",
              "    .colab-df-container {\n",
              "      display:flex;\n",
              "      flex-wrap:wrap;\n",
              "      gap: 12px;\n",
              "    }\n",
              "\n",
              "    .colab-df-convert {\n",
              "      background-color: #E8F0FE;\n",
              "      border: none;\n",
              "      border-radius: 50%;\n",
              "      cursor: pointer;\n",
              "      display: none;\n",
              "      fill: #1967D2;\n",
              "      height: 32px;\n",
              "      padding: 0 0 0 0;\n",
              "      width: 32px;\n",
              "    }\n",
              "\n",
              "    .colab-df-convert:hover {\n",
              "      background-color: #E2EBFA;\n",
              "      box-shadow: 0px 1px 2px rgba(60, 64, 67, 0.3), 0px 1px 3px 1px rgba(60, 64, 67, 0.15);\n",
              "      fill: #174EA6;\n",
              "    }\n",
              "\n",
              "    [theme=dark] .colab-df-convert {\n",
              "      background-color: #3B4455;\n",
              "      fill: #D2E3FC;\n",
              "    }\n",
              "\n",
              "    [theme=dark] .colab-df-convert:hover {\n",
              "      background-color: #434B5C;\n",
              "      box-shadow: 0px 1px 3px 1px rgba(0, 0, 0, 0.15);\n",
              "      filter: drop-shadow(0px 1px 2px rgba(0, 0, 0, 0.3));\n",
              "      fill: #FFFFFF;\n",
              "    }\n",
              "  </style>\n",
              "\n",
              "      <script>\n",
              "        const buttonEl =\n",
              "          document.querySelector('#df-afad6255-e44d-45ff-afef-1fdb49744117 button.colab-df-convert');\n",
              "        buttonEl.style.display =\n",
              "          google.colab.kernel.accessAllowed ? 'block' : 'none';\n",
              "\n",
              "        async function convertToInteractive(key) {\n",
              "          const element = document.querySelector('#df-afad6255-e44d-45ff-afef-1fdb49744117');\n",
              "          const dataTable =\n",
              "            await google.colab.kernel.invokeFunction('convertToInteractive',\n",
              "                                                     [key], {});\n",
              "          if (!dataTable) return;\n",
              "\n",
              "          const docLinkHtml = 'Like what you see? Visit the ' +\n",
              "            '<a target=\"_blank\" href=https://colab.research.google.com/notebooks/data_table.ipynb>data table notebook</a>'\n",
              "            + ' to learn more about interactive tables.';\n",
              "          element.innerHTML = '';\n",
              "          dataTable['output_type'] = 'display_data';\n",
              "          await google.colab.output.renderOutput(dataTable, element);\n",
              "          const docLink = document.createElement('div');\n",
              "          docLink.innerHTML = docLinkHtml;\n",
              "          element.appendChild(docLink);\n",
              "        }\n",
              "      </script>\n",
              "    </div>\n",
              "  </div>\n",
              "  "
            ],
            "text/plain": [
              "       index                                              title  \\\n",
              "23242  29722        aita for trying to bring christmas equality   \n",
              "1987    2561  aita the asshole for not wanting to apologise ...   \n",
              "11477  14718  aita for leaving my brothers birthday dinner b...   \n",
              "12843  16458  aita for getting mad at my mum for not listening.   \n",
              "7422    9556  aita for confronting a role-player about tryin...   \n",
              "...      ...                                                ...   \n",
              "3422    4385          aita for delaying breaking up with my gf?   \n",
              "15836  20257  aita for getting frustrated with a friend who ...   \n",
              "26850  34332  aita for not slowing down baseball with my son...   \n",
              "22003  28135  aita for getting pissed at a newly made friend...   \n",
              "25242  32267         aita for being mad at hubby's best friend?   \n",
              "\n",
              "                                                    body          verdict  \\\n",
              "23242  throw away because i do feel a bit guilty - \\n...          asshole   \n",
              "1987   for context, this is in the military. every bu...          asshole   \n",
              "11477  gonna try to keep it short without missing any...  not the asshole   \n",
              "12843  so a few months ago my mum and dad found out t...          asshole   \n",
              "7422   so we have a dnd large role-playing group on d...  not the asshole   \n",
              "...                                                  ...              ...   \n",
              "3422   hello there r/aita, long time lurker, first ti...          asshole   \n",
              "15836  for clarification, these mobility issues are n...  not the asshole   \n",
              "26850  i (40s/m) have one son (14/m) and a step daugh...          asshole   \n",
              "22003  i take pictures and videos for other people fo...          asshole   \n",
              "25242  me (25 f) and my husband (23 m) are expecting ...          asshole   \n",
              "\n",
              "                                                keywords  \n",
              "23242     ['bring christmas equality', 'trying', 'aita']  \n",
              "1987   ['wanting', 'bunkmate', 'asshole', 'apologise'...  \n",
              "11477  ['brothers birthday dinner', 'didnt want', 'pa...  \n",
              "12843        ['getting mad', 'mum', 'listening', 'aita']  \n",
              "7422   ['make everything', 'trying', 'role', 'player'...  \n",
              "...                                                  ...  \n",
              "3422                 ['delaying breaking', 'gf', 'aita']  \n",
              "15836  ['mobility issues', 'getting frustrated', 'fri...  \n",
              "26850  ['stepdaughter', 'son', 'slowing', 'baseball',...  \n",
              "22003  ['newly made friend', 'getting pissed', 'uploa...  \n",
              "25242            ['best friend', 'mad', 'hubby', 'aita']  \n",
              "\n",
              "[25000 rows x 5 columns]"
            ]
          },
          "execution_count": 19,
          "metadata": {},
          "output_type": "execute_result"
        }
      ],
      "source": [
        "data_small = data_truncated.sample(n=25000)\n",
        "data_small"
      ]
    },
    {
      "cell_type": "code",
      "execution_count": null,
      "metadata": {
        "colab": {
          "base_uri": "https://localhost:8080/",
          "height": 641
        },
        "id": "cxF_GWxahD7Z",
        "outputId": "3748bb75-4aa0-4690-eb15-d9a36874a339"
      },
      "outputs": [
        {
          "data": {
            "text/html": [
              "\n",
              "  <div id=\"df-d54d7037-8efc-4d02-8245-53b0612b1886\">\n",
              "    <div class=\"colab-df-container\">\n",
              "      <div>\n",
              "<style scoped>\n",
              "    .dataframe tbody tr th:only-of-type {\n",
              "        vertical-align: middle;\n",
              "    }\n",
              "\n",
              "    .dataframe tbody tr th {\n",
              "        vertical-align: top;\n",
              "    }\n",
              "\n",
              "    .dataframe thead th {\n",
              "        text-align: right;\n",
              "    }\n",
              "</style>\n",
              "<table border=\"1\" class=\"dataframe\">\n",
              "  <thead>\n",
              "    <tr style=\"text-align: right;\">\n",
              "      <th></th>\n",
              "      <th>title</th>\n",
              "      <th>body</th>\n",
              "      <th>verdict</th>\n",
              "      <th>keywords</th>\n",
              "    </tr>\n",
              "  </thead>\n",
              "  <tbody>\n",
              "    <tr>\n",
              "      <th>0</th>\n",
              "      <td>aita for trying to bring christmas equality</td>\n",
              "      <td>throw away because i do feel a bit guilty - \\n...</td>\n",
              "      <td>asshole</td>\n",
              "      <td>['bring christmas equality', 'trying', 'aita']</td>\n",
              "    </tr>\n",
              "    <tr>\n",
              "      <th>1</th>\n",
              "      <td>aita the asshole for not wanting to apologise ...</td>\n",
              "      <td>for context, this is in the military. every bu...</td>\n",
              "      <td>asshole</td>\n",
              "      <td>['wanting', 'bunkmate', 'asshole', 'apologise'...</td>\n",
              "    </tr>\n",
              "    <tr>\n",
              "      <th>2</th>\n",
              "      <td>aita for leaving my brothers birthday dinner b...</td>\n",
              "      <td>gonna try to keep it short without missing any...</td>\n",
              "      <td>not the asshole</td>\n",
              "      <td>['brothers birthday dinner', 'didnt want', 'pa...</td>\n",
              "    </tr>\n",
              "    <tr>\n",
              "      <th>3</th>\n",
              "      <td>aita for getting mad at my mum for not listening.</td>\n",
              "      <td>so a few months ago my mum and dad found out t...</td>\n",
              "      <td>asshole</td>\n",
              "      <td>['getting mad', 'mum', 'listening', 'aita']</td>\n",
              "    </tr>\n",
              "    <tr>\n",
              "      <th>4</th>\n",
              "      <td>aita for confronting a role-player about tryin...</td>\n",
              "      <td>so we have a dnd large role-playing group on d...</td>\n",
              "      <td>not the asshole</td>\n",
              "      <td>['make everything', 'trying', 'role', 'player'...</td>\n",
              "    </tr>\n",
              "    <tr>\n",
              "      <th>...</th>\n",
              "      <td>...</td>\n",
              "      <td>...</td>\n",
              "      <td>...</td>\n",
              "      <td>...</td>\n",
              "    </tr>\n",
              "    <tr>\n",
              "      <th>24995</th>\n",
              "      <td>aita for delaying breaking up with my gf?</td>\n",
              "      <td>hello there r/aita, long time lurker, first ti...</td>\n",
              "      <td>asshole</td>\n",
              "      <td>['delaying breaking', 'gf', 'aita']</td>\n",
              "    </tr>\n",
              "    <tr>\n",
              "      <th>24996</th>\n",
              "      <td>aita for getting frustrated with a friend who ...</td>\n",
              "      <td>for clarification, these mobility issues are n...</td>\n",
              "      <td>not the asshole</td>\n",
              "      <td>['mobility issues', 'getting frustrated', 'fri...</td>\n",
              "    </tr>\n",
              "    <tr>\n",
              "      <th>24997</th>\n",
              "      <td>aita for not slowing down baseball with my son...</td>\n",
              "      <td>i (40s/m) have one son (14/m) and a step daugh...</td>\n",
              "      <td>asshole</td>\n",
              "      <td>['stepdaughter', 'son', 'slowing', 'baseball',...</td>\n",
              "    </tr>\n",
              "    <tr>\n",
              "      <th>24998</th>\n",
              "      <td>aita for getting pissed at a newly made friend...</td>\n",
              "      <td>i take pictures and videos for other people fo...</td>\n",
              "      <td>asshole</td>\n",
              "      <td>['newly made friend', 'getting pissed', 'uploa...</td>\n",
              "    </tr>\n",
              "    <tr>\n",
              "      <th>24999</th>\n",
              "      <td>aita for being mad at hubby's best friend?</td>\n",
              "      <td>me (25 f) and my husband (23 m) are expecting ...</td>\n",
              "      <td>asshole</td>\n",
              "      <td>['best friend', 'mad', 'hubby', 'aita']</td>\n",
              "    </tr>\n",
              "  </tbody>\n",
              "</table>\n",
              "<p>25000 rows × 4 columns</p>\n",
              "</div>\n",
              "      <button class=\"colab-df-convert\" onclick=\"convertToInteractive('df-d54d7037-8efc-4d02-8245-53b0612b1886')\"\n",
              "              title=\"Convert this dataframe to an interactive table.\"\n",
              "              style=\"display:none;\">\n",
              "        \n",
              "  <svg xmlns=\"http://www.w3.org/2000/svg\" height=\"24px\"viewBox=\"0 0 24 24\"\n",
              "       width=\"24px\">\n",
              "    <path d=\"M0 0h24v24H0V0z\" fill=\"none\"/>\n",
              "    <path d=\"M18.56 5.44l.94 2.06.94-2.06 2.06-.94-2.06-.94-.94-2.06-.94 2.06-2.06.94zm-11 1L8.5 8.5l.94-2.06 2.06-.94-2.06-.94L8.5 2.5l-.94 2.06-2.06.94zm10 10l.94 2.06.94-2.06 2.06-.94-2.06-.94-.94-2.06-.94 2.06-2.06.94z\"/><path d=\"M17.41 7.96l-1.37-1.37c-.4-.4-.92-.59-1.43-.59-.52 0-1.04.2-1.43.59L10.3 9.45l-7.72 7.72c-.78.78-.78 2.05 0 2.83L4 21.41c.39.39.9.59 1.41.59.51 0 1.02-.2 1.41-.59l7.78-7.78 2.81-2.81c.8-.78.8-2.07 0-2.86zM5.41 20L4 18.59l7.72-7.72 1.47 1.35L5.41 20z\"/>\n",
              "  </svg>\n",
              "      </button>\n",
              "      \n",
              "  <style>\n",
              "    .colab-df-container {\n",
              "      display:flex;\n",
              "      flex-wrap:wrap;\n",
              "      gap: 12px;\n",
              "    }\n",
              "\n",
              "    .colab-df-convert {\n",
              "      background-color: #E8F0FE;\n",
              "      border: none;\n",
              "      border-radius: 50%;\n",
              "      cursor: pointer;\n",
              "      display: none;\n",
              "      fill: #1967D2;\n",
              "      height: 32px;\n",
              "      padding: 0 0 0 0;\n",
              "      width: 32px;\n",
              "    }\n",
              "\n",
              "    .colab-df-convert:hover {\n",
              "      background-color: #E2EBFA;\n",
              "      box-shadow: 0px 1px 2px rgba(60, 64, 67, 0.3), 0px 1px 3px 1px rgba(60, 64, 67, 0.15);\n",
              "      fill: #174EA6;\n",
              "    }\n",
              "\n",
              "    [theme=dark] .colab-df-convert {\n",
              "      background-color: #3B4455;\n",
              "      fill: #D2E3FC;\n",
              "    }\n",
              "\n",
              "    [theme=dark] .colab-df-convert:hover {\n",
              "      background-color: #434B5C;\n",
              "      box-shadow: 0px 1px 3px 1px rgba(0, 0, 0, 0.15);\n",
              "      filter: drop-shadow(0px 1px 2px rgba(0, 0, 0, 0.3));\n",
              "      fill: #FFFFFF;\n",
              "    }\n",
              "  </style>\n",
              "\n",
              "      <script>\n",
              "        const buttonEl =\n",
              "          document.querySelector('#df-d54d7037-8efc-4d02-8245-53b0612b1886 button.colab-df-convert');\n",
              "        buttonEl.style.display =\n",
              "          google.colab.kernel.accessAllowed ? 'block' : 'none';\n",
              "\n",
              "        async function convertToInteractive(key) {\n",
              "          const element = document.querySelector('#df-d54d7037-8efc-4d02-8245-53b0612b1886');\n",
              "          const dataTable =\n",
              "            await google.colab.kernel.invokeFunction('convertToInteractive',\n",
              "                                                     [key], {});\n",
              "          if (!dataTable) return;\n",
              "\n",
              "          const docLinkHtml = 'Like what you see? Visit the ' +\n",
              "            '<a target=\"_blank\" href=https://colab.research.google.com/notebooks/data_table.ipynb>data table notebook</a>'\n",
              "            + ' to learn more about interactive tables.';\n",
              "          element.innerHTML = '';\n",
              "          dataTable['output_type'] = 'display_data';\n",
              "          await google.colab.output.renderOutput(dataTable, element);\n",
              "          const docLink = document.createElement('div');\n",
              "          docLink.innerHTML = docLinkHtml;\n",
              "          element.appendChild(docLink);\n",
              "        }\n",
              "      </script>\n",
              "    </div>\n",
              "  </div>\n",
              "  "
            ],
            "text/plain": [
              "                                                   title  \\\n",
              "0            aita for trying to bring christmas equality   \n",
              "1      aita the asshole for not wanting to apologise ...   \n",
              "2      aita for leaving my brothers birthday dinner b...   \n",
              "3      aita for getting mad at my mum for not listening.   \n",
              "4      aita for confronting a role-player about tryin...   \n",
              "...                                                  ...   \n",
              "24995          aita for delaying breaking up with my gf?   \n",
              "24996  aita for getting frustrated with a friend who ...   \n",
              "24997  aita for not slowing down baseball with my son...   \n",
              "24998  aita for getting pissed at a newly made friend...   \n",
              "24999         aita for being mad at hubby's best friend?   \n",
              "\n",
              "                                                    body          verdict  \\\n",
              "0      throw away because i do feel a bit guilty - \\n...          asshole   \n",
              "1      for context, this is in the military. every bu...          asshole   \n",
              "2      gonna try to keep it short without missing any...  not the asshole   \n",
              "3      so a few months ago my mum and dad found out t...          asshole   \n",
              "4      so we have a dnd large role-playing group on d...  not the asshole   \n",
              "...                                                  ...              ...   \n",
              "24995  hello there r/aita, long time lurker, first ti...          asshole   \n",
              "24996  for clarification, these mobility issues are n...  not the asshole   \n",
              "24997  i (40s/m) have one son (14/m) and a step daugh...          asshole   \n",
              "24998  i take pictures and videos for other people fo...          asshole   \n",
              "24999  me (25 f) and my husband (23 m) are expecting ...          asshole   \n",
              "\n",
              "                                                keywords  \n",
              "0         ['bring christmas equality', 'trying', 'aita']  \n",
              "1      ['wanting', 'bunkmate', 'asshole', 'apologise'...  \n",
              "2      ['brothers birthday dinner', 'didnt want', 'pa...  \n",
              "3            ['getting mad', 'mum', 'listening', 'aita']  \n",
              "4      ['make everything', 'trying', 'role', 'player'...  \n",
              "...                                                  ...  \n",
              "24995                ['delaying breaking', 'gf', 'aita']  \n",
              "24996  ['mobility issues', 'getting frustrated', 'fri...  \n",
              "24997  ['stepdaughter', 'son', 'slowing', 'baseball',...  \n",
              "24998  ['newly made friend', 'getting pissed', 'uploa...  \n",
              "24999            ['best friend', 'mad', 'hubby', 'aita']  \n",
              "\n",
              "[25000 rows x 4 columns]"
            ]
          },
          "execution_count": 36,
          "metadata": {},
          "output_type": "execute_result"
        }
      ],
      "source": [
        "data_small = data_small.reset_index(drop = True)\n",
        "data_small = data_small[['title', 'body', 'verdict', 'keywords']]\n",
        "data_small"
      ]
    },
    {
      "cell_type": "code",
      "execution_count": null,
      "metadata": {
        "colab": {
          "base_uri": "https://localhost:8080/"
        },
        "id": "3OzW2GmfIlx0",
        "outputId": "fb776580-4608-4fe0-d40c-f5c589311f1c"
      },
      "outputs": [
        {
          "data": {
            "text/plain": [
              "not the asshole    12968\n",
              "asshole            12032\n",
              "Name: verdict, dtype: int64"
            ]
          },
          "execution_count": 37,
          "metadata": {},
          "output_type": "execute_result"
        }
      ],
      "source": [
        "data_small['verdict'].value_counts()"
      ]
    },
    {
      "cell_type": "code",
      "execution_count": null,
      "metadata": {
        "colab": {
          "base_uri": "https://localhost:8080/"
        },
        "id": "vCI16rrQIqEr",
        "outputId": "ead3cd3e-5578-4642-f151-5af8c29719e7"
      },
      "outputs": [
        {
          "data": {
            "text/plain": [
              "not the asshole    15200\n",
              "asshole            14133\n",
              "Name: verdict, dtype: int64"
            ]
          },
          "execution_count": 38,
          "metadata": {},
          "output_type": "execute_result"
        }
      ],
      "source": [
        "data_truncated['verdict'].value_counts()"
      ]
    },
    {
      "cell_type": "code",
      "execution_count": null,
      "metadata": {
        "colab": {
          "base_uri": "https://localhost:8080/",
          "height": 168,
          "referenced_widgets": [
            "da25af539d1940b395b76fa6c977798d",
            "bced8dffa1884fdea0cc38d0c059955d",
            "642708406418416ea1fe47829b7e5c62",
            "6fe9396c9306425c872dfce8f47880e1",
            "0b3f2c212d84476b9c99b610742f7f46",
            "617f58031b4a4921810dd995d1d1b44f",
            "67a3ff5cc5ff4578b11bd45493d234cf",
            "daf0078fa51b4d8783edc5337a5cc99a",
            "49ea56bc4c0a4e1da237a886b35812b3",
            "16033307bfd34aed96125faac4eb3ca5",
            "2fc19c3d3e494675a0a2ec46f1177041",
            "6b2bba97aa73413298caec90ad60407d",
            "1e7d9a81e1bb403b9f7f580873db520f",
            "5371f9d244d049c591e8904c882bf81b",
            "44230a96e0b643088f6e71c4843e0aef",
            "1d47468ae0ba44129763a4b4ab94f80a",
            "8aafeee9ee5c454a92524e02294607bc",
            "00f9050096c34c56a4fa4361b2a7141d",
            "4e57786168da4c8395918439cc41d093",
            "9b40867b40fc45c3bfbe62b1fd0714ed",
            "cd841380135849489f99ef106664d080",
            "f17d796638ae4626956053c2b8c1f814",
            "df965407d8e942748382295618b057d2",
            "5f75af92131a490ab682a7cf23d8cfa5",
            "50f17e57bd654716a1408009aad43317",
            "4f5706c2002a4054818af56860364a1b",
            "530a8d35e76c41ea88e25e8ed88e5205",
            "02e109273f524809999dfb2736231534",
            "ab5eef8a22f84622ba054d78f59a46af",
            "20bcde8adbc64ff4a75d6f72e0effdc1",
            "5bdbe66f32b945d4915a2889a0271dca",
            "5490f2df4e9249628c884a792ea2f224",
            "7d9b31ff807f41c08f1a75dd11135906"
          ]
        },
        "id": "2KDNDY6CI1I_",
        "outputId": "4f51fe9c-46b1-4d04-9afc-41902605d74d"
      },
      "outputs": [
        {
          "data": {
            "application/vnd.jupyter.widget-view+json": {
              "model_id": "da25af539d1940b395b76fa6c977798d",
              "version_major": 2,
              "version_minor": 0
            },
            "text/plain": [
              "Downloading:   0%|          | 0.00/0.99M [00:00<?, ?B/s]"
            ]
          },
          "metadata": {},
          "output_type": "display_data"
        },
        {
          "data": {
            "application/vnd.jupyter.widget-view+json": {
              "model_id": "6b2bba97aa73413298caec90ad60407d",
              "version_major": 2,
              "version_minor": 0
            },
            "text/plain": [
              "Downloading:   0%|          | 0.00/446k [00:00<?, ?B/s]"
            ]
          },
          "metadata": {},
          "output_type": "display_data"
        },
        {
          "data": {
            "application/vnd.jupyter.widget-view+json": {
              "model_id": "df965407d8e942748382295618b057d2",
              "version_major": 2,
              "version_minor": 0
            },
            "text/plain": [
              "Downloading:   0%|          | 0.00/665 [00:00<?, ?B/s]"
            ]
          },
          "metadata": {},
          "output_type": "display_data"
        },
        {
          "name": "stderr",
          "output_type": "stream",
          "text": [
            "Special tokens have been added in the vocabulary, make sure the associated word embeddings are fine-tuned or trained.\n"
          ]
        },
        {
          "data": {
            "text/plain": [
              "[36674, 8255]"
            ]
          },
          "execution_count": 39,
          "metadata": {},
          "output_type": "execute_result"
        }
      ],
      "source": [
        "from transformers import GPT2Tokenizer\n",
        "\n",
        "tokenizer = GPT2Tokenizer.from_pretrained('gpt2', \n",
        "                                          bos_token='<|startofprompt|>', \n",
        "                                          eos_token='<|endoftext|>', \n",
        "                                          pad_token='<|pad|>',\n",
        "                                         )\n",
        "\n",
        "\n",
        "tokenizer.encode(\"Sample Text\")"
      ]
    },
    {
      "cell_type": "code",
      "execution_count": null,
      "metadata": {
        "colab": {
          "base_uri": "https://localhost:8080/"
        },
        "id": "GcV8OQ7xLlPQ",
        "outputId": "9f41453b-d20a-49e9-d3d2-170d15c8e328"
      },
      "outputs": [
        {
          "data": {
            "text/plain": [
              "50259"
            ]
          },
          "execution_count": 40,
          "metadata": {},
          "output_type": "execute_result"
        }
      ],
      "source": [
        "len(tokenizer)"
      ]
    },
    {
      "cell_type": "code",
      "execution_count": null,
      "metadata": {
        "colab": {
          "base_uri": "https://localhost:8080/"
        },
        "id": "9yYCuJYZJBGN",
        "outputId": "09190747-11cd-4b7d-a2e0-a41a36060bc2"
      },
      "outputs": [
        {
          "data": {
            "text/plain": [
              "[50259, 50260, 50261, 50262, 50263, 50264]"
            ]
          },
          "execution_count": 41,
          "metadata": {},
          "output_type": "execute_result"
        }
      ],
      "source": [
        "tokenizer.add_tokens(['<|endofprompt|>', '<|startofverdict|>', '<|endofverdict|>', '<|sok|>', '<|eok|>', '<|startoftext|>'], special_tokens=True)\n",
        "tokenizer.convert_tokens_to_ids(['<|endofprompt|>', '<|startofverdict|>', '<|endofverdict|>', '<|sok|>', '<|eok|>', '<|startoftext|>'])"
      ]
    },
    {
      "cell_type": "code",
      "execution_count": null,
      "metadata": {
        "colab": {
          "base_uri": "https://localhost:8080/"
        },
        "id": "4Mo5SZaLKts3",
        "outputId": "cd4b89cd-25e2-4197-dbec-70b78c24271e"
      },
      "outputs": [
        {
          "data": {
            "text/plain": [
              "['<|startofprompt|>', '<|endoftext|>', '<|pad|>']"
            ]
          },
          "execution_count": 42,
          "metadata": {},
          "output_type": "execute_result"
        }
      ],
      "source": [
        "tokenizer.all_special_tokens"
      ]
    },
    {
      "cell_type": "code",
      "execution_count": null,
      "metadata": {
        "colab": {
          "base_uri": "https://localhost:8080/"
        },
        "id": "0If8KvLxK9ry",
        "outputId": "cd161d53-0a47-479f-a742-570601c4acbc"
      },
      "outputs": [
        {
          "data": {
            "text/plain": [
              "50265"
            ]
          },
          "execution_count": 43,
          "metadata": {},
          "output_type": "execute_result"
        }
      ],
      "source": [
        "len(tokenizer)"
      ]
    },
    {
      "cell_type": "code",
      "execution_count": null,
      "metadata": {
        "id": "nuTGwnZJB60x"
      },
      "outputs": [],
      "source": [
        "titles = data_small.title.copy()\n",
        "verdicts = data_small.verdict.copy()\n",
        "stories = data_small.body.copy()\n",
        "keywords = data_small.keywords.copy()\n",
        "\n",
        "keywords = pd.Series(list(map(lambda x: ast.literal_eval(x), keywords)))\n",
        "keywords = list(map(lambda x: join_keywords(x), keywords))"
      ]
    },
    {
      "cell_type": "code",
      "execution_count": null,
      "metadata": {
        "colab": {
          "base_uri": "https://localhost:8080/"
        },
        "id": "S8aMBu5fg5Y1",
        "outputId": "ba7f65ca-f10f-46cf-9acb-5a9d5b5b42ef"
      },
      "outputs": [
        {
          "name": "stdout",
          "output_type": "stream",
          "text": [
            "aita for trying to bring christmas equality\n",
            "asshole\n",
            "throw away because i do feel a bit guilty - \n",
            "\n",
            "we have had a very eventful year (bought a house in june, had twins in july) which has led us to being a little lower on cash then usual. now that we're coming up on christmas i am trying to keep us on budget but not make our older kids feel completely stiffed (i usually try to buy them what they asked for)\n",
            "\n",
            "here's the situation, i have a son and stepdaughter (both 11 yo). every year my stepdaughters grandmother goes above and beyond for christmas. she buys things for both of the kids but every year my stepdaughter has a big \"surprise\" box of things they sneak off to stores and buy for my stepdaughter. it's usually a bunch of toys and clothes that my stepdaughter has picked out for herself and she opens on christmas day. my mother in law insists she \"spends the same amount on everybody\" but the things in the box are usually worth $200 or more. this annoys me every year because they lie about it and my mil keeps insisting she only spends $100 on each kid, it has never been a big deal to my son because he's not very materialistic and is fine with what he gets. anyway, this year i suggested to my husband that we scale back on what we buy my stepdaughter because we know she's going to get a \"surprise\" box from grandma and she is also going to get stuff from her bio mom and we use some extra money on one of the items my son wants. this did not go over well and my husband thinks i am trying to keep money from stepdaughter and it will be unfair. even though we know she is going to get more stuff then my son, he thinks we should still spend an equal amount...aita for suggesting we even things out?\n",
            "aita,trying,bring christmas equality\n"
          ]
        }
      ],
      "source": [
        "sample_title = data_small[:1]['title'].values[0]\n",
        "sample_verdict = data_small[:1]['verdict'].values[0]\n",
        "sample_body = data_small[:1]['body'].values[0]\n",
        "# sample_keywords = data_small[:1]['keywords'].values[0]\n",
        "sample_keywords = keywords[0]\n",
        "print(sample_title)\n",
        "print(sample_verdict)\n",
        "print(sample_body)\n",
        "print(sample_keywords)"
      ]
    },
    {
      "cell_type": "code",
      "execution_count": null,
      "metadata": {
        "id": "sy7uKWgN_zKx"
      },
      "outputs": [],
      "source": [
        "def join_keywords(keywords, randomize=True):\n",
        "    N = len(keywords)\n",
        "\n",
        "    #random sampling and shuffle\n",
        "    if randomize: \n",
        "        # M = random.choice(range(N+1))\n",
        "        keywords = keywords[:N]\n",
        "        random.shuffle(keywords)\n",
        "\n",
        "    return ','.join(keywords)"
      ]
    },
    {
      "cell_type": "code",
      "execution_count": null,
      "metadata": {
        "colab": {
          "base_uri": "https://localhost:8080/"
        },
        "id": "tVaayiI1LG7m",
        "outputId": "36a02b7d-964c-4a40-8157-f53a84e12e7b"
      },
      "outputs": [
        {
          "data": {
            "text/plain": [
              "412"
            ]
          },
          "execution_count": 97,
          "metadata": {},
          "output_type": "execute_result"
        }
      ],
      "source": [
        "len(tokenizer.encode(\"<|startofprompt|>\" + sample_title + \"<|endofprompt|>\" + sample_verdict + \"<|endofverdict|>\" + sample_keywords + \"<|eok|>\"+ sample_body + \"<|endoftext|>\"))"
      ]
    },
    {
      "cell_type": "code",
      "execution_count": null,
      "metadata": {
        "id": "X_RrsRBSiIXL"
      },
      "outputs": [],
      "source": [
        "bs = 1\n",
        "max_story = 800"
      ]
    },
    {
      "cell_type": "code",
      "execution_count": null,
      "metadata": {
        "id": "J4nwc1HhiWYk"
      },
      "outputs": [],
      "source": [
        "import torch\n",
        "torch.manual_seed(67)\n",
        "from torch.utils.data import Dataset \n",
        "\n",
        "class AitaDataset(Dataset):\n",
        "\n",
        "  def __init__(self, titles, verdicts, txt_list, tokenizer, gpt2_type=\"gpt2\", max_length=max_story):\n",
        "\n",
        "    self.tokenizer = tokenizer # the gpt2 tokenizer we instantiated\n",
        "    self.input_ids = []\n",
        "    self.attn_masks = []\n",
        "    self.labels = []\n",
        "\n",
        "    for i in range(len(txt_list)):\n",
        "      \"\"\"\n",
        "      This loop will iterate through each entry in the text corpus.\n",
        "      For each bit of text it will prepend it with the start of text token,\n",
        "      then append the end of text token and pad to the maximum length with the \n",
        "      pad token. \n",
        "      \"\"\"\n",
        "\n",
        "      encodings_dict = tokenizer('<|startofprompt|>'+ titles[i] + \"<|endofprompt|>\" \n",
        "                                 + verdicts[i] + \"<|endofverdict|>\"\n",
        "                                 + keywords[i] + \"<|eok|>\"\n",
        "                                 + txt_list[i] + \"<|endoftext|>\",\n",
        "                                 truncation=True, \n",
        "                                 max_length=max_length, \n",
        "                                 padding=\"max_length\",\n",
        "                                 )\n",
        "      prompts = tokenizer(\"<|startofprompt|>\" + titles[i] + \"<|endofprompt|>\" \n",
        "                          + verdicts[i] + \"<|endofverdict|>\" + keywords[i] \n",
        "                          + \"<|eok|>\", truncation=True, max_length=max_length)\n",
        "      \n",
        "      \"\"\"\n",
        "      Each iteration then appends either the encoded tensor to a list,\n",
        "      or the attention mask for that encoding to a list. The attention mask is\n",
        "      a binary list of 1's or 0's which determine whether the langauge model\n",
        "      should take that token into consideration or not. \n",
        "      \"\"\"\n",
        "      self.input_ids.append(torch.tensor(encodings_dict['input_ids']))\n",
        "      self.attn_masks.append(torch.tensor(encodings_dict['attention_mask']))\n",
        "      self.labels.append(torch.tensor(prompts[\"input_ids\"]))\n",
        "    \n",
        "  def __len__(self):\n",
        "    return len(self.input_ids)\n",
        "\n",
        "  def __getitem__(self, idx):\n",
        "    return self.input_ids[idx], self.labels[idx], self.attn_masks[idx] "
      ]
    },
    {
      "cell_type": "code",
      "execution_count": null,
      "metadata": {
        "colab": {
          "base_uri": "https://localhost:8080/",
          "height": 35
        },
        "id": "FIL2h1HijUO0",
        "outputId": "6c4e2833-e2af-4d4d-d7ba-d1c5970c66ed"
      },
      "outputs": [
        {
          "data": {
            "application/vnd.google.colaboratory.intrinsic+json": {
              "type": "string"
            },
            "text/plain": [
              "'There are 22500 samples for training, and 2500 samples for validation testing'"
            ]
          },
          "execution_count": 115,
          "metadata": {},
          "output_type": "execute_result"
        }
      ],
      "source": [
        "from torch.utils.data import random_split\n",
        "\n",
        "dataset = AitaDataset(titles, verdicts, stories, tokenizer, max_length=800)\n",
        "\n",
        "# Split into training and validation sets\n",
        "train_size = int(0.9 * len(dataset))\n",
        "val_size = len(dataset) - train_size\n",
        "\n",
        "train_dataset, val_dataset = random_split(dataset, [train_size, val_size])\n",
        "\n",
        "f'There are {train_size} samples for training, and {val_size} samples for validation testing'"
      ]
    },
    {
      "cell_type": "code",
      "execution_count": null,
      "metadata": {
        "colab": {
          "base_uri": "https://localhost:8080/"
        },
        "id": "QE02SJcXPx03",
        "outputId": "556ced4b-fd0d-4432-81fc-8566027e1a12"
      },
      "outputs": [
        {
          "data": {
            "text/plain": [
              "torch.Size([800])"
            ]
          },
          "execution_count": 116,
          "metadata": {},
          "output_type": "execute_result"
        }
      ],
      "source": [
        "train_dataset[0][0].shape"
      ]
    },
    {
      "cell_type": "code",
      "execution_count": null,
      "metadata": {
        "id": "c2OpnOflj0_G"
      },
      "outputs": [],
      "source": [
        "import random\n",
        "from transformers import GPT2LMHeadModel, GPT2Config\n",
        "import numpy as np\n",
        "\n",
        "# Loading the model configuration and setting it to the GPT2 standard settings.\n",
        "configuration = GPT2Config.from_pretrained('gpt2', output_hidden_states=False)\n",
        "\n",
        "# Create the instance of the model and set the token size embedding length\n",
        "model = GPT2LMHeadModel.from_pretrained(\"gpt2\", config=configuration)\n",
        "model.resize_token_embeddings(len(tokenizer))\n",
        "\n",
        "# Tell pytorch to run this model on the GPU.\n",
        "device = torch.device(\"cuda\")\n",
        "model.cuda()\n",
        "\n",
        "# This step is optional but will enable reproducible runs.\n",
        "seed_val = 67\n",
        "\n",
        "random.seed(seed_val)\n",
        "np.random.seed(seed_val)\n",
        "torch.manual_seed(seed_val)\n",
        "torch.cuda.manual_seed_all(seed_val)"
      ]
    },
    {
      "cell_type": "code",
      "execution_count": null,
      "metadata": {
        "colab": {
          "base_uri": "https://localhost:8080/"
        },
        "id": "v_PsrS7KkY3O",
        "outputId": "f8f5a336-f922-4ff2-ea72-9f65675869a0"
      },
      "outputs": [
        {
          "name": "stderr",
          "output_type": "stream",
          "text": [
            "/usr/local/lib/python3.7/dist-packages/transformers/optimization.py:309: FutureWarning: This implementation of AdamW is deprecated and will be removed in a future version. Use the PyTorch implementation torch.optim.AdamW instead, or set `no_deprecation_warning=True` to disable this warning\n",
            "  FutureWarning,\n"
          ]
        }
      ],
      "source": [
        "epochs = 4\n",
        "warmup_steps = 1e2\n",
        "sample_every = 500\n",
        "\n",
        "''' Initializing Optimizer '''\n",
        "from transformers import AdamW\n",
        "# AdamW is a class from the huggingface library, it is the optimizer we will be using, and we will only be instantiating it with the default parameters. \n",
        "optimizer = AdamW(model.parameters(),\n",
        "                  lr = 5e-4,\n",
        "                  eps = 1e-8\n",
        "                )"
      ]
    },
    {
      "cell_type": "code",
      "execution_count": null,
      "metadata": {
        "id": "TCKMDmTkks7e"
      },
      "outputs": [],
      "source": [
        "from torch.utils.data import DataLoader, RandomSampler, SequentialSampler\n",
        "\n",
        "train_dataloader = DataLoader(\n",
        "            train_dataset,  \n",
        "            sampler = RandomSampler(train_dataset), # Sampling for training is random\n",
        "            batch_size = bs\n",
        "        )\n",
        "\n",
        "validation_dataloader = DataLoader(\n",
        "            val_dataset, \n",
        "            sampler = SequentialSampler(val_dataset), # Sampling for validation is sequential as the order doesn't matter.\n",
        "            batch_size = bs\n",
        "        )"
      ]
    },
    {
      "cell_type": "code",
      "execution_count": null,
      "metadata": {
        "id": "QBJOX8-UknR_"
      },
      "outputs": [],
      "source": [
        "from transformers import get_linear_schedule_with_warmup\n",
        "\n",
        "\"\"\"\n",
        "Total training steps is the number of data points, times the number of epochs. \n",
        "Essentially, epochs are training cycles, how many times each point will be seen by the model. \n",
        "\"\"\"\n",
        "\n",
        "total_steps = len(train_dataloader) * epochs\n",
        "\n",
        "\"\"\"\n",
        "set a variable learning rate which will help scan larger areas of the \n",
        "problem space at higher LR earlier, then fine tune to find the exact model minima \n",
        "at lower LR later in training.\n",
        "\"\"\"\n",
        "scheduler = get_linear_schedule_with_warmup(optimizer, \n",
        "                                            num_warmup_steps = warmup_steps, \n",
        "                                            num_training_steps = total_steps)"
      ]
    },
    {
      "cell_type": "markdown",
      "metadata": {
        "id": "r7QnXaB5gyZB"
      },
      "source": [
        ""
      ]
    },
    {
      "cell_type": "code",
      "execution_count": null,
      "metadata": {
        "colab": {
          "background_save": true,
          "base_uri": "https://localhost:8080/"
        },
        "id": "XdFTe__6kqCG",
        "outputId": "44fcf25d-6e22-4e32-e60a-2668144719bf"
      },
      "outputs": [
        {
          "name": "stdout",
          "output_type": "stream",
          "text": [
            "Beginning epoch 1 of 4\n"
          ]
        },
        {
          "name": "stderr",
          "output_type": "stream",
          "text": [
            "Setting `pad_token_id` to `eos_token_id`:50256 for open-end generation.\n"
          ]
        },
        {
          "name": "stdout",
          "output_type": "stream",
          "text": [
            "Batch 500 of 22500. Loss:1.8649296760559082. Time:0:02:34\n",
            "Example output: 6 bestbest,best,aita,aita <|eok|> feel free to ask me what's going on. am i not an asshole? (aside from the fact that i don't like all the shit out there.) i'm a fairly successful writer (we've both had best,best <|eok|> worse,best writing). i've always believed in one thing: my work is <|endofverdict|>  best; it's not something we're constantly trying to present or the fact that we always say we like the things we do, like the things we do.\n"
          ]
        },
        {
          "name": "stderr",
          "output_type": "stream",
          "text": [
            "Setting `pad_token_id` to `eos_token_id`:50256 for open-end generation.\n"
          ]
        },
        {
          "name": "stdout",
          "output_type": "stream",
          "text": [
            "Batch 1000 of 22500. Loss:1.5061593055725098. Time:0:05:17\n",
            "Example output: wibta if my aunt (letting my bf have the \"funeral\"? if she's still alive) decides to help out? <|endofprompt|> asshole <|endofverdict|> funeral,wibta,aita,wibta,wibta,mother <|eok|> this post was really bad. i'm sorry i'm so bad, but i think we should at least address this in some sort of way? \n",
            "\n",
            "she was a pretty good aunt to me, but had been miserable. when she was dying she had to make another funeral for her. so a couple weeks before her death she had to tell her aunt she'd be coming home. a few weeks before her funeral she had the same problem. \"let me keep in mind, i had a pretty bad time for her.\" she said \"i wish i could get married\", something which she didn't understand. i did feel bad because i would feel bad about that, but i didn't feel bad. so she was saying\n"
          ]
        },
        {
          "name": "stderr",
          "output_type": "stream",
          "text": [
            "Setting `pad_token_id` to `eos_token_id`:50256 for open-end generation.\n"
          ]
        },
        {
          "name": "stdout",
          "output_type": "stream",
          "text": [
            "Batch 1500 of 22500. Loss:2.7052690982818604. Time:0:08:03\n",
            "Example output: aita for asking my boyfriend to stop asking me for advice on how to fix my girlfriend's hair? <|endofprompt|> asshole <|endofverdict|> girlfriend,foster request,hair,aita,exposing,shoes,exposing,asking,fix <|eok|> i have 3 daughters. i love my boyfriend, he is always so supportive of me, he wants more love and i really don't know how to cope with him and i really don't know what to do or say. we're getting older and i don't love him or how i feel about him or how he cares for me. i told him that i don't ask for advice on how to fix things and he told me to stop. i really don't need advice on how to deal with him. \n",
            "\n",
            "\n",
            "my boyfriend is a very generous person. he doesn't waste any time getting a promotion, he treats his wife and other people great, he's nice to his gf and gets a free promotion as well. i'm\n"
          ]
        },
        {
          "name": "stderr",
          "output_type": "stream",
          "text": [
            "Setting `pad_token_id` to `eos_token_id`:50256 for open-end generation.\n"
          ]
        },
        {
          "name": "stdout",
          "output_type": "stream",
          "text": [
            "Batch 2000 of 22500. Loss:1.0797792673110962. Time:0:10:48\n",
            "Example output: aita for skipping christmas with my friends because they won't allow my brother to go? <|endofprompt|> asshole <|endofverdict|> brother,aita,skipping christmas,brother, allow,go <|eok|> so, when i started living with my brother, we made the decision to stop going to a friend because he was the only person there at the time of the trip and i thought he might be interested in going anyway. since then he hasn't changed, and i had no idea what to do but i was on my phone. however i have some friends that want to be there for the wedding and i said i won't let him in for christmas, but i would've never left the house alone, i would've always wanted to go for my brother for a bit. my brother is like, \"uh, i don't care what you think about it, you've never seen this before and i'm pretty sure it's a family thing.\" but we've been friends since i was 12\n"
          ]
        },
        {
          "name": "stderr",
          "output_type": "stream",
          "text": [
            "Setting `pad_token_id` to `eos_token_id`:50256 for open-end generation.\n"
          ]
        },
        {
          "name": "stdout",
          "output_type": "stream",
          "text": [
            "Batch 2500 of 22500. Loss:3.356994390487671. Time:0:13:34\n",
            "Example output: aita for not giving a go on my family's dinner? <|endofprompt|> asshole <|endofverdict|> family,dinner,going,aita <|eok|> i know my family, siblings and best friend (who i'm also close to) pretty well, but i just can't do it anymore. they had asked me to babysit them for christmas and i just barely answered. they knew all about my family's dinner but then my parents asked me about christmas and i politely declined. aita?\n",
            "\n",
            "edit: i know my family is very close to my family, but they're all close with their dad (who i'm really close with) or family members (who i'm not close with).\n",
            "\n",
            "edit 2: thank you all and thank you all, i've had some more info. there is a few things that make it weird, i know that they know each other very well and i understand how much they care for each other and want each other to live together in the same\n"
          ]
        },
        {
          "name": "stderr",
          "output_type": "stream",
          "text": [
            "Setting `pad_token_id` to `eos_token_id`:50256 for open-end generation.\n"
          ]
        },
        {
          "name": "stdout",
          "output_type": "stream",
          "text": [
            "Batch 3000 of 22500. Loss:1.2749552726745605. Time:0:16:19\n",
            "Example output: aita for refusing to share my gf’s bf with a mutual friend when he’s the one doing it? <|endofprompt|> asshole <|endofverdict|> telling,friendship,’,gf ’,share,’,aita, mutual friend <|eok|> i’m in my mid-to-late twenties and my partner works a full time job at a major retail store. it’s a 4hr process with the majority of the cost. it took almost 2 hours of my working hours with 2 hours of one night shift because i work at 3:30pm so it wasn’t at that long that i got home early and could be late up late. i don’t want my gf at home to go to work and spend the whole time. i only have 3 friends at home and i don’t think it’s worth keeping them in bed during the night when he’s home and his family is\n"
          ]
        },
        {
          "name": "stderr",
          "output_type": "stream",
          "text": [
            "Setting `pad_token_id` to `eos_token_id`:50256 for open-end generation.\n"
          ]
        },
        {
          "name": "stdout",
          "output_type": "stream",
          "text": [
            "Batch 3500 of 22500. Loss:2.037184000015259. Time:0:19:05\n",
            "Example output: aita for asking my sister to let me in? <|endofprompt|> not the asshole <|endofverdict|> let,sister,let,aita <|eok|> i had a friend (21f). we both graduated from high school last year. he’s a big guy, and he’s very nice to have around. he’s very outgoing and tends to get along with my friends. when we graduate, he’s very uncomfortable around me, which is why he likes to stay at my parents house. in my family’s view, that’s what my sister’s parents are. if she doesn’t, she’s in trouble, and she’s not always in her best place. \n",
            "\n",
            "well, i have been with him for a long time. the last time, during the semester before he graduated from school, he didn’t attend a college- he could go to another school in his hometown. \n",
            "\n",
            "\n"
          ]
        },
        {
          "name": "stderr",
          "output_type": "stream",
          "text": [
            "Setting `pad_token_id` to `eos_token_id`:50256 for open-end generation.\n"
          ]
        },
        {
          "name": "stdout",
          "output_type": "stream",
          "text": [
            "Batch 4000 of 22500. Loss:1.1897552013397217. Time:0:21:51\n",
            "Example output: aita for feeling like shit for the baby’s lack of a birthday present? <|endofprompt|> asshole <|endofverdict|> not the baby ’,aita,need,nurturing,thick,baby ’,feelings,’ <|eok|> so i’m a middle child.                                                                                                                                            \n"
          ]
        },
        {
          "name": "stderr",
          "output_type": "stream",
          "text": [
            "Setting `pad_token_id` to `eos_token_id`:50256 for open-end generation.\n"
          ]
        },
        {
          "name": "stdout",
          "output_type": "stream",
          "text": [
            "Batch 4500 of 22500. Loss:1.8826507329940796. Time:0:24:37\n",
            "Example output: aita for wanting my stepdad to work so i can sleep so he could sleep at night? <|endofprompt|> asshole <|endofverdict|> sleeping,sleep,work,aita,stepdad,night,dying,sleep <|eok|> so my step dad passed away about a year ago, and he's really very disabled, and he's really lonely. he's a terrible person, i know he makes fun of everyone else and has terrible anxiety issues, but if anything happens to make him feel any better about his family issues and issues i can see how he can't handle his life and his family is because he constantly struggles with anxiety.\n",
            "\n",
            "last week he texted me explaining why he's not going to work today. and i told him all that i can't work all day because of the stress that he put on a daycare service and i don't know when i'm supposed to be able to work this daycare. he texted me later telling me to go come home and be happy with his\n"
          ]
        },
        {
          "name": "stderr",
          "output_type": "stream",
          "text": [
            "Setting `pad_token_id` to `eos_token_id`:50256 for open-end generation.\n"
          ]
        },
        {
          "name": "stdout",
          "output_type": "stream",
          "text": [
            "Batch 5000 of 22500. Loss:2.656125545501709. Time:0:27:23\n",
            "Example output: aita for telling my husband that he has no money <|endofprompt|> not the asshole <|endofverdict|> wibta,telling,husband,money,aita <|eok|> my husband and i have been married for a total of a year. since we are about to begin a semester, we have made some effort to be financially able to pay for the cost but we need to cover the extra cost because of my husband's age. the other side of our finances is through his family, my husband is in his late 30's and my husband's parents, including my husband's parents, are retired and have retired all of their life savings. my husband and my husband's parents (who have been divorced a couple of months and a little over 10 years) have a 4 year old daughter who is 4 years old. since that child's family is mostly a small family, my husband doesn't go to university or get a degree and has been a little unproductive and a little lonely. i’m worried this baby\n"
          ]
        },
        {
          "name": "stderr",
          "output_type": "stream",
          "text": [
            "Setting `pad_token_id` to `eos_token_id`:50256 for open-end generation.\n"
          ]
        },
        {
          "name": "stdout",
          "output_type": "stream",
          "text": [
            "Batch 5500 of 22500. Loss:1.6586523056030273. Time:0:30:09\n",
            "Example output: aita for taking advantage of my husband’s wife? <|endofprompt|> not the asshole <|endofverdict|> spilling,telling,husband ’,wife,aita <|eok|> so i’ve been married to my husband for about 4 years and i’ve told him many times to not lie to me as much as i do. i’m not asking my husband to tell me to lie or say anything, but i’m sure he did lie to my wife.\n",
            "\n",
            "\n",
            "i’m 22 and my wife is 26 and has a great relationship with my brother that’s 18, and my husband is 26. her relationship with my brother, my brother’s wife, and his wife is 2. my wife has been having a relationship with my husband for over a year. my husband says he is going to take our daughter because of our daughter, but my husband insists that she must. \n",
            "\n",
            "aita for taking advantage of my husband’s\n"
          ]
        },
        {
          "name": "stderr",
          "output_type": "stream",
          "text": [
            "Setting `pad_token_id` to `eos_token_id`:50256 for open-end generation.\n"
          ]
        },
        {
          "name": "stdout",
          "output_type": "stream",
          "text": [
            "Batch 6000 of 22500. Loss:2.1716222763061523. Time:0:32:55\n",
            "Example output: aita for being annoyed at my girlfriend? <|endofprompt|> asshole <|endofverdict|> annoyed,aita,girlfriend <|eok|> i(16m) am pretty sure she is a really close friend with all this guy group. \n",
            "\n",
            "a few weeks back, my girlfriend (18f) was at some school event in july that really got us all to know each other. we just had a bit of drama and i found out she would like to do it again after school. she said she wanted to do things to her. we wanted to relax, but i thought that the best time she could be around her would be to make sure she is ready for activities and stuff and that i just should go with her.\n",
            "\n",
            "i kinda wanted to do a few things on our way home but i was on a school trip, i texted her saying that i don’t want to break up, and she wants to see me. i told her to not act too much like she said her\n"
          ]
        },
        {
          "name": "stderr",
          "output_type": "stream",
          "text": [
            "Setting `pad_token_id` to `eos_token_id`:50256 for open-end generation.\n"
          ]
        },
        {
          "name": "stdout",
          "output_type": "stream",
          "text": [
            "Batch 6500 of 22500. Loss:1.4113672971725464. Time:0:35:40\n",
            "Example output: aita if i refuse a child's birthday party in the middle of the weekend? <|endofprompt|> not the asshole <|endofverdict|> aita,child,day party,child,middle,aita <|eok|> okay, i get it. i've never really liked kids, i had to learn a little about a family reunion, and i had to be out all day for the family party (i'm from a good family and my daughter was very sad but not really important or important so i went out and wanted to go out on the other side.\n",
            "\n",
            "when i told my daughter, she said, \"you don't have anything to do\" (i'm just saying) but then she got really angry and said, \"well, that is not fun for you to spend on!\" she doesn't want me to go because she's not interested in kids. that's what she says to me about the party, and i was like, \"fine, i think you're boring.\" and i get it\n"
          ]
        },
        {
          "name": "stderr",
          "output_type": "stream",
          "text": [
            "Setting `pad_token_id` to `eos_token_id`:50256 for open-end generation.\n"
          ]
        },
        {
          "name": "stdout",
          "output_type": "stream",
          "text": [
            "Batch 7000 of 22500. Loss:1.4217609167099. Time:0:38:26\n",
            "Example output: aita for going a step step-dad's way to be friends with me on the weekends? <|endofprompt|> not the asshole <|endofverdict|> aita,husband,going,family,friends,weekend <|eok|> so my wife's dad, i (19m) and i (16m), recently started this house i've owned, as we do not share the same bedroom. he (who i'll call \"dad\") has been extremely nice and generous to me. i have always loved being around him (which i do) and my wife. i love him (which we are on good terms) but i've been very generous to him. on friday night (the weekend before our christmas, he decided to have a small party) he said to me \"you can do whatever i want. i should have just gone at your place.\" i didn't have much of a say for this but i really was in a pretty bad mood. so at the moment, i asked him what was going\n"
          ]
        },
        {
          "name": "stderr",
          "output_type": "stream",
          "text": [
            "Setting `pad_token_id` to `eos_token_id`:50256 for open-end generation.\n"
          ]
        },
        {
          "name": "stdout",
          "output_type": "stream",
          "text": [
            "Batch 7500 of 22500. Loss:1.5355507135391235. Time:0:41:12\n",
            "Example output: aita for reporting my wife for a sexual illness? <|endofprompt|> not the asshole <|endofverdict|> wife,reported,sexual illness,aita <|eok|> i am getting married with my wife's family on friday and saturday for a reception. while we are planning the reception, we also plan that we also will be bringing at least some family guests (we are all in the same country that we are planning the reception) to see how it is going. my wife is furious at how this is going and is upset because it is “what she wants”. \n",
            "\n",
            "she said that she doesn’t understand how the reception is going and is looking to find out how to tell me that this is something she wants to know if or not. she said that if i would have her friends over then i would have to tell her that if she asked about me she would be totally fine with this. i said that i’d like the same experience as my wife and that i would\n"
          ]
        },
        {
          "name": "stderr",
          "output_type": "stream",
          "text": [
            "Setting `pad_token_id` to `eos_token_id`:50256 for open-end generation.\n"
          ]
        },
        {
          "name": "stdout",
          "output_type": "stream",
          "text": [
            "Batch 8000 of 22500. Loss:2.163036823272705. Time:0:43:58\n",
            "Example output: aita for telling my boyfriend that we aren't dating because he got a hookup with his ex? <|endofprompt|> not the asshole <|endofverdict|> hookup,aita,telling,hookup,ex,boyfriend,girl <|eok|> my ex met his friends, some of whom had to work as a server, which i know. we started dating 6 months ago and are engaged to his ex. he came in the middle of the night about 5 minutes ago. he said that he needed space for his friends to sleep as we could, which would cause him to get overwhelmed because his drunk body wasn't the best. \n",
            "\n",
            "after a little bit, he asked why he found out he had a hookup with his ex, which i answered with \"i'm a hookup with you just because you can be too drunk to sleep, so it's no problem.\" i found out he had the hookup with her. so we have gone out the next day.\n",
            "\n",
            "well my ex has had\n"
          ]
        },
        {
          "name": "stderr",
          "output_type": "stream",
          "text": [
            "Setting `pad_token_id` to `eos_token_id`:50256 for open-end generation.\n"
          ]
        },
        {
          "name": "stdout",
          "output_type": "stream",
          "text": [
            "Batch 8500 of 22500. Loss:1.0756280422210693. Time:0:46:43\n",
            "Example output: aita for wanting to see my best friends girlfriend (babysitting with her husband) at school and just sharing a bed with him? <|endofprompt|> not the asshole <|endofverdict|> wanting,aita,birth,friend,bf,bf,bed,share,bed,wanting,see,bf,best friends girlfriend <|eok|> i’m in a relationship with a girl. it’s fairly new and i’ve had a great relationship with babysitting with her husband since high school. my best friend has not spoken to me for over 6 years and has kept going to our best friends house.\n",
            "\n",
            "however, bbysitting with her was awful, so bbysitting with bbysitting with bbf had an consequences that she was extremely lonely about it. i have tried to be understanding but she just refused to understand how i reacted. i told bbysitting with bbf's best friends and it didn’t work.\n"
          ]
        },
        {
          "name": "stderr",
          "output_type": "stream",
          "text": [
            "Setting `pad_token_id` to `eos_token_id`:50256 for open-end generation.\n"
          ]
        },
        {
          "name": "stdout",
          "output_type": "stream",
          "text": [
            "Batch 9000 of 22500. Loss:1.2955942153930664. Time:0:49:28\n",
            "Example output: aita for telling a co-worker of the boss who had hired for my new job? <|endofprompt|> asshole <|endofverdict|> wibta,worker,telling,supervisor, hired,place,aita,staffed <|eok|> so here's a little backstory. i was hired at my company after being asked to be interviewed by a co-worker of mine (also working at a large office). the boss was a little more interesting, but since she was a new manager i just kinda had enough. \n",
            "     \n",
            "    \n",
            "\n",
            "i got hired this morning, but to clarify things the boss (who was interviewed at an office) was hired on a team of which there was some serious problem. \n",
            "       \n",
            "   \n",
            "the boss was hired by someone else and they were hired by my boss for a team of about 10-10 people.\n",
            "      \n",
            "\n",
            "after meeting up to the work\n"
          ]
        },
        {
          "name": "stderr",
          "output_type": "stream",
          "text": [
            "Setting `pad_token_id` to `eos_token_id`:50256 for open-end generation.\n"
          ]
        },
        {
          "name": "stdout",
          "output_type": "stream",
          "text": [
            "Batch 9500 of 22500. Loss:3.1222190856933594. Time:0:52:14\n",
            "Example output: wibta for asking my (and only daughter) girlfriend (27f) for money because the parents don't want to be close anymore? <|endofprompt|> not the asshole <|endofverdict|> girlfriend,wibta,give money,asking,27f,give money,parents,27f <|eok|> so my girlfriend (20f) and her husband (21f). her husband and i (26f) live with their parents (their parents) at a very expensive restaurant (we are very close, they are also very close, we work together regularly.\n",
            "\n",
            "about 3 months ago my girlfriend of about 30f bought a new new car and she wanted to get the car for the new car (i would be able to see her more) so she could drive for free. i accepted the offer, said that i could drive for free.\n",
            "\n",
            "well today she needed to drive. i had been looking forward to the offer, they were nice. not asking if it was the end of it. just\n"
          ]
        },
        {
          "name": "stderr",
          "output_type": "stream",
          "text": [
            "Setting `pad_token_id` to `eos_token_id`:50256 for open-end generation.\n"
          ]
        },
        {
          "name": "stdout",
          "output_type": "stream",
          "text": [
            "Batch 10000 of 22500. Loss:2.020206928253174. Time:0:55:00\n",
            "Example output: aita for trying to help my friends with my bachelorette? <|endofprompt|> asshole <|endofverdict|> bachelorette,aita,trying,friends,help <|eok|> i (28m) have a friend (m36) who is a pretty close friend of mine (for the entire time she’d been with her ex), we’ve been dating since high school and they’ve been engaged for a while now. \n",
            "\n",
            "\n",
            "we have been together for months, and for months. my ex and his parents were divorced when they were both married. the whole situation is a lie to me since we were never together. \n",
            "\n",
            "\n",
            "m36, he was dating a guy.  we don’t know that much, but we’d been together about a year and he doesn’t understand this well. he’s been told things that he doesn’t see as much as he sees his family and is just looking for a\n"
          ]
        },
        {
          "name": "stderr",
          "output_type": "stream",
          "text": [
            "Setting `pad_token_id` to `eos_token_id`:50256 for open-end generation.\n"
          ]
        },
        {
          "name": "stdout",
          "output_type": "stream",
          "text": [
            "Batch 10500 of 22500. Loss:2.0405900478363037. Time:0:57:46\n",
            "Example output: aita for telling my cousin he's having his relationship is fucked up? <|endofprompt|> asshole <|endofverdict|> telling,relations,aita,cousin,mess <|eok|> i just got married this weekend, but my sister isn't so close to me. i've had the whole relationship with my sister through 6 months now. i have the same personality (i don't mean that, it's just normal, she does whatever she thinks she does, doesn't know if she's doing a good job and doesn't mind). he's been dating a girl for about 6 months now. she's an 18 year old woman, i'm 21. i'll call her a) and b) and my mom and a, she's her type of person.\n",
            "\n",
            "a: she's his parents and he has the same name, b) and i'll call him alah and the alah. he got his own name and a got his own name with my mom, she had him at the birth\n"
          ]
        },
        {
          "name": "stderr",
          "output_type": "stream",
          "text": [
            "Setting `pad_token_id` to `eos_token_id`:50256 for open-end generation.\n"
          ]
        },
        {
          "name": "stdout",
          "output_type": "stream",
          "text": [
            "Batch 11000 of 22500. Loss:1.3335497379302979. Time:1:00:30\n",
            "Example output: wibta for asking my bf to not pay for his dog? <|endofprompt|> not the asshole <|endofverdict|> asking,pay,pay,bf,wibta,dog <|eok|> so i am a young student, with my boyfriend who i will call him abby and his dog is a puppy. he was raised as a puppy, and we have a 5 year old girl with whom we have no problem with. i have been teaching her to give it her life (since i am not a great dog, i am not doing anything crazy or stupid) and i was taught to keep her as a dog for a while.\n",
            "\n",
            "anyway abby is a good student, and has become a good student. however abby has a beautiful dog which i have very little romantic feelings for, and he is having a difficult time moving on. abby also hates to eat food that is not mine. abby likes to have her own dog at home with the dog, and abby will never eat\n"
          ]
        },
        {
          "name": "stderr",
          "output_type": "stream",
          "text": [
            "Setting `pad_token_id` to `eos_token_id`:50256 for open-end generation.\n"
          ]
        },
        {
          "name": "stdout",
          "output_type": "stream",
          "text": [
            "Batch 11500 of 22500. Loss:1.1419247388839722. Time:1:03:16\n",
            "Example output: aita for refusing to buy my husband's birthday cake for $2 for 2 weeks? <|endofprompt|> asshole <|endofverdict|> 2 weeks,family,husband,buy,aita,refusing,3,2 <|eok|> my husband has been a super loving, great husband. we share custody, no issues. when i was younger, i had a pretty big fight and started trying to be rational. they were both extremely strict about food and not even helping to cook for me. they also started calling me a \"miggy\" and asked me how i should go about how i was hungry. at the same time, we've been arguing about it, which i do a lot because i had to clean up after myself, so i gave my wife $50 a month to buy the dinner. my wife said she wanted to have a cake for christmas and then i found another cake for dinner at our house. she also didn't want to buy another one, and she said that my money is a\n"
          ]
        },
        {
          "name": "stderr",
          "output_type": "stream",
          "text": [
            "Setting `pad_token_id` to `eos_token_id`:50256 for open-end generation.\n"
          ]
        },
        {
          "name": "stdout",
          "output_type": "stream",
          "text": [
            "Batch 12000 of 22500. Loss:1.5156912803649902. Time:1:06:02\n",
            "Example output: aita for ruining my day life? <|endofprompt|> not the asshole <|endofverdict|> day life,ruining,aita,ruining <|eok|> context: i'm a student and a student. my main interest is studying engineering. i'm not a huge fan of my main interest in engineering and i've been studying engineering for about 8 hours a week for the course of the last two years. \n",
            "\n",
            "my main interest in engineering was getting the computer in case a student who was in engineering would like a computer or write some code on his laptop. but he wanted to try to do some programming on a small computer.\n",
            "\n",
            "at first, i was fine with it. but in late i was unable to get a computer at this time. i was under the impression that i'll be helping him.\n",
            "\n",
            "so, i made some plans with my friend in law and let my laptop be in. it's now three weeks ago and i'm having a very big test right away. i've gotten a\n"
          ]
        },
        {
          "name": "stderr",
          "output_type": "stream",
          "text": [
            "Setting `pad_token_id` to `eos_token_id`:50256 for open-end generation.\n"
          ]
        },
        {
          "name": "stdout",
          "output_type": "stream",
          "text": [
            "Batch 12500 of 22500. Loss:1.9295268058776855. Time:1:08:47\n",
            "Example output: aita for reporting my ex <|endofprompt|> asshole <|endofverdict|> reporting,ex,aita <|eok|> i met a girl that i thought was sweet but couldn’t hold out and wanted to live with someone that’s not my husband. he has a sister who needs to be involved in school. i (and my husband) have only known her for 5 years and she is in grad school. \n",
            "\n",
            "my fiancé is very involved in his social circle and we talk a lot. we’re also just not good friends on school and our relationship has been pretty rocky for the last year. \n",
            "\n",
            "but i’ve had some trouble with my parents and i found it odd. when i found out we weren’t dating they asked if there would be any chance to get in contact with the rest of our life (i’m not one to have a problem but i am the only one who ever follows my social media and who does so) \n",
            "\n"
          ]
        },
        {
          "name": "stderr",
          "output_type": "stream",
          "text": [
            "Setting `pad_token_id` to `eos_token_id`:50256 for open-end generation.\n"
          ]
        },
        {
          "name": "stdout",
          "output_type": "stream",
          "text": [
            "Batch 13000 of 22500. Loss:1.4423954486846924. Time:1:11:33\n",
            "Example output: aita for insisting on buying my best friend’s girlfriend a girl, not having a relationship with another? <|endofprompt|> asshole <|endofverdict|> aita,another,insisting,another,girlfriend,happily,best friend ’ <|eok|> hey guys. i’m a high school senior and i’ve gotten a very stable job, i have a good job, a very nice job, a lot of benefits. for reference, i’m a really decent person, so i’m very happy to be around someone who’s a great person who’s really not working hard-line, but i’m so excited to be around someone who’s really good at talking. she always talks about how i should have a relationship with her, to where i always don’t have it, and that she should be happy with us going to an event, like a movie, when my gf will be happy if we go.\n"
          ]
        },
        {
          "name": "stderr",
          "output_type": "stream",
          "text": [
            "Setting `pad_token_id` to `eos_token_id`:50256 for open-end generation.\n"
          ]
        },
        {
          "name": "stdout",
          "output_type": "stream",
          "text": [
            "Batch 13500 of 22500. Loss:2.9978182315826416. Time:1:14:19\n",
            "Example output: aita for making a comment on my boss to my boss? <|endofprompt|> asshole <|endofverdict|> made,comment,boss,aita <|eok|> alright, i work for a company that requires the most of the time. i work 15 minutes a week, my boss stays up at 6:30 a week. my boss keeps being rude and i get cranky when the situation is difficult. the first time i tried to tell him about it was because i went into an accident that i didn't remember or remember. he then made a comment about my coworker and how i was a dick for making someone think i was a dick for making him say it. my boss says that she knows i know my coworker so that she's an ah for it, but she's an older than me. the first time i've ever seen him with someone else and she can't handle it. now that my boss is leaving, i haven't talked to the boss and just say she's mad with me.\n"
          ]
        },
        {
          "name": "stderr",
          "output_type": "stream",
          "text": [
            "Setting `pad_token_id` to `eos_token_id`:50256 for open-end generation.\n"
          ]
        },
        {
          "name": "stdout",
          "output_type": "stream",
          "text": [
            "Batch 14000 of 22500. Loss:1.3549306392669678. Time:1:17:05\n",
            "Example output: aita for getting upset at a girl for crying at the gym? <|endofprompt|> asshole <|endofverdict|> getting upset,aita,gym,s crying <|eok|> my friend was on a yoga class a few weeks ago. the girl is in a mood of the gym. they have a very long journey going on the trail for the next six months with the flow down.   we can be really tall or small so we go and go.  we all go up to the gym and she is always so cool and we can only see each other and talk as much as we want.  we both work nights and i am not the type of person to be alone when the instructor is walking down.  if we hang out she goes to the gym and i'm like hey, you can try to get me back.  when my friend arrived she was pretty loud, but a lot of people are making up excuses and such.  then we started hanging up.  the instructor has never talked to\n"
          ]
        },
        {
          "name": "stderr",
          "output_type": "stream",
          "text": [
            "Setting `pad_token_id` to `eos_token_id`:50256 for open-end generation.\n"
          ]
        },
        {
          "name": "stdout",
          "output_type": "stream",
          "text": [
            "Batch 14500 of 22500. Loss:2.216078042984009. Time:1:19:51\n",
            "Example output: aita for asking for my money back? <|endofprompt|> not the asshole <|endofverdict|> aita,asking,money back <|eok|> i have a 19 year old son and a 16 year old son (15 year old) and they're currently moving into their home.\n",
            "\n",
            "i have a very nice new place and i'm good with everything. they are both very nice men and i am a guy that makes an average of 20% more money than me and have a small amount of money to live in.\n",
            "\n",
            "well, my husband was recently going through a tough time financially and i had enough money to live with so i took out the idea of hiring a new tenant to take out my daughter's business loan since they were already in a bad financial situation because i was busy and couldn't afford her job. my husband said that would be too much for me to make the money but he didn't want to do it because he thinks i was being cheap and a friend who helped me with her money.\n",
            "\n"
          ]
        },
        {
          "name": "stderr",
          "output_type": "stream",
          "text": [
            "Setting `pad_token_id` to `eos_token_id`:50256 for open-end generation.\n"
          ]
        },
        {
          "name": "stdout",
          "output_type": "stream",
          "text": [
            "Batch 15000 of 22500. Loss:1.1724954843521118. Time:1:22:37\n",
            "Example output: aita: if my dad gets angry at me for my wife \"stealing\" in our family? <|endofprompt|> asshole <|endofverdict|> getting angry,parents get angry,aita,family,lives,wife \" stealing <|eok|> so basically, my wife had the opportunity to become my step sister, and i decided that my step sister was very excited to get involved in our conversation after being told to get a new car when she was 19. when i told her how excited to get the best one, she said that \"it's a small family, so that we won't have the help of all the family.\" she also said that \"it was just a small family, and i didn't care much either.\" i don't care that i think it's my responsibility to keep her up with the family, but i also don't think i'm in the wrong for doing this.\n",
            "\n",
            "she is also a lot of other people who are also the kind of people who just show up at their\n"
          ]
        },
        {
          "name": "stderr",
          "output_type": "stream",
          "text": [
            "Setting `pad_token_id` to `eos_token_id`:50256 for open-end generation.\n"
          ]
        },
        {
          "name": "stdout",
          "output_type": "stream",
          "text": [
            "Batch 15500 of 22500. Loss:3.038207530975342. Time:1:25:23\n",
            "Example output: aita for calling out a boy because he has bad blood in him, and asking him to stop talking to his friends? <|endofprompt|> not the asshole <|endofverdict|> talking,asking,boy,aita,friend,boy,boy <|eok|> i was at my apartment building yesterday. we had an ice cream dinner. i had a friend group of friends who were about 20-25, and there was a boy who was a little like me. we had a small conversation. i didn’t know it was a boys friend so we kept talking and hanging out. we started talking again. he never really started talking to us.\n",
            "\n",
            "he started talking to the girl. it was about the boy we had been talking to. she was kinda an asshole by this point and she has been trying to talk to him more and he’s the best thing he’s ever met. a thing is that i’ve been trying to help him and the girl too.\n",
            "\n",
            "i don\n"
          ]
        },
        {
          "name": "stderr",
          "output_type": "stream",
          "text": [
            "Setting `pad_token_id` to `eos_token_id`:50256 for open-end generation.\n"
          ]
        },
        {
          "name": "stdout",
          "output_type": "stream",
          "text": [
            "Batch 16000 of 22500. Loss:1.4030810594558716. Time:1:28:09\n",
            "Example output: aita for being upset that my girlfriend and i were having sex after my birthday? <|endofprompt|> asshole <|endofverdict|> upset,sex,aita,birthday,girlfriend <|eok|> i (21f) have been dating (22m) for about a year. we've been spending most time together so i really get to know her more. recently i've been with my so (20f) for 3 years. we have sex about once a month and so we never discussed it that often. however i've done the best to introduce her to me and we've been talking about our careers and what we want. she seems to see me as a girlfriend for a few years now, but we've been trying a lot in the past but i kept that constant back for a few years. we still have been going out together, and i've spent the majority of our time together with her over the years. \n",
            "\n",
            "recently i've been seeing my so and we're pretty close since i\n"
          ]
        },
        {
          "name": "stderr",
          "output_type": "stream",
          "text": [
            "Setting `pad_token_id` to `eos_token_id`:50256 for open-end generation.\n"
          ]
        },
        {
          "name": "stdout",
          "output_type": "stream",
          "text": [
            "Batch 16500 of 22500. Loss:1.8102328777313232. Time:1:30:55\n",
            "Example output: wibta for asking the police to report the other person for a theft, especially because they aren’t going to make it better <|endofprompt|> not the asshole <|endofverdict|> makeup,’,’,asked,makeup,someone,get,law,law <|eok|> i was walking to a local mall this morning from a bus station, a busy parking lot that’s basically 1,200 meters (i also go into the local mall every morning from about 5pm-1am. i walk out of the station early in the morning to see a young woman walking past me. i don’t know who i was talking to. i was walking her so i could be more helpful and told her she can be careful. \n",
            "\n",
            "now i know that she was an underage man. i know she was an adult before or after they got there. i know she was fine at first and would have never made it worse. but i kind of stuck with it but\n"
          ]
        },
        {
          "name": "stderr",
          "output_type": "stream",
          "text": [
            "Setting `pad_token_id` to `eos_token_id`:50256 for open-end generation.\n"
          ]
        },
        {
          "name": "stdout",
          "output_type": "stream",
          "text": [
            "Batch 17000 of 22500. Loss:1.4982887506484985. Time:1:33:41\n",
            "Example output: wibta if i go to my grandmother's funeral instead of coming home to help with my grandma? <|endofprompt|> asshole <|endofverdict|> help,go,help,grandmother,funeral instead,wibta,going <|eok|> on mobile, sorry for formatting and spelling.\n",
            "\n",
            "my cousin and i have been together for 4 years now. he is getting married at a funeral. it is my grandparents and my grandfather. my mom and dad are very good kids, especially my parents and my sister. they always take care of them. we live at home with my aunt and uncle. my mother's funeral is the same day as my cousin's funeral. we live in a very small house and usually don't have a guest list, i just have no problem with my mom going to the funeral but they will have a guest list so i don't want to have the guest list or give them a list to help them in our lives. it's important to me too because i am not having a\n"
          ]
        },
        {
          "name": "stderr",
          "output_type": "stream",
          "text": [
            "Setting `pad_token_id` to `eos_token_id`:50256 for open-end generation.\n"
          ]
        },
        {
          "name": "stdout",
          "output_type": "stream",
          "text": [
            "Batch 17500 of 22500. Loss:1.326821208000183. Time:1:36:27\n",
            "Example output: wibta for telling my mother i'm not comfortable driving when she's upset? <|endofprompt|> asshole <|endofverdict|> wibta,mother,overpriced driving,upset,telling <|eok|> let me preface this as i'm not sure how important it is to have fun and let people know the context, sorry for any mistakes.\n",
            "\n",
            "my mother is a great mother, we got together for holidays and my dad came home to help me out with all expenses but i never saw her. i did this as i know what would be a problem, she's a sweet and compassionate woman. if she's upset with me it means i'll be taking away her's energy. when she would come home she's always there. i love my mother but she's completely different. she'll leave my little brother (who is about 13) for free just when he's home too much. \n",
            "\n",
            "she likes to do things she says she doesn't do when i'm home, not even when i\n"
          ]
        },
        {
          "name": "stderr",
          "output_type": "stream",
          "text": [
            "Setting `pad_token_id` to `eos_token_id`:50256 for open-end generation.\n"
          ]
        },
        {
          "name": "stdout",
          "output_type": "stream",
          "text": [
            "Batch 18000 of 22500. Loss:1.2909520864486694. Time:1:39:13\n",
            "Example output: aita for telling my sister she has an illness that prevented me from helping her? <|endofprompt|> asshole <|endofverdict|> sister,telling,aita,stopping,illering <|eok|> ok so i’m a high school student, my sister is a junior, and i’ve been supportive of her growing up in a community college for over 5 years. \n",
            "\n",
            "now i’m a college student, there are a lot of people i’ve never been involved with in and i’ve never had anyone i have ever had. so i always wanted to go to college. i’ve been there for her growing up because i really liked her, but recently i had a feeling that i did not do things my own age, and i’ve been in this situation for years and she’s very upset about me because i didn’t like her. i think it’s bullshit that it seems like the only way she’\n"
          ]
        },
        {
          "name": "stderr",
          "output_type": "stream",
          "text": [
            "Setting `pad_token_id` to `eos_token_id`:50256 for open-end generation.\n"
          ]
        },
        {
          "name": "stdout",
          "output_type": "stream",
          "text": [
            "Batch 18500 of 22500. Loss:1.5857526063919067. Time:1:41:59\n",
            "Example output: aita for being uncomfortable and telling me my friend wants something with her and wants to go back to her place <|endofprompt|> asshole <|endofverdict|> telling,friends wants something,go back,aita,place,uncomfortable,telling <|eok|> we have this friend/her friend, he's in his mid-20s but she is with him. she doesn't really give a shit about what she does but when she does it with him then it's just me. i'm quite good at it, i have been using her as a sort of friend for the last time, she loves to make me feel comfortable.\n",
            "\n",
            "i recently came back from a family trip with this friend and her friend, who was also in his mid-20s, has been wanting to go back to her place. i had no choice but to my surprise surprise surprise i said \"we need to go back home, we need to go back home. it's our choice and our choice.\n",
            "\n",
            "one of us\n"
          ]
        },
        {
          "name": "stderr",
          "output_type": "stream",
          "text": [
            "Setting `pad_token_id` to `eos_token_id`:50256 for open-end generation.\n"
          ]
        },
        {
          "name": "stdout",
          "output_type": "stream",
          "text": [
            "Batch 19000 of 22500. Loss:3.1880111694335938. Time:1:44:45\n",
            "Example output: aita for being upset that my parents did not care about my mother's cancer and when they visited my college with me? <|endofprompt|> asshole <|endofverdict|> aita,upsetting,college,mother,cancer,care,care <|eok|> i'm currently in my senior year of university and my parents are currently visiting me for the time being. my mother has been diagnosed with cancer, but with more time, she's also starting to talk to people with a better view of me more.\n",
            "\n",
            "the thing is, i've never been able to \" connect\" with anyone else. she was in her last years of high school so she's been kind of the only one that \"can help me\" around me. even if she was trying to help me when i got a serious illness, i really would just want to reconnect with her.\n",
            "\n",
            "but recently she's had a major breakdown with her mother. she has been very distant, negative, and manipulative to me. i've done everything i can\n"
          ]
        },
        {
          "name": "stderr",
          "output_type": "stream",
          "text": [
            "Setting `pad_token_id` to `eos_token_id`:50256 for open-end generation.\n"
          ]
        },
        {
          "name": "stdout",
          "output_type": "stream",
          "text": [
            "Batch 19500 of 22500. Loss:1.7654833793640137. Time:1:47:31\n",
            "Example output: aita for not being excited about the idea of buying a wedding party for someone else? <|endofprompt|> asshole <|endofverdict|> interested,buying,aita,dream,wedding party,person else <|eok|> let's call my dad, who is the one who wants to get married to a girl. it's like a wedding party but my dad thinks that's not an absolute chance, even though he doesn't care. i don't want to put my kids at the wedding, i just don't want to. i think it's like a chance to be excited about it. this friend is my brother, which means a lot to me. i've heard him ask for it as far as she knows, and my brother is the one who thinks it would mean a lot. i don't care about it, but he's just very rude. \n",
            "\n",
            "today my dad asked if that would be cool and i said sure because i don't mind. dad didn't say anything, but i\n"
          ]
        },
        {
          "name": "stderr",
          "output_type": "stream",
          "text": [
            "Setting `pad_token_id` to `eos_token_id`:50256 for open-end generation.\n"
          ]
        },
        {
          "name": "stdout",
          "output_type": "stream",
          "text": [
            "Batch 20000 of 22500. Loss:2.6102302074432373. Time:1:50:17\n",
            "Example output: aita for not wanting to get my husband a phone? <|endofprompt|> asshole <|endofverdict|> phone,get,husband,aita,wanting <|eok|> i am a high school student and my husband is a college student with a job, so he can afford a phone. it was recently bought and he and i love that it was bought for us. it is in the family room so we are just watching tv and having some conversation about work.\n",
            "\n",
            "we got the phone back when we got it, and we decided to call it ramblesman. ramblesman has no idea how to do it, he can't use it right when you need it to use. i don't care, that is fine.\n",
            "\n",
            "we were watching our son ramblesman and i was expecting him to be getting it and whatnot. we were so excited for them to get it and my husband and i were thinking it would be fine.\n",
            "\n",
            "we were in a great mood so we\n"
          ]
        },
        {
          "name": "stderr",
          "output_type": "stream",
          "text": [
            "Setting `pad_token_id` to `eos_token_id`:50256 for open-end generation.\n"
          ]
        },
        {
          "name": "stdout",
          "output_type": "stream",
          "text": [
            "Batch 20500 of 22500. Loss:1.155629277229309. Time:1:53:03\n",
            "Example output: aita for wanting my husbands girlfriend's help? <|endofprompt|> not the asshole <|endofverdict|> help,wanting,husbands girlfriend,aita <|eok|> my husband and i live with 2 kids together, he pays rent, car insurance. so we were recently evicted from our country but were still going through the money issues but my husband did not get a job. he works a job, he has a job, his wife pays no debt (even if it's more than us paying). so i offered him money to help me out (because he has to get everything right here).\n",
            "\n",
            "well he went in for 3 months for two weeks without pay. i offered him the money we agreed to (like i did to him, he just wanted money). since then, he has been with her for 3 weeks. i would have never been able to make this happen but we both work full time.\n",
            "\n",
            "we were in town visiting a cousin and she asked if she was with us (a lot of\n"
          ]
        },
        {
          "name": "stderr",
          "output_type": "stream",
          "text": [
            "Setting `pad_token_id` to `eos_token_id`:50256 for open-end generation.\n"
          ]
        },
        {
          "name": "stdout",
          "output_type": "stream",
          "text": [
            "Batch 21000 of 22500. Loss:1.7106564044952393. Time:1:55:50\n",
            "Example output: aita for telling my dad he’s making me feel like an asshole? <|endofprompt|> not the asshole <|endofverdict|> dad,telling,aita,making,’ <|eok|> so my fiance and i have been together for almost 7 years. i got pregnant during the pregnancy of 2017 and our family is not really that supportive. my sister told my parents they were going to take me to the hospital for my pregnancy. after we got home my fiancé told me he was taking me to the hospital. he asked me if he could stay with us. when he arrived in my room and was trying to sleep, he gave my mother my name and asked if he could stay with us. we ended up having a huge fight. he ended up telling me i’m selfish for telling him he’s making me feel like an asshole. so he’s saying he’s sorry if i’m not there for him so he can stay with us because he has something to\n"
          ]
        },
        {
          "name": "stderr",
          "output_type": "stream",
          "text": [
            "Setting `pad_token_id` to `eos_token_id`:50256 for open-end generation.\n"
          ]
        },
        {
          "name": "stdout",
          "output_type": "stream",
          "text": [
            "Batch 21500 of 22500. Loss:1.7541497945785522. Time:1:58:36\n",
            "Example output: aita if i didn't get into a car accident? <|endofprompt|> not the asshole <|endofverdict|> car accident,get,aita <|eok|> i will admit, i've been sitting on my porch waiting for the car to come to me. i didn't get into a car accident, and i'm not a big passenger.\n",
            "\n",
            "after an accident about an hour, i went into my driver's car to see what happened. i've been sitting right back and forth, and it turns out there were a whole bunch of cars, both parked in front of me. i figured i'd go inside and get to the car, but they didn't. they did.\n",
            "\n",
            "the car was a little out of my possession. i didn't want to get into a car accident. and i wouldn't have the time to actually get to the car because it was a wreck. i figured that the road was pretty clear as i was in the car waiting.\n",
            "\n",
            "i couldn't find them and didn't\n"
          ]
        },
        {
          "name": "stderr",
          "output_type": "stream",
          "text": [
            "Setting `pad_token_id` to `eos_token_id`:50256 for open-end generation.\n"
          ]
        },
        {
          "name": "stdout",
          "output_type": "stream",
          "text": [
            "Batch 22000 of 22500. Loss:1.9178274869918823. Time:2:01:23\n",
            "Example output: aita for not wanting my mom to have kids on her own anymore? <|endofprompt|> not the asshole <|endofverdict|> mum,aita,still wanting,future,kids <|eok|> this has happened in the past, but i don't want to talk about it in a serious way.\n",
            "\n",
            "my mom (23) and i have been together 6 years. we were supposed to get married in september 2019, and my mom was very upset with me. she said we are not doing well, we don't have our future kids as we all have our careers and we wouldn't be comfortable having my own kids as a couple.\n",
            "\n",
            "she's a total brat, i don't believe in her kids for all the time. we aren't a problem, and she's a horrible person. her kids are spoiled spoiled and she expects her to make sure it isn't their kids. she's said that she wants my parents to keep the kids together and get them in their own home in a\n",
            "Average Training Loss: 2.0385186355352403. Epoch time: 2:04:02\n",
            "Validation loss: 1.8995512242794037. Validation Time: 0:04:03\n",
            "Beginning epoch 2 of 4\n"
          ]
        },
        {
          "name": "stderr",
          "output_type": "stream",
          "text": [
            "Setting `pad_token_id` to `eos_token_id`:50256 for open-end generation.\n"
          ]
        },
        {
          "name": "stdout",
          "output_type": "stream",
          "text": [
            "Batch 500 of 22500. Loss:2.3191685676574707. Time:0:02:44\n",
            "Example output: aita for telling the guy at the time to stop playing with my new girlfriend when she was drunk? <|endofprompt|> asshole <|endofverdict|> telling,stop playing,aita,new girlfriend,time,drunk <|eok|> throwaway because obvious reasons. tl;dr at the bottom.\n",
            "\n",
            "tl;dr; girl at my girlfriend's first relationship wanted to play with my ex's new girlfriend for her birthday. \n",
            "\n",
            "backstory: girl from my girlfriend's second relationship to me has a habit of being overly drunk. i met this girl for a while and she never really even looked much at me. however, once i broke up with her, i realized that i did it for her. i wasn't really aware this until we started dating. she was my friend while she was around and i knew that i had been friends with her for a while. however, she never got to make any effort to talk with me and we never talked about it any more.\n",
            "\n",
            "i had recently\n"
          ]
        },
        {
          "name": "stderr",
          "output_type": "stream",
          "text": [
            "Setting `pad_token_id` to `eos_token_id`:50256 for open-end generation.\n"
          ]
        },
        {
          "name": "stdout",
          "output_type": "stream",
          "text": [
            "Batch 1000 of 22500. Loss:1.4466580152511597. Time:0:05:30\n",
            "Example output: aita for reporting a girl i work with on grindr? <|endofprompt|> not the asshole <|endofverdict|> crushr,aita,work,girl,reporting <|eok|> yesterday i told my coworker (a female), her boss and asked her for his permission. she said yes and said she could do it. we went to a strip club together and there was a girl i work with that i work with that friend. she asked for her coworker's permission, i said yes, but she said yes and moved on. after this night, she sent the girl on grindr saying she wanted to do it. i apologized and asked my coworker to do it, she said she didn't think i should have to deal with that. i told her she couldn't do it and she said okay, we are friends, i said \"okay\" and left. my coworker is a guy who works only a bit early, she was still on grindr and didn't want to do it\n"
          ]
        },
        {
          "name": "stderr",
          "output_type": "stream",
          "text": [
            "Setting `pad_token_id` to `eos_token_id`:50256 for open-end generation.\n"
          ]
        },
        {
          "name": "stdout",
          "output_type": "stream",
          "text": [
            "Batch 1500 of 22500. Loss:2.639345645904541. Time:0:08:16\n",
            "Example output: aita for not letting people over to parties? <|endofprompt|> not the asshole <|endofverdict|> aita,party,letting people <|eok|> throw away for obvious reasons and i dont know if i would be ta, but i dont feel sorry\n",
            "\n",
            "i am a friend of my ex who i really do not have feelings for. i am still best friends with her and she is my best friend. her and i have always known each other's work and are often texting, flirting with each other and i'm kinda looking for a new person.\n",
            "\n",
            "i have always been close to her, and have always seen her as an important step in her career. i've always helped her out with everything, so i can make myself a little more independent and outgoing. i also have helped her out with her house chores and she has always made things awkward between me and her.\n",
            "\n",
            "the best friend of mine has had a mental health issue, and has not been back to work since. i want to go\n"
          ]
        },
        {
          "name": "stderr",
          "output_type": "stream",
          "text": [
            "Setting `pad_token_id` to `eos_token_id`:50256 for open-end generation.\n"
          ]
        },
        {
          "name": "stdout",
          "output_type": "stream",
          "text": [
            "Batch 2000 of 22500. Loss:1.24272882938385. Time:0:11:02\n",
            "Example output: aita for wanting to make my gf wait at her job, even though she has no job? <|endofprompt|> asshole <|endofverdict|> wanting,gf wait,aita,job,even though,job <|eok|> my girlfriend works from home so she spends hours here and there. she also works 2 jobs a week while we have been living with our parents. i always go to work in the morning to finish up her days. then come to work at 3pm but this morning she called me a lazy brat. i told her that i need some time to myself, that's the only time i am to come home to her. she got angry at me for having no job so i have to work in her. i said that it doesn't make sense if it's not an emergency. she got mad at me for wanting to do it even though i have no job, and that would be her job. she went to say she has no job. after we have a good relationship i\n"
          ]
        },
        {
          "name": "stderr",
          "output_type": "stream",
          "text": [
            "Setting `pad_token_id` to `eos_token_id`:50256 for open-end generation.\n"
          ]
        },
        {
          "name": "stdout",
          "output_type": "stream",
          "text": [
            "Batch 2500 of 22500. Loss:2.8822154998779297. Time:0:13:49\n",
            "Example output: wibta if i go straight into the relationship with my best friend? <|endofprompt|> not the asshole <|endofverdict|> best friend,go straight,relationship,wibta <|eok|> this happened a few years ago, but i have decided to write this asap and hope some people of reddit knows. i met my best friend and she and i started an online dating forum for a bit. at one point she decided to ask me if we could be together. however, we became very close, which is when we started the dating forum. we started talking again, but then it became clear that she never wanted us to start anything and never wanted to share a conversation with me unless we were in a very intimate area. the following conversation took place at our university's cafeteria, which was an extremely private area. i also started talking with this guy, who we'll call susan. susan is pretty chill and has a bit of a crush on us. when we had been dating for about 6 years,\n"
          ]
        },
        {
          "name": "stderr",
          "output_type": "stream",
          "text": [
            "Setting `pad_token_id` to `eos_token_id`:50256 for open-end generation.\n"
          ]
        },
        {
          "name": "stdout",
          "output_type": "stream",
          "text": [
            "Batch 3000 of 22500. Loss:2.216529369354248. Time:0:16:35\n",
            "Example output: aita for not wanting to share a place with my son <|endofprompt|> not the asshole <|endofverdict|> son,aita,share,wanting,place,son <|eok|> me (22) have a six month old son named anna. i'm not very close to anna so i feel like i can't handle the responsibility of managing anna as much as i might. i do try to have a good relationship with her.\n",
            "\n",
            "i recently saw the kids play halloween, which is fine, but my sister was upset that i didn't let her bring her daughter over. she's asked me not to bring her daughter over, and i feel like there is a stigma against having my daughter over.\n",
            "\n",
            "i want to let everyone know i'm going to be upset that my son and i won't tell her. i've told her so, and i'm not too concerned about our relationship with his daughter.\n",
            "\n",
            "i don't think that he's a bad parent, and i\n"
          ]
        },
        {
          "name": "stderr",
          "output_type": "stream",
          "text": [
            "Setting `pad_token_id` to `eos_token_id`:50256 for open-end generation.\n"
          ]
        },
        {
          "name": "stdout",
          "output_type": "stream",
          "text": [
            "Batch 3500 of 22500. Loss:1.5638335943222046. Time:0:19:21\n",
            "Example output: wibta if i called off a friend for not coming to our class? <|endofprompt|> asshole <|endofverdict|> class,wibta,friend,coming,called <|eok|> this happened several years ago in high school and it wasn’t a huge deal. i remember it in my junior year and it was my favorite thing ever in college, but i just wanted to share my thoughts and concerns with a friend who also experienced this, so i went ahead and let them know.\n",
            "\n",
            "this friend is a huge dork. the friend we are friends with, however, only has one year of school left and doesn’t have anything to do with her anymore. she has a really hard time getting along with people that have never made a group/friend. she doesn’t make a lot of friends or is very social, and really just doesn’t make much of friends. we’ve had some mutual friends and we can’t really trust her, so i\n"
          ]
        },
        {
          "name": "stderr",
          "output_type": "stream",
          "text": [
            "Setting `pad_token_id` to `eos_token_id`:50256 for open-end generation.\n"
          ]
        },
        {
          "name": "stdout",
          "output_type": "stream",
          "text": [
            "Batch 4000 of 22500. Loss:1.1679418087005615. Time:0:22:07\n",
            "Example output: wibta if i don't pay for gas money my brother has bought me? <|endofprompt|> asshole <|endofverdict|> bought,wibta,gas money,brother,pay <|eok|> throwaway because i trust my brother will delete this soon, but to keep friends with his new landlord.\n",
            "\n",
            "&#x200b;\n",
            "\n",
            "&#x200b;\n",
            "\n",
            "my brother and i have been living together for 10 years and he has been working full time at his old job. i got to see him after the divorce and he still has his own car, but i still enjoy spending money on me and my car and he's still really spending it on me. i really want him spending money on me and i would do that with him, but i'm worried about how my brother can give me cash money that he's owed me back. the way my brother can spend money on me is that it's also the same kind of car that i have, and that he's spending money\n"
          ]
        },
        {
          "name": "stderr",
          "output_type": "stream",
          "text": [
            "Setting `pad_token_id` to `eos_token_id`:50256 for open-end generation.\n"
          ]
        },
        {
          "name": "stdout",
          "output_type": "stream",
          "text": [
            "Batch 4500 of 22500. Loss:1.0969172716140747. Time:0:24:54\n",
            "Example output: aita for not wanting the kids to play soccer even though there are kids? <|endofprompt|> not the asshole <|endofverdict|> aita,wanting,kids,play soccer even though <|eok|> the children are 6 and 6. our school is kind of small so we have our own facilities, which are separated and have rooms and kitchen rooms, however the public space is always open which is only for my friends and family when it's convenient so that i keep them close to our school playground. \n",
            "\n",
            "when our school has this new school policy i am the one keeping them in the park because it's our school's responsibility for them to play, if i want to, i want to play when it's convenient for them. however my family has a big playground so i try to keep the kids up, especially when they want to play, as they have a soccer game next week as a school for the kids. they both play sports while we play soccer and play soccer, and as their kids are in there\n"
          ]
        },
        {
          "name": "stderr",
          "output_type": "stream",
          "text": [
            "Setting `pad_token_id` to `eos_token_id`:50256 for open-end generation.\n"
          ]
        },
        {
          "name": "stdout",
          "output_type": "stream",
          "text": [
            "Batch 5000 of 22500. Loss:1.9110029935836792. Time:0:27:40\n",
            "Example output: aita for accidentally taking a shower? <|endofprompt|> asshole <|endofverdict|> aita,alot of accidentally taking,shower <|eok|> hey guys, throwaway account since i know people at the local gym sometimes can't read this well...\n",
            "\n",
            "okay, so me and my friends live on the edge of a big residential space, we live out of a nice large portion of the suburbs, and we don't need the water filter. that's all that we need, it's okay, but we're generally quite busy. anyway, our neighborhood has been a bit more populated. we've got a bit of issues with neighbors/neighbors that i've lived with, but the other day i came over to their house to catch some coffee before they moved out. there's a huge difference.\n",
            "\n",
            "we're not super well friends with this neighbors, but we can definitely communicate a lot. we both get on pretty well but i'm more introverted, we never fight or have any problems\n"
          ]
        },
        {
          "name": "stderr",
          "output_type": "stream",
          "text": [
            "Setting `pad_token_id` to `eos_token_id`:50256 for open-end generation.\n"
          ]
        },
        {
          "name": "stdout",
          "output_type": "stream",
          "text": [
            "Batch 5500 of 22500. Loss:1.4085756540298462. Time:0:30:26\n",
            "Example output: aita for changing my car and not letting it be used? <|endofprompt|> asshole <|endofverdict|> car,aita,letting,used <|eok|> i used a gas station last friday and we decided to use a gas station today. so i came up and asked my boyfriend about it. he told me it was a family emergency. i don’t know if i meant to be an asshole or just the other person. sorry but, i want a full disclosure, i’m 19 and i live with two women, all 19. \n",
            "\n",
            "he said he had noticed the gas station is not too bad. he asked me to switch the gas station and the gas station at our place was in the same area so he could use a gas station. i didn’t mind and gave him the gas station the gas station and he could use it without hesitation so he could use the gas station. he says he really didn’t mind because he was out for dinner, he\n"
          ]
        },
        {
          "name": "stderr",
          "output_type": "stream",
          "text": [
            "Setting `pad_token_id` to `eos_token_id`:50256 for open-end generation.\n"
          ]
        },
        {
          "name": "stdout",
          "output_type": "stream",
          "text": [
            "Batch 6000 of 22500. Loss:2.1593384742736816. Time:0:33:12\n",
            "Example output: aita for not attending my ex's birthday dinner and not going to a thanksgiving dinner? <|endofprompt|> asshole <|endofverdict|> thanksgiving dinner,ex,aita,going,thanksgiving dinner <|eok|> for context i was the only one who was particularly interested in this guy, and i was super grateful and that i had the opportunity to reconnect with him. since it was in the beginning he was great but he really didn't have a lot of mutual friends that i didn't like. \n",
            "\n",
            "during an argument about me not attending a thanksgiving dinner and my family taking pictures of myself and my ex. he's a bit upset at that because he didn't want to go to the dinner he was going to a friend's birthday dinner because he \"really didn't want to.\" i told him no, i really just didn't feel like going to the dinner but it was just a stupid argument that caused us to fight and he did really try to convince me that he doesn't want me to go\n"
          ]
        },
        {
          "name": "stderr",
          "output_type": "stream",
          "text": [
            "Setting `pad_token_id` to `eos_token_id`:50256 for open-end generation.\n"
          ]
        },
        {
          "name": "stdout",
          "output_type": "stream",
          "text": [
            "Batch 6500 of 22500. Loss:1.2090532779693604. Time:0:35:58\n",
            "Example output: aita for wanting to make new friends of my close friends as a group? <|endofprompt|> not the asshole <|endofverdict|> aita,group,wanting,make new friends,close friends <|eok|> so the title basically sums it up. i (22 f) like to plan a small group at a large party at my college campus. we don't know where we're coming from and we have a pretty low social circle. i'm good friends with some of the people there that were invited to it and i like to bring friends. \n",
            "\n",
            "now this group starts inviting us and all the people there, and they're excited about inviting our friends as group, and they want to spend the night with us. my friend group, a few guys, also inviting my close friend(17 f) and the couple, and inviting a bunch of other people.\n",
            "\n",
            "this week my other friends invite me along. i go to the club and ask them if the couple wanted a different friend that doesn't like\n"
          ]
        },
        {
          "name": "stderr",
          "output_type": "stream",
          "text": [
            "Setting `pad_token_id` to `eos_token_id`:50256 for open-end generation.\n"
          ]
        },
        {
          "name": "stdout",
          "output_type": "stream",
          "text": [
            "Batch 7000 of 22500. Loss:1.211369514465332. Time:0:38:44\n",
            "Example output: aita for arguing about people coming in when i didn't think they had a problem with me in class? <|endofprompt|> asshole <|endofverdict|> think,problem,people coming,aita,cannot come,questions <|eok|> so, i was at my class while having a small group of people coming in on the same days. they were all a bunch of people who are not doing anything to do anything to help me do things i had planned with a group of friends.\n",
            "\n",
            "so, when i was leaving, i noticed this guy, let's call him jay, showing a pic of himself and a few other people. my assumption was that he'd already told me some stuff. like he said that people didn't like him and thought the guy was \"too cool\". i immediately got a little upset, but that made sense. the conversation got quite heated, and jay continued on to explain something to me. he started on a couple of tangents, and i told him that he\n"
          ]
        },
        {
          "name": "stderr",
          "output_type": "stream",
          "text": [
            "Setting `pad_token_id` to `eos_token_id`:50256 for open-end generation.\n"
          ]
        },
        {
          "name": "stdout",
          "output_type": "stream",
          "text": [
            "Batch 7500 of 22500. Loss:1.2493250370025635. Time:0:41:30\n",
            "Example output: aita for forcing my friend to stay out of my life <|endofprompt|> asshole <|endofverdict|> asking,friend,aita,leave <|eok|> i (19f) have my friend (21f) of 4 years who does not seem to get that i am more interested in him than his other friends. i have been really trying to move on from it since i was in middle school. i have been going to college a few months now and my roommate (15m) is coming up to us that they want to stay out of our lives for the rest of the year. \n",
            "\n",
            "at first, i felt fine with them staying out of our lives (it would only be me and his), but that day when i had discussed the plans to leave, my friend asked me if we would both come home to visit our new place in new (his house, their own apartment, they share a room, they own the tv, they are living in the apartment and i share the living room). he\n"
          ]
        },
        {
          "name": "stderr",
          "output_type": "stream",
          "text": [
            "Setting `pad_token_id` to `eos_token_id`:50256 for open-end generation.\n"
          ]
        },
        {
          "name": "stdout",
          "output_type": "stream",
          "text": [
            "Batch 8000 of 22500. Loss:1.9622788429260254. Time:0:44:16\n",
            "Example output: aita for getting a kid under his moms head? <|endofprompt|> not the asshole <|endofverdict|> kid,mom,getting,aita <|eok|> i live in a 2 bedroom 2 bath apartment with my mom, step-sister, and our toddler (4) which i love very dearly and they love me very much.  my mom recently passed. i will refer to her as bbshead \"p\"\n",
            "\n",
            "i love my mom dearly but she has a little more trauma from having to sit at one of her rooms when she goes to sleep. for years i could hear my mom talking to him on the phone all the time, about how much it helps her and how much it costs her a lot of money.\n",
            "\n",
            "she has anxiety and depression. he's gotten his way but she has had problems with her weight and she's trying to lose weight to that extent. she's also trying to quit smoking and drinking since it's illegal and that's my fault and i'm not allowed to drink\n"
          ]
        },
        {
          "name": "stderr",
          "output_type": "stream",
          "text": [
            "Setting `pad_token_id` to `eos_token_id`:50256 for open-end generation.\n"
          ]
        },
        {
          "name": "stdout",
          "output_type": "stream",
          "text": [
            "Batch 8500 of 22500. Loss:2.2436277866363525. Time:0:47:03\n",
            "Example output: aita for not wanting to go out when my parents asked me for the weekend? <|endofprompt|> asshole <|endofverdict|> aita,weekend,parents asked,go,wanting <|eok|> i don't get this feeling that i am in the wrong here. so i am 16. my dad just got home from work today and told me i should go to the beach for 2 days. the weekend is sunday and he's going to get it ready but as i told he would get it ready for me, my parents asked if i wanted to go home, i told him i would. they proceeded to ask why i wasn't there. this turned into an argument and i ended up getting into a bigger argument. i said my parents made me go to the beach a lot earlier because i'm not good enough at the beach, and they wanted to see me that day. i told them that i would. they then called me selfish for wanting to go out. i tried to explain that i just had\n"
          ]
        },
        {
          "name": "stderr",
          "output_type": "stream",
          "text": [
            "Setting `pad_token_id` to `eos_token_id`:50256 for open-end generation.\n"
          ]
        },
        {
          "name": "stdout",
          "output_type": "stream",
          "text": [
            "Batch 9000 of 22500. Loss:2.9094324111938477. Time:0:49:49\n",
            "Example output: aita for not wanting to go for a fun trip because of the fact my partner has asked me out? <|endofprompt|> asshole <|endofverdict|> go,partner,aita,bobysit,potential trip,wanting <|eok|> throwaway since i don't want this connected to my main.\n",
            "\n",
            "&#x200b;\n",
            "\n",
            "background: my partner and i both work in a accounting firm. we have been talking about going for years, but we really don't want to go because i really do not want to go. i live with my partner because i work at a very small hospital and am almost 90% paid. the hospital in question has an only option because it's the only hospital that has a available area, but i can't bring myself to go if there's a long wait between us. \n",
            "\n",
            "&#x200b;\n",
            "\n",
            "we were discussing going, i brought this up before he asked me out. we went to the same university which was\n"
          ]
        },
        {
          "name": "stderr",
          "output_type": "stream",
          "text": [
            "Setting `pad_token_id` to `eos_token_id`:50256 for open-end generation.\n"
          ]
        },
        {
          "name": "stdout",
          "output_type": "stream",
          "text": [
            "Batch 9500 of 22500. Loss:0.9679216146469116. Time:0:52:35\n",
            "Example output: aita for questioning a girl friend’s sexuality? <|endofprompt|> asshole <|endofverdict|> girl friend ’,questioning,aita,sexuality <|eok|> sorry if this doesn’t make much sense. \n",
            "\n",
            "i(20m) am bi. i have been on a dating date for 5 years now. \n",
            "\n",
            "my friend, let’s call her jane(19f), was invited to a family event as well.\n",
            "\n",
            "jane is incredibly accepting and really sweet, we’ve always talked about everything and she helped me through a lot, i’m also super cool and she’s wonderful. jane is an amazing person. i was pretty comfortable around her.\n",
            "\n",
            "for the past few years, she’s been going through a lot of trouble with some male jerks. jane always expressed her distaste. she’s always said that i was insecure about my looks and she even said i was always\n"
          ]
        },
        {
          "name": "stderr",
          "output_type": "stream",
          "text": [
            "Setting `pad_token_id` to `eos_token_id`:50256 for open-end generation.\n"
          ]
        },
        {
          "name": "stdout",
          "output_type": "stream",
          "text": [
            "Batch 10000 of 22500. Loss:2.5636842250823975. Time:0:55:20\n",
            "Example output: aita for not buying a gift? <|endofprompt|> not the asshole <|endofverdict|> aita,gift,buying <|eok|> i got my boyfriend a gift for christmas.\n",
            "\n",
            "i told him i was planning on buying a small bookcase after the holidays.\n",
            "\n",
            "after about 20 minutes, the bookcase gets windy, so as i was ringing it, he asks me if i was going to buy it for christmas. i asked if he was planning on buying it from me and he says that it was about 20 min and i was supposed to buy it by him at the end of the day.\n",
            "\n",
            "my boyfriend said that i should have gotten him something, since he has a gift for every gift, and while i wasn’t buying that bookcase, he would still owe me something to thank me. i understand that gifts are hard, but he refused to give me stuff for a day. he said that it wouldn’t be a big deal to be giving him\n"
          ]
        },
        {
          "name": "stderr",
          "output_type": "stream",
          "text": [
            "Setting `pad_token_id` to `eos_token_id`:50256 for open-end generation.\n"
          ]
        },
        {
          "name": "stdout",
          "output_type": "stream",
          "text": [
            "Batch 10500 of 22500. Loss:1.1235065460205078. Time:0:58:06\n",
            "Example output: aita for calling my friend a fake \"friend\"? <|endofprompt|> not the asshole <|endofverdict|> fake,friend,calling,aita <|eok|> so i've known this guy for about 8 years now and we've known each other for about 6 months. we've been friends for about a year now, but i've kept him apart for like 5. but since i found out his name has been fake, i've started to think about him and i always wonder how old he is. so yesterday (july 1) i found out that his name was 'k', and that's it. i had to ask, but he said he'd changed his mind because his first name actually had \"k\", and that was that. this upset me, but he said he was happy for me to ask because he thought i had tried everything out with him. i don't think that's fair and i'm still a very calm person when i realise i'm right. so i do. and this is where i\n"
          ]
        },
        {
          "name": "stderr",
          "output_type": "stream",
          "text": [
            "Setting `pad_token_id` to `eos_token_id`:50256 for open-end generation.\n"
          ]
        },
        {
          "name": "stdout",
          "output_type": "stream",
          "text": [
            "Batch 11000 of 22500. Loss:2.0005600452423096. Time:1:00:51\n",
            "Example output: aita for asking people for gifts? <|endofprompt|> asshole <|endofverdict|> aita,asking people,gifts <|eok|> my fiancé and i both work at this work-by-hours, the other part time job is out of state.\n",
            "\n",
            "&#x200b;\n",
            "\n",
            "&#x200b;\n",
            "\n",
            "our office is very busy, and there are 2 places to work: the front office of our office, the back office and the front office. one time we took 3 people out of our office to one room. since we have people on our team, there's an issue with us being very busy. one night my husband said he would talk to my coworkers, but he just said that he'd walk home, and then left, and then left. he then said that he'd walk home, and then left. i had to call work again, so i could tell by the next morning that they'd be really busy.\n",
            "\n",
            "&#x200b;\n",
            "\n"
          ]
        },
        {
          "name": "stderr",
          "output_type": "stream",
          "text": [
            "Setting `pad_token_id` to `eos_token_id`:50256 for open-end generation.\n"
          ]
        },
        {
          "name": "stdout",
          "output_type": "stream",
          "text": [
            "Batch 11500 of 22500. Loss:2.2523269653320312. Time:1:03:37\n",
            "Example output: aita for asking my wife to change her housemates <|endofprompt|> asshole <|endofverdict|> wife,asking,housemates,change,aita <|eok|> it's christmas and my wife is turning 18. our family is pretty big on christmas. she is living with her brother with her parents (he was born and raised in a house, her sister, wife's dad).\n",
            "\n",
            "wife is doing great in life and her family is kind of big on christmas. i have never been big on christmas or christmas, and she is on the verge of retirement and has a bit of a social life. she lives in a place where her mom is not, but she goes shopping every saturday, and then on the weekends on christmas eve so that she isn't spending lots of money on food.\n",
            "\n",
            "wife is making sure that i stay away in her bedroom while i cook for her family, which makes her more stressed in the house, and also for this past christmas.\n",
            "\n"
          ]
        },
        {
          "name": "stderr",
          "output_type": "stream",
          "text": [
            "Setting `pad_token_id` to `eos_token_id`:50256 for open-end generation.\n"
          ]
        },
        {
          "name": "stdout",
          "output_type": "stream",
          "text": [
            "Batch 12000 of 22500. Loss:0.9482122659683228. Time:1:06:23\n",
            "Example output: aita for wanting to take back a loan to our landlord to buy the house? <|endofprompt|> asshole <|endofverdict|> house,take back,loan,landlord,wanting,buy,aita <|eok|> so, i was looking for a house i'm renting now, and it would cost me about $700-700 for a good amount of money. because of the price, and because of the house is in a small town, our landlord kept declining to put in a deposit. so, for the next 4 months, my wife and i are getting worried about having to move in together, but we're looking to get an apartment soon so it can be taken care of. because of the situation, we'd be stuck on our luck and would be able to get the most \"perfect\" house in our hometown. so, the deal is for us to rent it ourselves and he will pay us $1000 for it. that wouldn't be so much, but we'll keep the rest. this\n"
          ]
        },
        {
          "name": "stderr",
          "output_type": "stream",
          "text": [
            "Setting `pad_token_id` to `eos_token_id`:50256 for open-end generation.\n"
          ]
        },
        {
          "name": "stdout",
          "output_type": "stream",
          "text": [
            "Batch 12500 of 22500. Loss:1.9140349626541138. Time:1:09:08\n",
            "Example output: aita for talking to someone i haven’t seen in over a month? <|endofprompt|> not the asshole <|endofverdict|> aita,seen,talking,month,’,someone <|eok|> i’m a sophomore at university, and i have been working at this current school. most of my friends, including the one i’ve been working with for 2 months, are in that class, and have been there since january 2018. there’s been a lot of people in my grade and’s been there since march 2018 when i graduated, so we’re getting a lot in in.\n",
            "\n",
            "i had asked the last of these people if they have seen me since then, to the point where i can tell they’re in a different class (this semester is a huge red flag because of the fact they’re not even at the class at this time, but the person they got to know me the most had also heard of my classes).\n"
          ]
        },
        {
          "name": "stderr",
          "output_type": "stream",
          "text": [
            "Setting `pad_token_id` to `eos_token_id`:50256 for open-end generation.\n"
          ]
        },
        {
          "name": "stdout",
          "output_type": "stream",
          "text": [
            "Batch 13000 of 22500. Loss:1.3441650867462158. Time:1:11:54\n",
            "Example output: aita for not wanting to hangout with one of my best friends at night? <|endofprompt|> not the asshole <|endofverdict|> aita,best friends,night,hangingout,wanting <|eok|> i’m 20 and in university. on the weekends a lot of people sleep over and hang out with one or two of my best friends on the weekends. \n",
            "\n",
            "there’s one guy, who i haven’t had a good relationship with yet. he’s very insecure, and always says stuff like, “oh he looks like the prettiest girl ever, so it’s not like it’s a big deal” and a bunch of other things like that. my best friend had been seeing this guy before and so she was over. \n",
            "\n",
            "the issue is, he's been in the past 2 nights with him and hasn’t gotten over that. last night she slept on the weekends. it was an extremely awkward night and\n"
          ]
        },
        {
          "name": "stderr",
          "output_type": "stream",
          "text": [
            "Setting `pad_token_id` to `eos_token_id`:50256 for open-end generation.\n"
          ]
        },
        {
          "name": "stdout",
          "output_type": "stream",
          "text": [
            "Batch 13500 of 22500. Loss:2.8016884326934814. Time:1:14:40\n",
            "Example output: aita for breaking a deal with a coworker? <|endofprompt|> not the asshole <|endofverdict|> aita,breaking,deal,coworker <|eok|> my coworker and i are still best friends but she hasn't noticed a new relationship with her (her) coworker. that's a story for another day.\n",
            "\n",
            "two years ago i met her and we started talking about our plans, she was already planning to have her new relationship with me. we ended up having a couple dates and we decided to work it out.\n",
            "\n",
            "i found out when she told me it was going to be a holiday thing and we ended up meeting up for a little bit. i noticed she texted me (i texted her at like midnight) and said that she hasn't seen a new relationship with me in several months, she's still on her last year. i asked why she was still on her first week of this new relationship, she asked why didn't she tell me sooner and i told her not to worry\n"
          ]
        },
        {
          "name": "stderr",
          "output_type": "stream",
          "text": [
            "Setting `pad_token_id` to `eos_token_id`:50256 for open-end generation.\n"
          ]
        },
        {
          "name": "stdout",
          "output_type": "stream",
          "text": [
            "Batch 14000 of 22500. Loss:3.193979024887085. Time:1:17:26\n",
            "Example output: wibta for refusing to give up my seat <|endofprompt|> asshole <|endofverdict|> give,refusing,wibta,seat <|eok|> firstly, i am in a long-time relationship, and so is my boyfriend, and we share the same seat. my boyfriend and i sit for the same reasons:\n",
            "\n",
            "1. we are both a full-time student, but he is a full-time college student. his family lives an hour away, so he works more often, and he spends a lot of time in his office/office building. \n",
            "\n",
            "2. when he's tired in the afternoon/early hours, he'll drop the bag, and that's the end of the day. my boyfriend, normally a big guy and always the same height as me, would be fine with sitting in my seat. i would be totally fine with his attention, so i could sit in his (unpackaged) space, even though i just don't get to sleep comfortably enough for\n"
          ]
        },
        {
          "name": "stderr",
          "output_type": "stream",
          "text": [
            "Setting `pad_token_id` to `eos_token_id`:50256 for open-end generation.\n"
          ]
        },
        {
          "name": "stdout",
          "output_type": "stream",
          "text": [
            "Batch 14500 of 22500. Loss:1.511335849761963. Time:1:20:11\n",
            "Example output: aita for being upset with my boyfriend for making a joke about someone's appearance when he got engaged <|endofprompt|> not the asshole <|endofverdict|> got engaged,joke,aita,upset,boyfriend,fiance,actually,looking <|eok|> so, my boyfriend is from the usa, he's from england. for most of the time he's been dating this girl who i've been dating for a year. the problem is, i met him because he's from england with a really small and nice blue shirt. he is now in another england city where all the girls in england are white and they all like him. a while ago he and i were out of the same place, a little while after we got back home and we headed home. i've tried to be friendly with his friends, but they are just saying he's just joking and making fun of the people in england. \n",
            "\n",
            "i told him that he's making fun of the people in my\n"
          ]
        }
      ],
      "source": [
        "import random\n",
        "import time\n",
        "import datetime\n",
        "\n",
        "def format_time(elapsed):\n",
        "    return str(datetime.timedelta(seconds=int(round((elapsed)))))\n",
        "\n",
        "total_t0 = time.time()\n",
        "\n",
        "training_stats = []\n",
        "\n",
        "model = model.to(device)"
      ]
    },
    {
      "cell_type": "markdown",
      "source": [
        "## TRAINING CELL | DONT RUN FOR GENERATION |"
      ],
      "metadata": {
        "id": "ye4SIYBmOokj"
      }
    },
    {
      "cell_type": "code",
      "source": [
        "for epoch_i in range(0, epochs):\n",
        "\n",
        "    print(f'Beginning epoch {epoch_i + 1} of {epochs}')\n",
        "\n",
        "    t0 = time.time()\n",
        "\n",
        "    total_train_loss = 0\n",
        "\n",
        "    model.train()\n",
        "\n",
        "    for step, batch in enumerate(train_dataloader):\n",
        "\n",
        "        b_input_ids = batch[0].to(device)\n",
        "        b_labels = batch[0].to(device)\n",
        "        b_title = batch[1].to(device)\n",
        "        b_masks = batch[2].to(device)\n",
        "\n",
        "        model.zero_grad()        \n",
        "\n",
        "        outputs = model(  b_input_ids,\n",
        "                          labels=b_labels, \n",
        "                          attention_mask = b_masks,\n",
        "                          token_type_ids=None\n",
        "                        )\n",
        "\n",
        "        loss = outputs[0]  \n",
        "\n",
        "        batch_loss = loss.item()\n",
        "        total_train_loss += batch_loss\n",
        "\n",
        "        # Get sample every 500 batches.\n",
        "        if step % sample_every == 0 and not step == 0:\n",
        "\n",
        "            PATH = \"/content/drive/MyDrive/NLP_Project/modelcheckpoints/keywords_model_1.pt\"\n",
        "            torch.save({\n",
        "                        'step': step,\n",
        "                        'model_state_dict': model.state_dict(),\n",
        "                        'optimizer_state_dict': optimizer.state_dict(),\n",
        "                        }, PATH)    \n",
        "                \n",
        "            elapsed = format_time(time.time() - t0)\n",
        "            print(f'Batch {step} of {len(train_dataloader)}. Loss:{batch_loss}. Time:{elapsed}')\n",
        "\n",
        "            model.eval()\n",
        "            # SAVING MODEL CHECKPOINT EVERY 500 STEPS\n",
        "            sample_outputs = model.generate(\n",
        "                                    input = b_title,\n",
        "                                    do_sample=True,   \n",
        "                                    top_k=50, \n",
        "                                    max_length = 200,\n",
        "                                    top_p=0.95, \n",
        "                                    num_return_sequences=1\n",
        "                                )\n",
        "            for i, sample_output in enumerate(sample_outputs):\n",
        "                  print(f'Example output: {tokenizer.decode(sample_output, skip_special_tokens=True)}')\n",
        "            \n",
        "            model.train()\n",
        "\n",
        "        loss.backward()\n",
        "\n",
        "        optimizer.step()\n",
        "\n",
        "        scheduler.step()\n",
        "\n",
        "    # Calculate the average loss over all of the batches.\n",
        "    avg_train_loss = total_train_loss / len(train_dataloader)       \n",
        "    \n",
        "    # Measure how long this epoch took.\n",
        "    training_time = format_time(time.time() - t0)\n",
        "\n",
        "    print(f'Average Training Loss: {avg_train_loss}. Epoch time: {training_time}')\n",
        "\n",
        "    t0 = time.time()\n",
        "\n",
        "    model.eval()\n",
        "\n",
        "    total_eval_loss = 0\n",
        "    nb_eval_steps = 0\n",
        "\n",
        "    # Evaluate data for one epoch\n",
        "    for batch in validation_dataloader:\n",
        "        \n",
        "        b_input_ids = batch[0].to(device)\n",
        "        b_labels = batch[0].to(device)\n",
        "        b_masks = batch[2].to(device)\n",
        "        \n",
        "        with torch.no_grad():        \n",
        "\n",
        "            outputs  = model(b_input_ids,  \n",
        "                             attention_mask = b_masks,\n",
        "                             labels=b_labels)\n",
        "          \n",
        "            loss = outputs[0]  \n",
        "            \n",
        "        batch_loss = loss.item()\n",
        "        total_eval_loss += batch_loss        \n",
        "\n",
        "    avg_val_loss = total_eval_loss / len(validation_dataloader)\n",
        "    \n",
        "    validation_time = format_time(time.time() - t0)    \n",
        "\n",
        "    print(f'Validation loss: {avg_val_loss}. Validation Time: {validation_time}')\n",
        "\n",
        "    # Record all statistics from this epoch.\n",
        "    training_stats.append(\n",
        "        {\n",
        "            'epoch': epoch_i + 1,\n",
        "            'Training Loss': avg_train_loss,\n",
        "            'Valid. Loss': avg_val_loss,\n",
        "            'Training Time': training_time,\n",
        "            'Validation Time': validation_time\n",
        "        }\n",
        "    )\n",
        "\n",
        "print(f'Total training took {format_time(time.time()-total_t0)}')"
      ],
      "metadata": {
        "id": "4-U0u-sFOl55"
      },
      "execution_count": null,
      "outputs": []
    },
    {
      "cell_type": "markdown",
      "source": [
        ""
      ],
      "metadata": {
        "id": "3kkNumJPOwHQ"
      }
    },
    {
      "cell_type": "code",
      "execution_count": null,
      "metadata": {
        "id": "EzJKN_Qqk-vW"
      },
      "outputs": [],
      "source": [
        ""
      ]
    }
  ],
  "metadata": {
    "accelerator": "GPU",
    "colab": {
      "collapsed_sections": [],
      "machine_shape": "hm",
      "name": "key_word_conditioned_generation.ipynb",
      "provenance": []
    },
    "kernelspec": {
      "display_name": "Python 3",
      "name": "python3"
    },
    "language_info": {
      "name": "python"
    },
    "widgets": {
      "application/vnd.jupyter.widget-state+json": {
        "00f9050096c34c56a4fa4361b2a7141d": {
          "model_module": "@jupyter-widgets/controls",
          "model_module_version": "1.5.0",
          "model_name": "DescriptionStyleModel",
          "state": {
            "_model_module": "@jupyter-widgets/controls",
            "_model_module_version": "1.5.0",
            "_model_name": "DescriptionStyleModel",
            "_view_count": null,
            "_view_module": "@jupyter-widgets/base",
            "_view_module_version": "1.2.0",
            "_view_name": "StyleView",
            "description_width": ""
          }
        },
        "02e109273f524809999dfb2736231534": {
          "model_module": "@jupyter-widgets/base",
          "model_module_version": "1.2.0",
          "model_name": "LayoutModel",
          "state": {
            "_model_module": "@jupyter-widgets/base",
            "_model_module_version": "1.2.0",
            "_model_name": "LayoutModel",
            "_view_count": null,
            "_view_module": "@jupyter-widgets/base",
            "_view_module_version": "1.2.0",
            "_view_name": "LayoutView",
            "align_content": null,
            "align_items": null,
            "align_self": null,
            "border": null,
            "bottom": null,
            "display": null,
            "flex": null,
            "flex_flow": null,
            "grid_area": null,
            "grid_auto_columns": null,
            "grid_auto_flow": null,
            "grid_auto_rows": null,
            "grid_column": null,
            "grid_gap": null,
            "grid_row": null,
            "grid_template_areas": null,
            "grid_template_columns": null,
            "grid_template_rows": null,
            "height": null,
            "justify_content": null,
            "justify_items": null,
            "left": null,
            "margin": null,
            "max_height": null,
            "max_width": null,
            "min_height": null,
            "min_width": null,
            "object_fit": null,
            "object_position": null,
            "order": null,
            "overflow": null,
            "overflow_x": null,
            "overflow_y": null,
            "padding": null,
            "right": null,
            "top": null,
            "visibility": null,
            "width": null
          }
        },
        "0b3f2c212d84476b9c99b610742f7f46": {
          "model_module": "@jupyter-widgets/base",
          "model_module_version": "1.2.0",
          "model_name": "LayoutModel",
          "state": {
            "_model_module": "@jupyter-widgets/base",
            "_model_module_version": "1.2.0",
            "_model_name": "LayoutModel",
            "_view_count": null,
            "_view_module": "@jupyter-widgets/base",
            "_view_module_version": "1.2.0",
            "_view_name": "LayoutView",
            "align_content": null,
            "align_items": null,
            "align_self": null,
            "border": null,
            "bottom": null,
            "display": null,
            "flex": null,
            "flex_flow": null,
            "grid_area": null,
            "grid_auto_columns": null,
            "grid_auto_flow": null,
            "grid_auto_rows": null,
            "grid_column": null,
            "grid_gap": null,
            "grid_row": null,
            "grid_template_areas": null,
            "grid_template_columns": null,
            "grid_template_rows": null,
            "height": null,
            "justify_content": null,
            "justify_items": null,
            "left": null,
            "margin": null,
            "max_height": null,
            "max_width": null,
            "min_height": null,
            "min_width": null,
            "object_fit": null,
            "object_position": null,
            "order": null,
            "overflow": null,
            "overflow_x": null,
            "overflow_y": null,
            "padding": null,
            "right": null,
            "top": null,
            "visibility": null,
            "width": null
          }
        },
        "16033307bfd34aed96125faac4eb3ca5": {
          "model_module": "@jupyter-widgets/base",
          "model_module_version": "1.2.0",
          "model_name": "LayoutModel",
          "state": {
            "_model_module": "@jupyter-widgets/base",
            "_model_module_version": "1.2.0",
            "_model_name": "LayoutModel",
            "_view_count": null,
            "_view_module": "@jupyter-widgets/base",
            "_view_module_version": "1.2.0",
            "_view_name": "LayoutView",
            "align_content": null,
            "align_items": null,
            "align_self": null,
            "border": null,
            "bottom": null,
            "display": null,
            "flex": null,
            "flex_flow": null,
            "grid_area": null,
            "grid_auto_columns": null,
            "grid_auto_flow": null,
            "grid_auto_rows": null,
            "grid_column": null,
            "grid_gap": null,
            "grid_row": null,
            "grid_template_areas": null,
            "grid_template_columns": null,
            "grid_template_rows": null,
            "height": null,
            "justify_content": null,
            "justify_items": null,
            "left": null,
            "margin": null,
            "max_height": null,
            "max_width": null,
            "min_height": null,
            "min_width": null,
            "object_fit": null,
            "object_position": null,
            "order": null,
            "overflow": null,
            "overflow_x": null,
            "overflow_y": null,
            "padding": null,
            "right": null,
            "top": null,
            "visibility": null,
            "width": null
          }
        },
        "1d47468ae0ba44129763a4b4ab94f80a": {
          "model_module": "@jupyter-widgets/base",
          "model_module_version": "1.2.0",
          "model_name": "LayoutModel",
          "state": {
            "_model_module": "@jupyter-widgets/base",
            "_model_module_version": "1.2.0",
            "_model_name": "LayoutModel",
            "_view_count": null,
            "_view_module": "@jupyter-widgets/base",
            "_view_module_version": "1.2.0",
            "_view_name": "LayoutView",
            "align_content": null,
            "align_items": null,
            "align_self": null,
            "border": null,
            "bottom": null,
            "display": null,
            "flex": null,
            "flex_flow": null,
            "grid_area": null,
            "grid_auto_columns": null,
            "grid_auto_flow": null,
            "grid_auto_rows": null,
            "grid_column": null,
            "grid_gap": null,
            "grid_row": null,
            "grid_template_areas": null,
            "grid_template_columns": null,
            "grid_template_rows": null,
            "height": null,
            "justify_content": null,
            "justify_items": null,
            "left": null,
            "margin": null,
            "max_height": null,
            "max_width": null,
            "min_height": null,
            "min_width": null,
            "object_fit": null,
            "object_position": null,
            "order": null,
            "overflow": null,
            "overflow_x": null,
            "overflow_y": null,
            "padding": null,
            "right": null,
            "top": null,
            "visibility": null,
            "width": null
          }
        },
        "1e7d9a81e1bb403b9f7f580873db520f": {
          "model_module": "@jupyter-widgets/controls",
          "model_module_version": "1.5.0",
          "model_name": "HTMLModel",
          "state": {
            "_dom_classes": [],
            "_model_module": "@jupyter-widgets/controls",
            "_model_module_version": "1.5.0",
            "_model_name": "HTMLModel",
            "_view_count": null,
            "_view_module": "@jupyter-widgets/controls",
            "_view_module_version": "1.5.0",
            "_view_name": "HTMLView",
            "description": "",
            "description_tooltip": null,
            "layout": "IPY_MODEL_8aafeee9ee5c454a92524e02294607bc",
            "placeholder": "​",
            "style": "IPY_MODEL_00f9050096c34c56a4fa4361b2a7141d",
            "value": "Downloading: 100%"
          }
        },
        "20bcde8adbc64ff4a75d6f72e0effdc1": {
          "model_module": "@jupyter-widgets/base",
          "model_module_version": "1.2.0",
          "model_name": "LayoutModel",
          "state": {
            "_model_module": "@jupyter-widgets/base",
            "_model_module_version": "1.2.0",
            "_model_name": "LayoutModel",
            "_view_count": null,
            "_view_module": "@jupyter-widgets/base",
            "_view_module_version": "1.2.0",
            "_view_name": "LayoutView",
            "align_content": null,
            "align_items": null,
            "align_self": null,
            "border": null,
            "bottom": null,
            "display": null,
            "flex": null,
            "flex_flow": null,
            "grid_area": null,
            "grid_auto_columns": null,
            "grid_auto_flow": null,
            "grid_auto_rows": null,
            "grid_column": null,
            "grid_gap": null,
            "grid_row": null,
            "grid_template_areas": null,
            "grid_template_columns": null,
            "grid_template_rows": null,
            "height": null,
            "justify_content": null,
            "justify_items": null,
            "left": null,
            "margin": null,
            "max_height": null,
            "max_width": null,
            "min_height": null,
            "min_width": null,
            "object_fit": null,
            "object_position": null,
            "order": null,
            "overflow": null,
            "overflow_x": null,
            "overflow_y": null,
            "padding": null,
            "right": null,
            "top": null,
            "visibility": null,
            "width": null
          }
        },
        "2fc19c3d3e494675a0a2ec46f1177041": {
          "model_module": "@jupyter-widgets/controls",
          "model_module_version": "1.5.0",
          "model_name": "DescriptionStyleModel",
          "state": {
            "_model_module": "@jupyter-widgets/controls",
            "_model_module_version": "1.5.0",
            "_model_name": "DescriptionStyleModel",
            "_view_count": null,
            "_view_module": "@jupyter-widgets/base",
            "_view_module_version": "1.2.0",
            "_view_name": "StyleView",
            "description_width": ""
          }
        },
        "44230a96e0b643088f6e71c4843e0aef": {
          "model_module": "@jupyter-widgets/controls",
          "model_module_version": "1.5.0",
          "model_name": "HTMLModel",
          "state": {
            "_dom_classes": [],
            "_model_module": "@jupyter-widgets/controls",
            "_model_module_version": "1.5.0",
            "_model_name": "HTMLModel",
            "_view_count": null,
            "_view_module": "@jupyter-widgets/controls",
            "_view_module_version": "1.5.0",
            "_view_name": "HTMLView",
            "description": "",
            "description_tooltip": null,
            "layout": "IPY_MODEL_cd841380135849489f99ef106664d080",
            "placeholder": "​",
            "style": "IPY_MODEL_f17d796638ae4626956053c2b8c1f814",
            "value": " 446k/446k [00:00&lt;00:00, 9.71MB/s]"
          }
        },
        "49ea56bc4c0a4e1da237a886b35812b3": {
          "model_module": "@jupyter-widgets/controls",
          "model_module_version": "1.5.0",
          "model_name": "ProgressStyleModel",
          "state": {
            "_model_module": "@jupyter-widgets/controls",
            "_model_module_version": "1.5.0",
            "_model_name": "ProgressStyleModel",
            "_view_count": null,
            "_view_module": "@jupyter-widgets/base",
            "_view_module_version": "1.2.0",
            "_view_name": "StyleView",
            "bar_color": null,
            "description_width": ""
          }
        },
        "4e57786168da4c8395918439cc41d093": {
          "model_module": "@jupyter-widgets/base",
          "model_module_version": "1.2.0",
          "model_name": "LayoutModel",
          "state": {
            "_model_module": "@jupyter-widgets/base",
            "_model_module_version": "1.2.0",
            "_model_name": "LayoutModel",
            "_view_count": null,
            "_view_module": "@jupyter-widgets/base",
            "_view_module_version": "1.2.0",
            "_view_name": "LayoutView",
            "align_content": null,
            "align_items": null,
            "align_self": null,
            "border": null,
            "bottom": null,
            "display": null,
            "flex": null,
            "flex_flow": null,
            "grid_area": null,
            "grid_auto_columns": null,
            "grid_auto_flow": null,
            "grid_auto_rows": null,
            "grid_column": null,
            "grid_gap": null,
            "grid_row": null,
            "grid_template_areas": null,
            "grid_template_columns": null,
            "grid_template_rows": null,
            "height": null,
            "justify_content": null,
            "justify_items": null,
            "left": null,
            "margin": null,
            "max_height": null,
            "max_width": null,
            "min_height": null,
            "min_width": null,
            "object_fit": null,
            "object_position": null,
            "order": null,
            "overflow": null,
            "overflow_x": null,
            "overflow_y": null,
            "padding": null,
            "right": null,
            "top": null,
            "visibility": null,
            "width": null
          }
        },
        "4f5706c2002a4054818af56860364a1b": {
          "model_module": "@jupyter-widgets/controls",
          "model_module_version": "1.5.0",
          "model_name": "HTMLModel",
          "state": {
            "_dom_classes": [],
            "_model_module": "@jupyter-widgets/controls",
            "_model_module_version": "1.5.0",
            "_model_name": "HTMLModel",
            "_view_count": null,
            "_view_module": "@jupyter-widgets/controls",
            "_view_module_version": "1.5.0",
            "_view_name": "HTMLView",
            "description": "",
            "description_tooltip": null,
            "layout": "IPY_MODEL_5490f2df4e9249628c884a792ea2f224",
            "placeholder": "​",
            "style": "IPY_MODEL_7d9b31ff807f41c08f1a75dd11135906",
            "value": " 665/665 [00:00&lt;00:00, 23.1kB/s]"
          }
        },
        "50f17e57bd654716a1408009aad43317": {
          "model_module": "@jupyter-widgets/controls",
          "model_module_version": "1.5.0",
          "model_name": "FloatProgressModel",
          "state": {
            "_dom_classes": [],
            "_model_module": "@jupyter-widgets/controls",
            "_model_module_version": "1.5.0",
            "_model_name": "FloatProgressModel",
            "_view_count": null,
            "_view_module": "@jupyter-widgets/controls",
            "_view_module_version": "1.5.0",
            "_view_name": "ProgressView",
            "bar_style": "success",
            "description": "",
            "description_tooltip": null,
            "layout": "IPY_MODEL_20bcde8adbc64ff4a75d6f72e0effdc1",
            "max": 665,
            "min": 0,
            "orientation": "horizontal",
            "style": "IPY_MODEL_5bdbe66f32b945d4915a2889a0271dca",
            "value": 665
          }
        },
        "530a8d35e76c41ea88e25e8ed88e5205": {
          "model_module": "@jupyter-widgets/base",
          "model_module_version": "1.2.0",
          "model_name": "LayoutModel",
          "state": {
            "_model_module": "@jupyter-widgets/base",
            "_model_module_version": "1.2.0",
            "_model_name": "LayoutModel",
            "_view_count": null,
            "_view_module": "@jupyter-widgets/base",
            "_view_module_version": "1.2.0",
            "_view_name": "LayoutView",
            "align_content": null,
            "align_items": null,
            "align_self": null,
            "border": null,
            "bottom": null,
            "display": null,
            "flex": null,
            "flex_flow": null,
            "grid_area": null,
            "grid_auto_columns": null,
            "grid_auto_flow": null,
            "grid_auto_rows": null,
            "grid_column": null,
            "grid_gap": null,
            "grid_row": null,
            "grid_template_areas": null,
            "grid_template_columns": null,
            "grid_template_rows": null,
            "height": null,
            "justify_content": null,
            "justify_items": null,
            "left": null,
            "margin": null,
            "max_height": null,
            "max_width": null,
            "min_height": null,
            "min_width": null,
            "object_fit": null,
            "object_position": null,
            "order": null,
            "overflow": null,
            "overflow_x": null,
            "overflow_y": null,
            "padding": null,
            "right": null,
            "top": null,
            "visibility": null,
            "width": null
          }
        },
        "5371f9d244d049c591e8904c882bf81b": {
          "model_module": "@jupyter-widgets/controls",
          "model_module_version": "1.5.0",
          "model_name": "FloatProgressModel",
          "state": {
            "_dom_classes": [],
            "_model_module": "@jupyter-widgets/controls",
            "_model_module_version": "1.5.0",
            "_model_name": "FloatProgressModel",
            "_view_count": null,
            "_view_module": "@jupyter-widgets/controls",
            "_view_module_version": "1.5.0",
            "_view_name": "ProgressView",
            "bar_style": "success",
            "description": "",
            "description_tooltip": null,
            "layout": "IPY_MODEL_4e57786168da4c8395918439cc41d093",
            "max": 456318,
            "min": 0,
            "orientation": "horizontal",
            "style": "IPY_MODEL_9b40867b40fc45c3bfbe62b1fd0714ed",
            "value": 456318
          }
        },
        "5490f2df4e9249628c884a792ea2f224": {
          "model_module": "@jupyter-widgets/base",
          "model_module_version": "1.2.0",
          "model_name": "LayoutModel",
          "state": {
            "_model_module": "@jupyter-widgets/base",
            "_model_module_version": "1.2.0",
            "_model_name": "LayoutModel",
            "_view_count": null,
            "_view_module": "@jupyter-widgets/base",
            "_view_module_version": "1.2.0",
            "_view_name": "LayoutView",
            "align_content": null,
            "align_items": null,
            "align_self": null,
            "border": null,
            "bottom": null,
            "display": null,
            "flex": null,
            "flex_flow": null,
            "grid_area": null,
            "grid_auto_columns": null,
            "grid_auto_flow": null,
            "grid_auto_rows": null,
            "grid_column": null,
            "grid_gap": null,
            "grid_row": null,
            "grid_template_areas": null,
            "grid_template_columns": null,
            "grid_template_rows": null,
            "height": null,
            "justify_content": null,
            "justify_items": null,
            "left": null,
            "margin": null,
            "max_height": null,
            "max_width": null,
            "min_height": null,
            "min_width": null,
            "object_fit": null,
            "object_position": null,
            "order": null,
            "overflow": null,
            "overflow_x": null,
            "overflow_y": null,
            "padding": null,
            "right": null,
            "top": null,
            "visibility": null,
            "width": null
          }
        },
        "5bdbe66f32b945d4915a2889a0271dca": {
          "model_module": "@jupyter-widgets/controls",
          "model_module_version": "1.5.0",
          "model_name": "ProgressStyleModel",
          "state": {
            "_model_module": "@jupyter-widgets/controls",
            "_model_module_version": "1.5.0",
            "_model_name": "ProgressStyleModel",
            "_view_count": null,
            "_view_module": "@jupyter-widgets/base",
            "_view_module_version": "1.2.0",
            "_view_name": "StyleView",
            "bar_color": null,
            "description_width": ""
          }
        },
        "5f75af92131a490ab682a7cf23d8cfa5": {
          "model_module": "@jupyter-widgets/controls",
          "model_module_version": "1.5.0",
          "model_name": "HTMLModel",
          "state": {
            "_dom_classes": [],
            "_model_module": "@jupyter-widgets/controls",
            "_model_module_version": "1.5.0",
            "_model_name": "HTMLModel",
            "_view_count": null,
            "_view_module": "@jupyter-widgets/controls",
            "_view_module_version": "1.5.0",
            "_view_name": "HTMLView",
            "description": "",
            "description_tooltip": null,
            "layout": "IPY_MODEL_02e109273f524809999dfb2736231534",
            "placeholder": "​",
            "style": "IPY_MODEL_ab5eef8a22f84622ba054d78f59a46af",
            "value": "Downloading: 100%"
          }
        },
        "617f58031b4a4921810dd995d1d1b44f": {
          "model_module": "@jupyter-widgets/base",
          "model_module_version": "1.2.0",
          "model_name": "LayoutModel",
          "state": {
            "_model_module": "@jupyter-widgets/base",
            "_model_module_version": "1.2.0",
            "_model_name": "LayoutModel",
            "_view_count": null,
            "_view_module": "@jupyter-widgets/base",
            "_view_module_version": "1.2.0",
            "_view_name": "LayoutView",
            "align_content": null,
            "align_items": null,
            "align_self": null,
            "border": null,
            "bottom": null,
            "display": null,
            "flex": null,
            "flex_flow": null,
            "grid_area": null,
            "grid_auto_columns": null,
            "grid_auto_flow": null,
            "grid_auto_rows": null,
            "grid_column": null,
            "grid_gap": null,
            "grid_row": null,
            "grid_template_areas": null,
            "grid_template_columns": null,
            "grid_template_rows": null,
            "height": null,
            "justify_content": null,
            "justify_items": null,
            "left": null,
            "margin": null,
            "max_height": null,
            "max_width": null,
            "min_height": null,
            "min_width": null,
            "object_fit": null,
            "object_position": null,
            "order": null,
            "overflow": null,
            "overflow_x": null,
            "overflow_y": null,
            "padding": null,
            "right": null,
            "top": null,
            "visibility": null,
            "width": null
          }
        },
        "642708406418416ea1fe47829b7e5c62": {
          "model_module": "@jupyter-widgets/controls",
          "model_module_version": "1.5.0",
          "model_name": "FloatProgressModel",
          "state": {
            "_dom_classes": [],
            "_model_module": "@jupyter-widgets/controls",
            "_model_module_version": "1.5.0",
            "_model_name": "FloatProgressModel",
            "_view_count": null,
            "_view_module": "@jupyter-widgets/controls",
            "_view_module_version": "1.5.0",
            "_view_name": "ProgressView",
            "bar_style": "success",
            "description": "",
            "description_tooltip": null,
            "layout": "IPY_MODEL_daf0078fa51b4d8783edc5337a5cc99a",
            "max": 1042301,
            "min": 0,
            "orientation": "horizontal",
            "style": "IPY_MODEL_49ea56bc4c0a4e1da237a886b35812b3",
            "value": 1042301
          }
        },
        "67a3ff5cc5ff4578b11bd45493d234cf": {
          "model_module": "@jupyter-widgets/controls",
          "model_module_version": "1.5.0",
          "model_name": "DescriptionStyleModel",
          "state": {
            "_model_module": "@jupyter-widgets/controls",
            "_model_module_version": "1.5.0",
            "_model_name": "DescriptionStyleModel",
            "_view_count": null,
            "_view_module": "@jupyter-widgets/base",
            "_view_module_version": "1.2.0",
            "_view_name": "StyleView",
            "description_width": ""
          }
        },
        "6b2bba97aa73413298caec90ad60407d": {
          "model_module": "@jupyter-widgets/controls",
          "model_module_version": "1.5.0",
          "model_name": "HBoxModel",
          "state": {
            "_dom_classes": [],
            "_model_module": "@jupyter-widgets/controls",
            "_model_module_version": "1.5.0",
            "_model_name": "HBoxModel",
            "_view_count": null,
            "_view_module": "@jupyter-widgets/controls",
            "_view_module_version": "1.5.0",
            "_view_name": "HBoxView",
            "box_style": "",
            "children": [
              "IPY_MODEL_1e7d9a81e1bb403b9f7f580873db520f",
              "IPY_MODEL_5371f9d244d049c591e8904c882bf81b",
              "IPY_MODEL_44230a96e0b643088f6e71c4843e0aef"
            ],
            "layout": "IPY_MODEL_1d47468ae0ba44129763a4b4ab94f80a"
          }
        },
        "6fe9396c9306425c872dfce8f47880e1": {
          "model_module": "@jupyter-widgets/controls",
          "model_module_version": "1.5.0",
          "model_name": "HTMLModel",
          "state": {
            "_dom_classes": [],
            "_model_module": "@jupyter-widgets/controls",
            "_model_module_version": "1.5.0",
            "_model_name": "HTMLModel",
            "_view_count": null,
            "_view_module": "@jupyter-widgets/controls",
            "_view_module_version": "1.5.0",
            "_view_name": "HTMLView",
            "description": "",
            "description_tooltip": null,
            "layout": "IPY_MODEL_16033307bfd34aed96125faac4eb3ca5",
            "placeholder": "​",
            "style": "IPY_MODEL_2fc19c3d3e494675a0a2ec46f1177041",
            "value": " 0.99M/0.99M [00:00&lt;00:00, 14.3MB/s]"
          }
        },
        "7d9b31ff807f41c08f1a75dd11135906": {
          "model_module": "@jupyter-widgets/controls",
          "model_module_version": "1.5.0",
          "model_name": "DescriptionStyleModel",
          "state": {
            "_model_module": "@jupyter-widgets/controls",
            "_model_module_version": "1.5.0",
            "_model_name": "DescriptionStyleModel",
            "_view_count": null,
            "_view_module": "@jupyter-widgets/base",
            "_view_module_version": "1.2.0",
            "_view_name": "StyleView",
            "description_width": ""
          }
        },
        "8aafeee9ee5c454a92524e02294607bc": {
          "model_module": "@jupyter-widgets/base",
          "model_module_version": "1.2.0",
          "model_name": "LayoutModel",
          "state": {
            "_model_module": "@jupyter-widgets/base",
            "_model_module_version": "1.2.0",
            "_model_name": "LayoutModel",
            "_view_count": null,
            "_view_module": "@jupyter-widgets/base",
            "_view_module_version": "1.2.0",
            "_view_name": "LayoutView",
            "align_content": null,
            "align_items": null,
            "align_self": null,
            "border": null,
            "bottom": null,
            "display": null,
            "flex": null,
            "flex_flow": null,
            "grid_area": null,
            "grid_auto_columns": null,
            "grid_auto_flow": null,
            "grid_auto_rows": null,
            "grid_column": null,
            "grid_gap": null,
            "grid_row": null,
            "grid_template_areas": null,
            "grid_template_columns": null,
            "grid_template_rows": null,
            "height": null,
            "justify_content": null,
            "justify_items": null,
            "left": null,
            "margin": null,
            "max_height": null,
            "max_width": null,
            "min_height": null,
            "min_width": null,
            "object_fit": null,
            "object_position": null,
            "order": null,
            "overflow": null,
            "overflow_x": null,
            "overflow_y": null,
            "padding": null,
            "right": null,
            "top": null,
            "visibility": null,
            "width": null
          }
        },
        "9b40867b40fc45c3bfbe62b1fd0714ed": {
          "model_module": "@jupyter-widgets/controls",
          "model_module_version": "1.5.0",
          "model_name": "ProgressStyleModel",
          "state": {
            "_model_module": "@jupyter-widgets/controls",
            "_model_module_version": "1.5.0",
            "_model_name": "ProgressStyleModel",
            "_view_count": null,
            "_view_module": "@jupyter-widgets/base",
            "_view_module_version": "1.2.0",
            "_view_name": "StyleView",
            "bar_color": null,
            "description_width": ""
          }
        },
        "ab5eef8a22f84622ba054d78f59a46af": {
          "model_module": "@jupyter-widgets/controls",
          "model_module_version": "1.5.0",
          "model_name": "DescriptionStyleModel",
          "state": {
            "_model_module": "@jupyter-widgets/controls",
            "_model_module_version": "1.5.0",
            "_model_name": "DescriptionStyleModel",
            "_view_count": null,
            "_view_module": "@jupyter-widgets/base",
            "_view_module_version": "1.2.0",
            "_view_name": "StyleView",
            "description_width": ""
          }
        },
        "bced8dffa1884fdea0cc38d0c059955d": {
          "model_module": "@jupyter-widgets/controls",
          "model_module_version": "1.5.0",
          "model_name": "HTMLModel",
          "state": {
            "_dom_classes": [],
            "_model_module": "@jupyter-widgets/controls",
            "_model_module_version": "1.5.0",
            "_model_name": "HTMLModel",
            "_view_count": null,
            "_view_module": "@jupyter-widgets/controls",
            "_view_module_version": "1.5.0",
            "_view_name": "HTMLView",
            "description": "",
            "description_tooltip": null,
            "layout": "IPY_MODEL_617f58031b4a4921810dd995d1d1b44f",
            "placeholder": "​",
            "style": "IPY_MODEL_67a3ff5cc5ff4578b11bd45493d234cf",
            "value": "Downloading: 100%"
          }
        },
        "cd841380135849489f99ef106664d080": {
          "model_module": "@jupyter-widgets/base",
          "model_module_version": "1.2.0",
          "model_name": "LayoutModel",
          "state": {
            "_model_module": "@jupyter-widgets/base",
            "_model_module_version": "1.2.0",
            "_model_name": "LayoutModel",
            "_view_count": null,
            "_view_module": "@jupyter-widgets/base",
            "_view_module_version": "1.2.0",
            "_view_name": "LayoutView",
            "align_content": null,
            "align_items": null,
            "align_self": null,
            "border": null,
            "bottom": null,
            "display": null,
            "flex": null,
            "flex_flow": null,
            "grid_area": null,
            "grid_auto_columns": null,
            "grid_auto_flow": null,
            "grid_auto_rows": null,
            "grid_column": null,
            "grid_gap": null,
            "grid_row": null,
            "grid_template_areas": null,
            "grid_template_columns": null,
            "grid_template_rows": null,
            "height": null,
            "justify_content": null,
            "justify_items": null,
            "left": null,
            "margin": null,
            "max_height": null,
            "max_width": null,
            "min_height": null,
            "min_width": null,
            "object_fit": null,
            "object_position": null,
            "order": null,
            "overflow": null,
            "overflow_x": null,
            "overflow_y": null,
            "padding": null,
            "right": null,
            "top": null,
            "visibility": null,
            "width": null
          }
        },
        "da25af539d1940b395b76fa6c977798d": {
          "model_module": "@jupyter-widgets/controls",
          "model_module_version": "1.5.0",
          "model_name": "HBoxModel",
          "state": {
            "_dom_classes": [],
            "_model_module": "@jupyter-widgets/controls",
            "_model_module_version": "1.5.0",
            "_model_name": "HBoxModel",
            "_view_count": null,
            "_view_module": "@jupyter-widgets/controls",
            "_view_module_version": "1.5.0",
            "_view_name": "HBoxView",
            "box_style": "",
            "children": [
              "IPY_MODEL_bced8dffa1884fdea0cc38d0c059955d",
              "IPY_MODEL_642708406418416ea1fe47829b7e5c62",
              "IPY_MODEL_6fe9396c9306425c872dfce8f47880e1"
            ],
            "layout": "IPY_MODEL_0b3f2c212d84476b9c99b610742f7f46"
          }
        },
        "daf0078fa51b4d8783edc5337a5cc99a": {
          "model_module": "@jupyter-widgets/base",
          "model_module_version": "1.2.0",
          "model_name": "LayoutModel",
          "state": {
            "_model_module": "@jupyter-widgets/base",
            "_model_module_version": "1.2.0",
            "_model_name": "LayoutModel",
            "_view_count": null,
            "_view_module": "@jupyter-widgets/base",
            "_view_module_version": "1.2.0",
            "_view_name": "LayoutView",
            "align_content": null,
            "align_items": null,
            "align_self": null,
            "border": null,
            "bottom": null,
            "display": null,
            "flex": null,
            "flex_flow": null,
            "grid_area": null,
            "grid_auto_columns": null,
            "grid_auto_flow": null,
            "grid_auto_rows": null,
            "grid_column": null,
            "grid_gap": null,
            "grid_row": null,
            "grid_template_areas": null,
            "grid_template_columns": null,
            "grid_template_rows": null,
            "height": null,
            "justify_content": null,
            "justify_items": null,
            "left": null,
            "margin": null,
            "max_height": null,
            "max_width": null,
            "min_height": null,
            "min_width": null,
            "object_fit": null,
            "object_position": null,
            "order": null,
            "overflow": null,
            "overflow_x": null,
            "overflow_y": null,
            "padding": null,
            "right": null,
            "top": null,
            "visibility": null,
            "width": null
          }
        },
        "df965407d8e942748382295618b057d2": {
          "model_module": "@jupyter-widgets/controls",
          "model_module_version": "1.5.0",
          "model_name": "HBoxModel",
          "state": {
            "_dom_classes": [],
            "_model_module": "@jupyter-widgets/controls",
            "_model_module_version": "1.5.0",
            "_model_name": "HBoxModel",
            "_view_count": null,
            "_view_module": "@jupyter-widgets/controls",
            "_view_module_version": "1.5.0",
            "_view_name": "HBoxView",
            "box_style": "",
            "children": [
              "IPY_MODEL_5f75af92131a490ab682a7cf23d8cfa5",
              "IPY_MODEL_50f17e57bd654716a1408009aad43317",
              "IPY_MODEL_4f5706c2002a4054818af56860364a1b"
            ],
            "layout": "IPY_MODEL_530a8d35e76c41ea88e25e8ed88e5205"
          }
        },
        "f17d796638ae4626956053c2b8c1f814": {
          "model_module": "@jupyter-widgets/controls",
          "model_module_version": "1.5.0",
          "model_name": "DescriptionStyleModel",
          "state": {
            "_model_module": "@jupyter-widgets/controls",
            "_model_module_version": "1.5.0",
            "_model_name": "DescriptionStyleModel",
            "_view_count": null,
            "_view_module": "@jupyter-widgets/base",
            "_view_module_version": "1.2.0",
            "_view_name": "StyleView",
            "description_width": ""
          }
        }
      }
    }
  },
  "nbformat": 4,
  "nbformat_minor": 0
}